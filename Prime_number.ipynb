{
  "nbformat": 4,
  "nbformat_minor": 0,
  "metadata": {
    "colab": {
      "name": "Prime number.ipynb",
      "provenance": [],
      "authorship_tag": "ABX9TyMbOELPJWf/KCX6odF1rfZ/",
      "include_colab_link": true
    },
    "kernelspec": {
      "name": "python3",
      "display_name": "Python 3"
    },
    "language_info": {
      "name": "python"
    }
  },
  "cells": [
    {
      "cell_type": "markdown",
      "metadata": {
        "id": "view-in-github",
        "colab_type": "text"
      },
      "source": [
        "<a href=\"https://colab.research.google.com/github/Krithika-Devi/training/blob/main/Prime_number.ipynb\" target=\"_parent\"><img src=\"https://colab.research.google.com/assets/colab-badge.svg\" alt=\"Open In Colab\"/></a>"
      ]
    },
    {
      "cell_type": "markdown",
      "source": [
        "Input a number N,\n",
        "Write a function to check if the number is a Prime number."
      ],
      "metadata": {
        "id": "RmlNA3Bgxoj-"
      }
    },
    {
      "cell_type": "code",
      "source": [
        "def prime_num():\n",
        "  num = int(input(\"Enter a number: \"))\n",
        "  if num > 1:\n",
        "    for i in range(2,num):\n",
        "      if (num%i == 0):\n",
        "        print(\"The number {} is not a prime number\".format(num))\n",
        "        break\n",
        "      else:\n",
        "        print(\"The number {} is a prime number\".format(num))\n",
        "  else:\n",
        "    print(\"The number {} is not a prime number\".format(num))\n"
      ],
      "metadata": {
        "id": "BAP46pEHxqZB"
      },
      "execution_count": 10,
      "outputs": []
    },
    {
      "cell_type": "code",
      "source": [
        "prime_num()"
      ],
      "metadata": {
        "colab": {
          "base_uri": "https://localhost:8080/"
        },
        "id": "tlwpqCN5zZ43",
        "outputId": "2f4db34c-d588-4a9a-fdfe-9eae61277a16"
      },
      "execution_count": 11,
      "outputs": [
        {
          "output_type": "stream",
          "name": "stdout",
          "text": [
            "Enter a number: 6\n",
            "The number 6 is not a prime number\n"
          ]
        }
      ]
    },
    {
      "cell_type": "code",
      "source": [
        "prime_num()"
      ],
      "metadata": {
        "colab": {
          "base_uri": "https://localhost:8080/"
        },
        "id": "Y89DUnvyzfmT",
        "outputId": "f9fe1677-94fe-45f5-8ffc-68ce78610eb3"
      },
      "execution_count": 12,
      "outputs": [
        {
          "output_type": "stream",
          "name": "stdout",
          "text": [
            "Enter a number: 3\n",
            "The number 3 is a prime number\n"
          ]
        }
      ]
    },
    {
      "cell_type": "code",
      "source": [
        ""
      ],
      "metadata": {
        "id": "AGJZ6oHP1ZFv"
      },
      "execution_count": null,
      "outputs": []
    }
  ]
}