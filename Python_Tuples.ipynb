{
  "nbformat": 4,
  "nbformat_minor": 0,
  "metadata": {
    "colab": {
      "name": "Python_Tuples.ipynb",
      "provenance": [],
      "authorship_tag": "ABX9TyNyyxUWhV0+f+/wanshAd9o",
      "include_colab_link": true
    },
    "kernelspec": {
      "name": "python3",
      "display_name": "Python 3"
    },
    "language_info": {
      "name": "python"
    }
  },
  "cells": [
    {
      "cell_type": "markdown",
      "metadata": {
        "id": "view-in-github",
        "colab_type": "text"
      },
      "source": [
        "<a href=\"https://colab.research.google.com/github/Krithika-Devi/training/blob/main/Python_Tuples.ipynb\" target=\"_parent\"><img src=\"https://colab.research.google.com/assets/colab-badge.svg\" alt=\"Open In Colab\"/></a>"
      ]
    },
    {
      "cell_type": "markdown",
      "source": [
        "## **TUPLES**\n",
        "\n",
        "\n",
        "1.   Tuple is a collection which is Ordered and UnChangeable,\n",
        "     i.e., in Tuple, We cannot append, change or remove element.\n",
        "2.   Tuple Allows Duplicate numbers.\n",
        "\n"
      ],
      "metadata": {
        "id": "3vYROyK61UlA"
      }
    },
    {
      "cell_type": "code",
      "source": [
        "dir(tuple)"
      ],
      "metadata": {
        "colab": {
          "base_uri": "https://localhost:8080/"
        },
        "id": "-BSW8ckmUcE7",
        "outputId": "9294bdf2-d4be-45de-907d-4006e216f6eb"
      },
      "execution_count": null,
      "outputs": [
        {
          "output_type": "execute_result",
          "data": {
            "text/plain": [
              "['__add__',\n",
              " '__class__',\n",
              " '__contains__',\n",
              " '__delattr__',\n",
              " '__dir__',\n",
              " '__doc__',\n",
              " '__eq__',\n",
              " '__format__',\n",
              " '__ge__',\n",
              " '__getattribute__',\n",
              " '__getitem__',\n",
              " '__getnewargs__',\n",
              " '__gt__',\n",
              " '__hash__',\n",
              " '__init__',\n",
              " '__init_subclass__',\n",
              " '__iter__',\n",
              " '__le__',\n",
              " '__len__',\n",
              " '__lt__',\n",
              " '__mul__',\n",
              " '__ne__',\n",
              " '__new__',\n",
              " '__reduce__',\n",
              " '__reduce_ex__',\n",
              " '__repr__',\n",
              " '__rmul__',\n",
              " '__setattr__',\n",
              " '__sizeof__',\n",
              " '__str__',\n",
              " '__subclasshook__',\n",
              " 'count',\n",
              " 'index']"
            ]
          },
          "metadata": {},
          "execution_count": 32
        }
      ]
    },
    {
      "cell_type": "code",
      "source": [
        "tupl = (23,'Sam',\"Sam@gmail.com\",'Washington, United States', 24,2.5,24,26,2.8)"
      ],
      "metadata": {
        "id": "7_HxfICW1H4m"
      },
      "execution_count": null,
      "outputs": []
    },
    {
      "cell_type": "markdown",
      "source": [
        "* Length of tuple - Getsting a length of 'tupl'"
      ],
      "metadata": {
        "id": "1EqmzWIy1-gd"
      }
    },
    {
      "cell_type": "code",
      "source": [
        "len(tupl)"
      ],
      "metadata": {
        "colab": {
          "base_uri": "https://localhost:8080/"
        },
        "id": "9sex2T3v14-W",
        "outputId": "3705b90b-967c-467f-d7d4-04731ab80f70"
      },
      "execution_count": null,
      "outputs": [
        {
          "output_type": "execute_result",
          "data": {
            "text/plain": [
              "9"
            ]
          },
          "metadata": {},
          "execution_count": 34
        }
      ]
    },
    {
      "cell_type": "markdown",
      "source": [
        "* **count()** - Counts the number of elements in tuple"
      ],
      "metadata": {
        "id": "r-KMwzlq3lcl"
      }
    },
    {
      "cell_type": "code",
      "source": [
        "tupl.count('Washington, United States')"
      ],
      "metadata": {
        "colab": {
          "base_uri": "https://localhost:8080/"
        },
        "id": "xwrBsrh22Ffq",
        "outputId": "e410375b-c2be-42f3-8719-968563073f62"
      },
      "execution_count": null,
      "outputs": [
        {
          "output_type": "execute_result",
          "data": {
            "text/plain": [
              "1"
            ]
          },
          "metadata": {},
          "execution_count": 35
        }
      ]
    },
    {
      "cell_type": "code",
      "source": [
        "tupl.count(24)"
      ],
      "metadata": {
        "colab": {
          "base_uri": "https://localhost:8080/"
        },
        "id": "LaCQdtNd2OJ9",
        "outputId": "7a6cd0c8-690e-404b-8ac4-72bb747f9730"
      },
      "execution_count": null,
      "outputs": [
        {
          "output_type": "execute_result",
          "data": {
            "text/plain": [
              "2"
            ]
          },
          "metadata": {},
          "execution_count": 36
        }
      ]
    },
    {
      "cell_type": "markdown",
      "source": [
        "\n",
        "> *Since, tuple cannot be appended to a new element, I'm appending the new elements by creating another tuple and adding these two tuples to one more new (third) tuple.*\n",
        "\n"
      ],
      "metadata": {
        "id": "vkA2kCl64cpg"
      }
    },
    {
      "cell_type": "code",
      "source": [
        "print(tupl)"
      ],
      "metadata": {
        "colab": {
          "base_uri": "https://localhost:8080/"
        },
        "id": "B8pnlHin3j4L",
        "outputId": "2040478a-cb44-4f84-8b6a-b2e89fcf8058"
      },
      "execution_count": null,
      "outputs": [
        {
          "output_type": "stream",
          "name": "stdout",
          "text": [
            "(23, 'Sam', 'Sam@gmail.com', 'Washington, United States', 24, 2.5, 24, 26, 2.8)\n"
          ]
        }
      ]
    },
    {
      "cell_type": "code",
      "source": [
        "tupl2 = (28, 'Krithika', 'krithika@cognizant.com', 'Chennai, India')\n",
        "\n",
        "tupl3 = tupl + tupl2\n",
        "print(tupl3)"
      ],
      "metadata": {
        "colab": {
          "base_uri": "https://localhost:8080/"
        },
        "id": "MGXI-H005B1L",
        "outputId": "fd8f9505-5744-451e-883f-ee94ad72ffd8"
      },
      "execution_count": null,
      "outputs": [
        {
          "output_type": "stream",
          "name": "stdout",
          "text": [
            "(23, 'Sam', 'Sam@gmail.com', 'Washington, United States', 24, 2.5, 24, 26, 2.8, 28, 'Krithika', 'krithika@cognizant.com', 'Chennai, India')\n"
          ]
        }
      ]
    },
    {
      "cell_type": "markdown",
      "source": [
        "* **del** function is to delete the created tuple."
      ],
      "metadata": {
        "id": "JQgSXl646dE9"
      }
    },
    {
      "cell_type": "code",
      "source": [
        "del tupl2"
      ],
      "metadata": {
        "id": "0LsvYp8L6lUq"
      },
      "execution_count": null,
      "outputs": []
    },
    {
      "cell_type": "code",
      "source": [
        "print(tupl2)"
      ],
      "metadata": {
        "colab": {
          "base_uri": "https://localhost:8080/",
          "height": 166
        },
        "id": "QCkvpi6F6qLD",
        "outputId": "6e33a4a3-8ff1-4ebd-8366-5b494e78dc9f"
      },
      "execution_count": null,
      "outputs": [
        {
          "output_type": "error",
          "ename": "NameError",
          "evalue": "ignored",
          "traceback": [
            "\u001b[0;31m---------------------------------------------------------------------------\u001b[0m",
            "\u001b[0;31mNameError\u001b[0m                                 Traceback (most recent call last)",
            "\u001b[0;32m<ipython-input-40-0d13514a562a>\u001b[0m in \u001b[0;36m<module>\u001b[0;34m\u001b[0m\n\u001b[0;32m----> 1\u001b[0;31m \u001b[0mprint\u001b[0m\u001b[0;34m(\u001b[0m\u001b[0mtupl2\u001b[0m\u001b[0;34m)\u001b[0m\u001b[0;34m\u001b[0m\u001b[0;34m\u001b[0m\u001b[0m\n\u001b[0m",
            "\u001b[0;31mNameError\u001b[0m: name 'tupl2' is not defined"
          ]
        }
      ]
    },
    {
      "cell_type": "markdown",
      "source": [
        "* Getting maximum and minimum value in tuple\n",
        "\n",
        "> Using **max()** and **min()** functions to get maximum and minimum value in tuple.\n",
        "\n"
      ],
      "metadata": {
        "id": "tchrHxNm6Acn"
      }
    },
    {
      "cell_type": "code",
      "source": [
        "newtupl = (1,3,8,2,6,4,9,5,10,7)\n",
        "max(newtupl)"
      ],
      "metadata": {
        "colab": {
          "base_uri": "https://localhost:8080/"
        },
        "id": "vqIrIxpt5ixs",
        "outputId": "e6624b33-8531-43d1-9c1b-806e68524eb5"
      },
      "execution_count": null,
      "outputs": [
        {
          "output_type": "execute_result",
          "data": {
            "text/plain": [
              "10"
            ]
          },
          "metadata": {},
          "execution_count": 41
        }
      ]
    },
    {
      "cell_type": "code",
      "source": [
        "min(newtupl)"
      ],
      "metadata": {
        "colab": {
          "base_uri": "https://localhost:8080/"
        },
        "id": "vxz1qMMV6RzA",
        "outputId": "7e33f121-e43a-40ce-e6da-a223f157a50d"
      },
      "execution_count": null,
      "outputs": [
        {
          "output_type": "execute_result",
          "data": {
            "text/plain": [
              "1"
            ]
          },
          "metadata": {},
          "execution_count": 42
        }
      ]
    },
    {
      "cell_type": "markdown",
      "source": [
        "* Sorting the tuple \n",
        "\n",
        "> *   Tuple sorts in ascending order in a default way.\n",
        "\n",
        "\n",
        "> *   To sort in descending order, I'm using ***reverse*** function inside ***sorted*** function.\n",
        "\n",
        "\n",
        "\n",
        "\n"
      ],
      "metadata": {
        "id": "a55S_SzL6-MN"
      }
    },
    {
      "cell_type": "code",
      "source": [
        "asc_tupl = sorted(newtupl)\n",
        "asc_tupl"
      ],
      "metadata": {
        "colab": {
          "base_uri": "https://localhost:8080/"
        },
        "id": "FWRrfuJ76XLA",
        "outputId": "613c8d9b-7609-4444-cb27-1996fbb11c76"
      },
      "execution_count": null,
      "outputs": [
        {
          "output_type": "execute_result",
          "data": {
            "text/plain": [
              "[1, 2, 3, 4, 5, 6, 7, 8, 9, 10]"
            ]
          },
          "metadata": {},
          "execution_count": 43
        }
      ]
    },
    {
      "cell_type": "code",
      "source": [
        "desc_tupl = sorted(newtupl,reverse=True)\n",
        "desc_tupl"
      ],
      "metadata": {
        "colab": {
          "base_uri": "https://localhost:8080/"
        },
        "id": "lvOeIQcp7rDK",
        "outputId": "6ad8919f-bf25-48fd-fb17-f51b4d891807"
      },
      "execution_count": null,
      "outputs": [
        {
          "output_type": "execute_result",
          "data": {
            "text/plain": [
              "[10, 9, 8, 7, 6, 5, 4, 3, 2, 1]"
            ]
          },
          "metadata": {},
          "execution_count": 44
        }
      ]
    },
    {
      "cell_type": "code",
      "source": [
        "print(type(newtupl)) # getting type of 'newtupl' assignment operator"
      ],
      "metadata": {
        "colab": {
          "base_uri": "https://localhost:8080/"
        },
        "id": "htXugBeG8Cet",
        "outputId": "c06b4d6a-7ddf-4a9b-ee4e-627c4a4823b1"
      },
      "execution_count": null,
      "outputs": [
        {
          "output_type": "stream",
          "name": "stdout",
          "text": [
            "<class 'tuple'>\n"
          ]
        }
      ]
    }
  ]
}