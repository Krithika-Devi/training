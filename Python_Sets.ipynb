{
  "nbformat": 4,
  "nbformat_minor": 0,
  "metadata": {
    "colab": {
      "name": "Python_Sets.ipynb",
      "provenance": [],
      "authorship_tag": "ABX9TyMG36zjGixSicXOI/pzo9Uw",
      "include_colab_link": true
    },
    "kernelspec": {
      "name": "python3",
      "display_name": "Python 3"
    },
    "language_info": {
      "name": "python"
    }
  },
  "cells": [
    {
      "cell_type": "markdown",
      "metadata": {
        "id": "view-in-github",
        "colab_type": "text"
      },
      "source": [
        "<a href=\"https://colab.research.google.com/github/Krithika-Devi/training/blob/main/Python_Sets.ipynb\" target=\"_parent\"><img src=\"https://colab.research.google.com/assets/colab-badge.svg\" alt=\"Open In Colab\"/></a>"
      ]
    },
    {
      "cell_type": "markdown",
      "source": [
        "## **Sets**\n",
        "\n",
        "\n",
        "1.   Set is a collection of which is Unordered and Unindexed. It is a collection of Unique elements.\n",
        "2.   Set does not allow Duplicate numbers. \n",
        "\n"
      ],
      "metadata": {
        "id": "7AzYeM2l-j0v"
      }
    },
    {
      "cell_type": "code",
      "source": [
        "dir(set)"
      ],
      "metadata": {
        "colab": {
          "base_uri": "https://localhost:8080/"
        },
        "id": "oT3YoFN8UhYQ",
        "outputId": "6ae3eee8-2fbe-4ec0-a9d1-39b35bdcd048"
      },
      "execution_count": null,
      "outputs": [
        {
          "output_type": "execute_result",
          "data": {
            "text/plain": [
              "['__and__',\n",
              " '__class__',\n",
              " '__contains__',\n",
              " '__delattr__',\n",
              " '__dir__',\n",
              " '__doc__',\n",
              " '__eq__',\n",
              " '__format__',\n",
              " '__ge__',\n",
              " '__getattribute__',\n",
              " '__gt__',\n",
              " '__hash__',\n",
              " '__iand__',\n",
              " '__init__',\n",
              " '__init_subclass__',\n",
              " '__ior__',\n",
              " '__isub__',\n",
              " '__iter__',\n",
              " '__ixor__',\n",
              " '__le__',\n",
              " '__len__',\n",
              " '__lt__',\n",
              " '__ne__',\n",
              " '__new__',\n",
              " '__or__',\n",
              " '__rand__',\n",
              " '__reduce__',\n",
              " '__reduce_ex__',\n",
              " '__repr__',\n",
              " '__ror__',\n",
              " '__rsub__',\n",
              " '__rxor__',\n",
              " '__setattr__',\n",
              " '__sizeof__',\n",
              " '__str__',\n",
              " '__sub__',\n",
              " '__subclasshook__',\n",
              " '__xor__',\n",
              " 'add',\n",
              " 'clear',\n",
              " 'copy',\n",
              " 'difference',\n",
              " 'difference_update',\n",
              " 'discard',\n",
              " 'intersection',\n",
              " 'intersection_update',\n",
              " 'isdisjoint',\n",
              " 'issubset',\n",
              " 'issuperset',\n",
              " 'pop',\n",
              " 'remove',\n",
              " 'symmetric_difference',\n",
              " 'symmetric_difference_update',\n",
              " 'union',\n",
              " 'update']"
            ]
          },
          "metadata": {},
          "execution_count": 46
        }
      ]
    },
    {
      "cell_type": "code",
      "source": [
        "st = {'Germany', 1.64, 'Japan', 2890, 'India','Phillipines','Japan','Europe',2890,1.64,1.64,62,'Europe','India'}"
      ],
      "metadata": {
        "id": "I3Y3iq5n-Quc"
      },
      "execution_count": null,
      "outputs": []
    },
    {
      "cell_type": "code",
      "source": [
        "st"
      ],
      "metadata": {
        "colab": {
          "base_uri": "https://localhost:8080/"
        },
        "id": "-pTmeA4gAHAN",
        "outputId": "db7c67cb-832f-4e3f-e4b5-afd44e9b7f83"
      },
      "execution_count": null,
      "outputs": [
        {
          "output_type": "execute_result",
          "data": {
            "text/plain": [
              "{1.64, 2890, 62, 'Europe', 'Germany', 'India', 'Japan', 'Phillipines'}"
            ]
          },
          "metadata": {},
          "execution_count": 48
        }
      ]
    },
    {
      "cell_type": "markdown",
      "source": [
        "* Adding the element using **add()** function. This helps to add only single element in a set."
      ],
      "metadata": {
        "id": "SnMu5BDYBw4D"
      }
    },
    {
      "cell_type": "code",
      "source": [
        "st.add('Business')"
      ],
      "metadata": {
        "id": "ZUqnDRsLAckK"
      },
      "execution_count": null,
      "outputs": []
    },
    {
      "cell_type": "code",
      "source": [
        "print(st)"
      ],
      "metadata": {
        "colab": {
          "base_uri": "https://localhost:8080/"
        },
        "id": "C_deSQWtAn8s",
        "outputId": "4a1b1670-372c-47e3-c686-c5cfcb835efb"
      },
      "execution_count": null,
      "outputs": [
        {
          "output_type": "stream",
          "name": "stdout",
          "text": [
            "{1.64, 'Business', 2890, 'Phillipines', 'Japan', 'India', 'Europe', 'Germany', 62}\n"
          ]
        }
      ]
    },
    {
      "cell_type": "markdown",
      "source": [
        "* Adding the multiple elements using **update()** function. This helps to add multiple elements in a set."
      ],
      "metadata": {
        "id": "8p6GsGbjCAIx"
      }
    },
    {
      "cell_type": "code",
      "source": [
        "st1=['Cognizant','Google',108,'Google'] \n",
        "st2=[(22,'maths'),(23,'statistics')] \n",
        "st.update(st1,st2) #adding list 'st1' and list containing tuples 'st2'\n",
        "print(st)"
      ],
      "metadata": {
        "colab": {
          "base_uri": "https://localhost:8080/"
        },
        "id": "-Bb9YIGbAspu",
        "outputId": "4c0bda4c-2a76-494a-8e4c-dda7354fa5c9"
      },
      "execution_count": null,
      "outputs": [
        {
          "output_type": "stream",
          "name": "stdout",
          "text": [
            "{1.64, 'Business', 'Cognizant', 2890, 'Phillipines', 108, 'Japan', 'India', (23, 'statistics'), (22, 'maths'), 'Europe', 'Germany', 'Google', 62}\n"
          ]
        }
      ]
    },
    {
      "cell_type": "markdown",
      "source": [
        "* **Union()** method, returns a set that contains all items from the original set, and all items from the specified set(s)."
      ],
      "metadata": {
        "id": "s_ZdlooDErmg"
      }
    },
    {
      "cell_type": "code",
      "source": [
        "s1 = {'a','b',2,'c','d','e','f'}\n",
        "s2 = {'d',4,'e',2,1.14}\n",
        "s3 = s1.union(s2)\n",
        "s3"
      ],
      "metadata": {
        "colab": {
          "base_uri": "https://localhost:8080/"
        },
        "id": "y2yb5oU4CSIs",
        "outputId": "ae7e210b-9025-421f-b3e6-da26754b8054"
      },
      "execution_count": null,
      "outputs": [
        {
          "output_type": "execute_result",
          "data": {
            "text/plain": [
              "{1.14, 2, 4, 'a', 'b', 'c', 'd', 'e', 'f'}"
            ]
          },
          "metadata": {},
          "execution_count": 52
        }
      ]
    },
    {
      "cell_type": "markdown",
      "source": [
        "* **symmetric_difference()** method, returns a set that contains all items from both set, but not the items that are present in both sets."
      ],
      "metadata": {
        "id": "-b9wTtx7G8rb"
      }
    },
    {
      "cell_type": "code",
      "source": [
        "s1 = {'a','b',2,'c','d','e','f'}\n",
        "s2 = {'d',4,'e',2,1.14}\n",
        "s1.symmetric_difference(s2)"
      ],
      "metadata": {
        "colab": {
          "base_uri": "https://localhost:8080/"
        },
        "id": "l3PY7RznG7sa",
        "outputId": "56a48092-af42-4ac7-8b77-cffc6acc3b9b"
      },
      "execution_count": null,
      "outputs": [
        {
          "output_type": "execute_result",
          "data": {
            "text/plain": [
              "{1.14, 4, 'a', 'b', 'c', 'f'}"
            ]
          },
          "metadata": {},
          "execution_count": 53
        }
      ]
    },
    {
      "cell_type": "markdown",
      "source": [
        "* **symmetric_difference_update()** method, updates the original set by removing items that are present in both sets, and inserting the other items."
      ],
      "metadata": {
        "id": "IU30GZ3BFU36"
      }
    },
    {
      "cell_type": "code",
      "source": [
        "s1 = {'a','b',2,'c','d','e','f'}\n",
        "s2 = {'d',4,'e',2,1.14}\n",
        "s1.symmetric_difference_update(s2)\n",
        "s1"
      ],
      "metadata": {
        "colab": {
          "base_uri": "https://localhost:8080/"
        },
        "id": "ucqJmtdJFJcE",
        "outputId": "aa753260-56e9-4206-c4a5-10cc6e5750ff"
      },
      "execution_count": null,
      "outputs": [
        {
          "output_type": "execute_result",
          "data": {
            "text/plain": [
              "{1.14, 4, 'a', 'b', 'c', 'f'}"
            ]
          },
          "metadata": {},
          "execution_count": 54
        }
      ]
    },
    {
      "cell_type": "markdown",
      "source": [
        "* **remove()** method, removes the specified element from the set."
      ],
      "metadata": {
        "id": "OhsTxW9KHmXf"
      }
    },
    {
      "cell_type": "code",
      "source": [
        "st1={'Cognizant','Google',108,'Google'}\n",
        "st1.remove('Google')\n",
        "st1"
      ],
      "metadata": {
        "colab": {
          "base_uri": "https://localhost:8080/"
        },
        "id": "0VxeXEACG4ay",
        "outputId": "b0ffb26a-8565-43a2-d512-63f1bc90e2bc"
      },
      "execution_count": null,
      "outputs": [
        {
          "output_type": "execute_result",
          "data": {
            "text/plain": [
              "{108, 'Cognizant'}"
            ]
          },
          "metadata": {},
          "execution_count": 55
        }
      ]
    },
    {
      "cell_type": "code",
      "source": [
        "st2=[(22,'maths'),(23,'statistics')] #list contatins tuple element.\n",
        "                                     #Thus, removing specified tuple element in a list.\n",
        "st2.remove((22,'maths'))\n",
        "st2"
      ],
      "metadata": {
        "colab": {
          "base_uri": "https://localhost:8080/"
        },
        "id": "sup7IMB0IJrb",
        "outputId": "db2fb12f-27a2-44ac-a414-a1b385609ac9"
      },
      "execution_count": null,
      "outputs": [
        {
          "output_type": "execute_result",
          "data": {
            "text/plain": [
              "[(23, 'statistics')]"
            ]
          },
          "metadata": {},
          "execution_count": 56
        }
      ]
    },
    {
      "cell_type": "markdown",
      "source": [
        "* Using **discard()** method, we remove the specified item from the set.\n",
        "\n",
        "*This method is different from the **remove()** method, because the **remove()** method will raise an error if the specified item does not exist, and the **discard()** method will not.*"
      ],
      "metadata": {
        "id": "NdS0j8zHK3Dt"
      }
    },
    {
      "cell_type": "code",
      "source": [
        "st1={'Cognizant','Google',108,'Google'}\n",
        "st1.discard('Google')\n",
        "st1"
      ],
      "metadata": {
        "colab": {
          "base_uri": "https://localhost:8080/"
        },
        "id": "DvTIIyqALJ0a",
        "outputId": "ab510124-e369-4747-927d-b2c0bc9972f3"
      },
      "execution_count": null,
      "outputs": [
        {
          "output_type": "execute_result",
          "data": {
            "text/plain": [
              "{108, 'Cognizant'}"
            ]
          },
          "metadata": {},
          "execution_count": 57
        }
      ]
    },
    {
      "cell_type": "code",
      "source": [
        "st1.discard(128)\n",
        "st1"
      ],
      "metadata": {
        "colab": {
          "base_uri": "https://localhost:8080/"
        },
        "id": "v-Kl_2LXLcz1",
        "outputId": "e3417ced-a725-4c20-86c3-536de199f1fe"
      },
      "execution_count": null,
      "outputs": [
        {
          "output_type": "execute_result",
          "data": {
            "text/plain": [
              "{108, 'Cognizant'}"
            ]
          },
          "metadata": {},
          "execution_count": 58
        }
      ]
    },
    {
      "cell_type": "code",
      "source": [
        "st1.remove(128)"
      ],
      "metadata": {
        "colab": {
          "base_uri": "https://localhost:8080/",
          "height": 166
        },
        "id": "XuxPp8iTLkkK",
        "outputId": "adc3b260-3ad6-497c-8f6a-b19979c3210e"
      },
      "execution_count": null,
      "outputs": [
        {
          "output_type": "error",
          "ename": "KeyError",
          "evalue": "ignored",
          "traceback": [
            "\u001b[0;31m---------------------------------------------------------------------------\u001b[0m",
            "\u001b[0;31mKeyError\u001b[0m                                  Traceback (most recent call last)",
            "\u001b[0;32m<ipython-input-59-824c808e2d64>\u001b[0m in \u001b[0;36m<module>\u001b[0;34m\u001b[0m\n\u001b[0;32m----> 1\u001b[0;31m \u001b[0mst1\u001b[0m\u001b[0;34m.\u001b[0m\u001b[0mremove\u001b[0m\u001b[0;34m(\u001b[0m\u001b[0;36m128\u001b[0m\u001b[0;34m)\u001b[0m\u001b[0;34m\u001b[0m\u001b[0;34m\u001b[0m\u001b[0m\n\u001b[0m",
            "\u001b[0;31mKeyError\u001b[0m: 128"
          ]
        }
      ]
    },
    {
      "cell_type": "markdown",
      "source": [
        "*In below cell, we cannot able to call specified index to get element in a set, since set is a collection of unindexed elements.*"
      ],
      "metadata": {
        "id": "MV2y-tApJOcV"
      }
    },
    {
      "cell_type": "code",
      "source": [
        "s1 = {'a','b',2,'c','d','e','f'}\n",
        "s1[2]"
      ],
      "metadata": {
        "colab": {
          "base_uri": "https://localhost:8080/",
          "height": 183
        },
        "id": "RvgYaa2wIgDJ",
        "outputId": "4d7fa93d-ab6c-4fe6-8de5-b9cbb708ab15"
      },
      "execution_count": null,
      "outputs": [
        {
          "output_type": "error",
          "ename": "TypeError",
          "evalue": "ignored",
          "traceback": [
            "\u001b[0;31m---------------------------------------------------------------------------\u001b[0m",
            "\u001b[0;31mTypeError\u001b[0m                                 Traceback (most recent call last)",
            "\u001b[0;32m<ipython-input-60-d0a2cb98d924>\u001b[0m in \u001b[0;36m<module>\u001b[0;34m\u001b[0m\n\u001b[1;32m      1\u001b[0m \u001b[0ms1\u001b[0m \u001b[0;34m=\u001b[0m \u001b[0;34m{\u001b[0m\u001b[0;34m'a'\u001b[0m\u001b[0;34m,\u001b[0m\u001b[0;34m'b'\u001b[0m\u001b[0;34m,\u001b[0m\u001b[0;36m2\u001b[0m\u001b[0;34m,\u001b[0m\u001b[0;34m'c'\u001b[0m\u001b[0;34m,\u001b[0m\u001b[0;34m'd'\u001b[0m\u001b[0;34m,\u001b[0m\u001b[0;34m'e'\u001b[0m\u001b[0;34m,\u001b[0m\u001b[0;34m'f'\u001b[0m\u001b[0;34m}\u001b[0m\u001b[0;34m\u001b[0m\u001b[0;34m\u001b[0m\u001b[0m\n\u001b[0;32m----> 2\u001b[0;31m \u001b[0ms1\u001b[0m\u001b[0;34m[\u001b[0m\u001b[0;36m2\u001b[0m\u001b[0;34m]\u001b[0m\u001b[0;34m\u001b[0m\u001b[0;34m\u001b[0m\u001b[0m\n\u001b[0m",
            "\u001b[0;31mTypeError\u001b[0m: 'set' object is not subscriptable"
          ]
        }
      ]
    },
    {
      "cell_type": "markdown",
      "source": [
        "* In set, **pop()** method removes a random item from the set. This method removes the removed item."
      ],
      "metadata": {
        "id": "RR1feuf1Jtnj"
      }
    },
    {
      "cell_type": "code",
      "source": [
        "s1 = {('a',4),'b','c','d','e',('f',8)}\n",
        "s1.pop()"
      ],
      "metadata": {
        "colab": {
          "base_uri": "https://localhost:8080/"
        },
        "id": "Pati0UNiJHub",
        "outputId": "a8d9b0c6-6071-492b-f641-499e82bba5a8"
      },
      "execution_count": null,
      "outputs": [
        {
          "output_type": "execute_result",
          "data": {
            "text/plain": [
              "('f', 8)"
            ]
          },
          "metadata": {},
          "execution_count": 61
        }
      ]
    },
    {
      "cell_type": "code",
      "source": [
        "s1"
      ],
      "metadata": {
        "colab": {
          "base_uri": "https://localhost:8080/"
        },
        "id": "kYpCzTeLJ7b3",
        "outputId": "320e3cba-3498-495e-ee51-e125034d6135"
      },
      "execution_count": null,
      "outputs": [
        {
          "output_type": "execute_result",
          "data": {
            "text/plain": [
              "{('a', 4), 'b', 'c', 'd', 'e'}"
            ]
          },
          "metadata": {},
          "execution_count": 62
        }
      ]
    },
    {
      "cell_type": "markdown",
      "source": [
        "* The **copy()** method copies the set."
      ],
      "metadata": {
        "id": "RtoXmYAVMAlL"
      }
    },
    {
      "cell_type": "code",
      "source": [
        "s1 = {('a',4),'b','c','d','e',('f',8)}\n",
        "s1"
      ],
      "metadata": {
        "colab": {
          "base_uri": "https://localhost:8080/"
        },
        "id": "rLf-87egKE7F",
        "outputId": "6bcad43d-2c2b-4716-ffa2-b56182d14f98"
      },
      "execution_count": null,
      "outputs": [
        {
          "output_type": "execute_result",
          "data": {
            "text/plain": [
              "{('a', 4), ('f', 8), 'b', 'c', 'd', 'e'}"
            ]
          },
          "metadata": {},
          "execution_count": 63
        }
      ]
    },
    {
      "cell_type": "code",
      "source": [
        "record = s1.copy()\n",
        "record"
      ],
      "metadata": {
        "colab": {
          "base_uri": "https://localhost:8080/"
        },
        "id": "ncVb8Rg9MPKl",
        "outputId": "df4dccad-c832-42a3-e421-85c25e024c19"
      },
      "execution_count": null,
      "outputs": [
        {
          "output_type": "execute_result",
          "data": {
            "text/plain": [
              "{('a', 4), ('f', 8), 'b', 'c', 'd', 'e'}"
            ]
          },
          "metadata": {},
          "execution_count": 64
        }
      ]
    },
    {
      "cell_type": "markdown",
      "source": [
        "* The **difference()** method returns a set that contains the difference between two sets. "
      ],
      "metadata": {
        "id": "CFVoRoRlMvJC"
      }
    },
    {
      "cell_type": "code",
      "source": [
        "s1 = {'a','b',2,'c','d','e','f'}\n",
        "s2 = {'d',4,'e',2,1.14}\n",
        "z = s2.difference(s1) # returns 's2' value that are not in 's1'\n",
        "z"
      ],
      "metadata": {
        "colab": {
          "base_uri": "https://localhost:8080/"
        },
        "id": "f0r5yAXgMfzZ",
        "outputId": "d6fcfcba-42f7-4d14-d239-601b6720998a"
      },
      "execution_count": null,
      "outputs": [
        {
          "output_type": "execute_result",
          "data": {
            "text/plain": [
              "{1.14, 4}"
            ]
          },
          "metadata": {},
          "execution_count": 65
        }
      ]
    },
    {
      "cell_type": "markdown",
      "source": [
        "* The **difference_update()** method removes the items that exist in both sets.\n",
        "\n",
        "*The **difference_update()** method is different from the **difference() method**, because the **difference()** method returns a new set, without the unwanted items, and the **difference_update()** method removes the unwanted items from the original set.*"
      ],
      "metadata": {
        "id": "pZaUd8yYNYA8"
      }
    },
    {
      "cell_type": "code",
      "source": [
        "x = {'a','b','c'}\n",
        "y = {'c','d','e','f'}\n",
        "x.difference_update(y) # returns 's2' value that are not in 's1'\n",
        "print(x)"
      ],
      "metadata": {
        "colab": {
          "base_uri": "https://localhost:8080/"
        },
        "id": "7h7pIAXBNI_b",
        "outputId": "a304873d-e46d-4c5a-af78-b020a4de8029"
      },
      "execution_count": null,
      "outputs": [
        {
          "output_type": "stream",
          "name": "stdout",
          "text": [
            "{'b', 'a'}\n"
          ]
        }
      ]
    },
    {
      "cell_type": "markdown",
      "source": [
        "* The **intersection()** method returns a set that contains only items that exist in both sets, or in all sets if the comparison is done with more than two sets.\n",
        "\n"
      ],
      "metadata": {
        "id": "QAfz3ZTCO7m-"
      }
    },
    {
      "cell_type": "code",
      "source": [
        "s1 = {'a','b',2,'c','d','e','f'}\n",
        "s2 = {'d',4,'e',2,1.14}\n",
        "s3 = {'a',2,'c','e'}\n",
        "result = s1.intersection(s2, s3)\n",
        "\n",
        "print(result)"
      ],
      "metadata": {
        "colab": {
          "base_uri": "https://localhost:8080/"
        },
        "id": "JaWJJ5qWNhIS",
        "outputId": "c8eee48a-acd8-416d-dc07-5b4263c42ca5"
      },
      "execution_count": null,
      "outputs": [
        {
          "output_type": "stream",
          "name": "stdout",
          "text": [
            "{'e', 2}\n"
          ]
        }
      ]
    },
    {
      "cell_type": "markdown",
      "source": [
        "* The **intersection_update()** method removes the items that is not present in both sets (or in all sets if the comparison is done between more than two sets).\n",
        "\n",
        "*The **intersection_update()** method is different from the **intersection() method**, because the **intersection()** method returns a new set, without the unwanted items, and the **intersection_update()** method removes the unwanted items from the original set.*"
      ],
      "metadata": {
        "id": "t30dewZqPnBm"
      }
    },
    {
      "cell_type": "code",
      "source": [
        "s1 = {'a','b',2}\n",
        "s3 = {'a',2,'z'}\n",
        "s1.intersection_update(s3)\n",
        "s1"
      ],
      "metadata": {
        "colab": {
          "base_uri": "https://localhost:8080/"
        },
        "id": "VDaoXynyPWeD",
        "outputId": "a08e1750-04c4-453d-cc42-952cedc31671"
      },
      "execution_count": null,
      "outputs": [
        {
          "output_type": "execute_result",
          "data": {
            "text/plain": [
              "{2, 'a'}"
            ]
          },
          "metadata": {},
          "execution_count": 68
        }
      ]
    },
    {
      "cell_type": "markdown",
      "source": [
        "* The **isdisjoint()** method returns True if none of the items are present in both sets, otherwise it returns False."
      ],
      "metadata": {
        "id": "JDk_GZGgRZRM"
      }
    },
    {
      "cell_type": "code",
      "source": [
        "st1 = {'Cognizant','Infosys','The Math Company'}\n",
        "st2 = {'Google','Microsoft','Amazon'}\n",
        "st1.isdisjoint(st2)"
      ],
      "metadata": {
        "colab": {
          "base_uri": "https://localhost:8080/"
        },
        "id": "zUyg21gVP9sf",
        "outputId": "3ccb98a8-2f84-4a30-e760-09a2d19b6104"
      },
      "execution_count": null,
      "outputs": [
        {
          "output_type": "execute_result",
          "data": {
            "text/plain": [
              "True"
            ]
          },
          "metadata": {},
          "execution_count": 69
        }
      ]
    },
    {
      "cell_type": "code",
      "source": [
        "st1 = {'Cognizant','Google','The Math Company'}\n",
        "st2 = {'Google','Microsoft','Amazon'}\n",
        "st1.isdisjoint(st2)"
      ],
      "metadata": {
        "colab": {
          "base_uri": "https://localhost:8080/"
        },
        "id": "eRH__zAfR1dN",
        "outputId": "6d88306f-2242-4443-ebec-175fa2ba4294"
      },
      "execution_count": null,
      "outputs": [
        {
          "output_type": "execute_result",
          "data": {
            "text/plain": [
              "False"
            ]
          },
          "metadata": {},
          "execution_count": 70
        }
      ]
    },
    {
      "cell_type": "markdown",
      "source": [
        "* The **issubset()** method returns True if all items in the set exists in the specified set, otherwise it retuns False."
      ],
      "metadata": {
        "id": "JdsRLFr7SG3p"
      }
    },
    {
      "cell_type": "code",
      "source": [
        "st1 = {'Cognizant','Infosys','The Math Company'}\n",
        "st2 = {'Google','Microsoft','Amazon','Cognizant','Infosys','The Math Company'}\n",
        "st1.issubset(st2)"
      ],
      "metadata": {
        "colab": {
          "base_uri": "https://localhost:8080/"
        },
        "id": "kHm5IgZbR9Q-",
        "outputId": "2f721de3-ae53-4bcf-f32e-2bb4dc75ce2e"
      },
      "execution_count": null,
      "outputs": [
        {
          "output_type": "execute_result",
          "data": {
            "text/plain": [
              "True"
            ]
          },
          "metadata": {},
          "execution_count": 71
        }
      ]
    },
    {
      "cell_type": "markdown",
      "source": [
        "* The **issuperset()** method returns True if all items in the specified set exists in the original set, otherwise it retuns False."
      ],
      "metadata": {
        "id": "l-fs9fKvS7Cb"
      }
    },
    {
      "cell_type": "code",
      "source": [
        "st1 = {'Cognizant','Infosys','The Math Company','Google','Microsoft','Amazon'}\n",
        "st2 = {'Google','Microsoft','Amazon'}\n",
        "st1.issuperset(st2)"
      ],
      "metadata": {
        "colab": {
          "base_uri": "https://localhost:8080/"
        },
        "id": "Q5_TxaDtSSCH",
        "outputId": "0487001e-9618-4cfa-fc88-ae513d0cccd6"
      },
      "execution_count": null,
      "outputs": [
        {
          "output_type": "execute_result",
          "data": {
            "text/plain": [
              "True"
            ]
          },
          "metadata": {},
          "execution_count": 72
        }
      ]
    },
    {
      "cell_type": "markdown",
      "source": [
        "\n",
        "*   Using **clear()** method to delete/clear all the items in the set.\n",
        "\n",
        "\n"
      ],
      "metadata": {
        "id": "wN5qD_zhXO1z"
      }
    },
    {
      "cell_type": "code",
      "source": [
        "st2 = {'Google','Microsoft','Amazon'}\n",
        "st2.clear()\n",
        "st2"
      ],
      "metadata": {
        "colab": {
          "base_uri": "https://localhost:8080/"
        },
        "id": "qlh6F8GSXIsP",
        "outputId": "ad7a50ef-4768-4641-dc30-12fdcbeb605e"
      },
      "execution_count": null,
      "outputs": [
        {
          "output_type": "execute_result",
          "data": {
            "text/plain": [
              "set()"
            ]
          },
          "metadata": {},
          "execution_count": 73
        }
      ]
    }
  ]
}