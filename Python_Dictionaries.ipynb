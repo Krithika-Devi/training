{
  "nbformat": 4,
  "nbformat_minor": 0,
  "metadata": {
    "colab": {
      "name": "Python_Dictionaries.ipynb",
      "provenance": [],
      "authorship_tag": "ABX9TyPcdCvOctwL9xI+sG2aGspZ",
      "include_colab_link": true
    },
    "kernelspec": {
      "name": "python3",
      "display_name": "Python 3"
    },
    "language_info": {
      "name": "python"
    }
  },
  "cells": [
    {
      "cell_type": "markdown",
      "metadata": {
        "id": "view-in-github",
        "colab_type": "text"
      },
      "source": [
        "<a href=\"https://colab.research.google.com/github/Krithika-Devi/training/blob/main/Python_Dictionaries.ipynb\" target=\"_parent\"><img src=\"https://colab.research.google.com/assets/colab-badge.svg\" alt=\"Open In Colab\"/></a>"
      ]
    },
    {
      "cell_type": "markdown",
      "source": [
        "## **Dictionaries**\n",
        "\n",
        "\n",
        "1.   Dictionary is a collection of which is Unordered, Changeable and indexed.\n",
        "2.   Dictionary does not allow Duplicate numbers. \n",
        "\n"
      ],
      "metadata": {
        "id": "ZF4zq4b8TZ-D"
      }
    },
    {
      "cell_type": "code",
      "source": [
        "dir(dict)"
      ],
      "metadata": {
        "colab": {
          "base_uri": "https://localhost:8080/"
        },
        "id": "XALo7XuqTBj4",
        "outputId": "a8ee151a-adbd-44c0-9c52-a53a39b3cddf"
      },
      "execution_count": null,
      "outputs": [
        {
          "output_type": "execute_result",
          "data": {
            "text/plain": [
              "['__class__',\n",
              " '__contains__',\n",
              " '__delattr__',\n",
              " '__delitem__',\n",
              " '__dir__',\n",
              " '__doc__',\n",
              " '__eq__',\n",
              " '__format__',\n",
              " '__ge__',\n",
              " '__getattribute__',\n",
              " '__getitem__',\n",
              " '__gt__',\n",
              " '__hash__',\n",
              " '__init__',\n",
              " '__init_subclass__',\n",
              " '__iter__',\n",
              " '__le__',\n",
              " '__len__',\n",
              " '__lt__',\n",
              " '__ne__',\n",
              " '__new__',\n",
              " '__reduce__',\n",
              " '__reduce_ex__',\n",
              " '__repr__',\n",
              " '__setattr__',\n",
              " '__setitem__',\n",
              " '__sizeof__',\n",
              " '__str__',\n",
              " '__subclasshook__',\n",
              " 'clear',\n",
              " 'copy',\n",
              " 'fromkeys',\n",
              " 'get',\n",
              " 'items',\n",
              " 'keys',\n",
              " 'pop',\n",
              " 'popitem',\n",
              " 'setdefault',\n",
              " 'update',\n",
              " 'values']"
            ]
          },
          "metadata": {},
          "execution_count": 74
        }
      ]
    },
    {
      "cell_type": "markdown",
      "source": [
        "* Indexing"
      ],
      "metadata": {
        "id": "ygd1f43sXpql"
      }
    },
    {
      "cell_type": "code",
      "source": [
        "d = {'Maths':98,'Statistics':89, 9.5:'Soft Skill'}\n",
        "d['Maths']"
      ],
      "metadata": {
        "colab": {
          "base_uri": "https://localhost:8080/"
        },
        "id": "_ZlfCTDXUlXX",
        "outputId": "0aff22a9-7ea6-45ba-f597-a8a3acd18295"
      },
      "execution_count": null,
      "outputs": [
        {
          "output_type": "execute_result",
          "data": {
            "text/plain": [
              "98"
            ]
          },
          "metadata": {},
          "execution_count": 75
        }
      ]
    },
    {
      "cell_type": "code",
      "source": [
        "d['Maths']=85\n",
        "d"
      ],
      "metadata": {
        "colab": {
          "base_uri": "https://localhost:8080/"
        },
        "id": "O13hqntcet7L",
        "outputId": "d17f2cd7-527a-4543-d022-f683bbd564b6"
      },
      "execution_count": null,
      "outputs": [
        {
          "output_type": "execute_result",
          "data": {
            "text/plain": [
              "{'Maths': 85, 'Statistics': 89, 9.5: 'Soft Skill'}"
            ]
          },
          "metadata": {},
          "execution_count": 76
        }
      ]
    },
    {
      "cell_type": "code",
      "source": [
        "d1 = {'Class_1':{'Maths':[98,80,67]},'Class_2':{'Statistics':[89,43,56]}} #getting mark '43' in statistics under Class_2  by indexing.\n",
        "d1['Class_2']['Statistics'][1]"
      ],
      "metadata": {
        "colab": {
          "base_uri": "https://localhost:8080/"
        },
        "id": "lSN6cKTIVUM8",
        "outputId": "9dd499d7-d4c0-4d6b-fbae-74df6e13227e"
      },
      "execution_count": null,
      "outputs": [
        {
          "output_type": "execute_result",
          "data": {
            "text/plain": [
              "43"
            ]
          },
          "metadata": {},
          "execution_count": 77
        }
      ]
    },
    {
      "cell_type": "markdown",
      "source": [
        "* **keys()** - returns a list containing dictionary's keys."
      ],
      "metadata": {
        "id": "BoeOiwGvX7oH"
      }
    },
    {
      "cell_type": "code",
      "source": [
        "d1.keys()"
      ],
      "metadata": {
        "colab": {
          "base_uri": "https://localhost:8080/"
        },
        "id": "izxZDyAzWS7v",
        "outputId": "3a6bdb0f-1d45-4d40-e081-d1cba968c13e"
      },
      "execution_count": null,
      "outputs": [
        {
          "output_type": "execute_result",
          "data": {
            "text/plain": [
              "dict_keys(['Class_1', 'Class_2'])"
            ]
          },
          "metadata": {},
          "execution_count": 78
        }
      ]
    },
    {
      "cell_type": "code",
      "source": [
        "d1.values()"
      ],
      "metadata": {
        "colab": {
          "base_uri": "https://localhost:8080/"
        },
        "id": "GgtgvbxFYKDp",
        "outputId": "0fce4545-2475-46ff-8472-3b7ef99a0424"
      },
      "execution_count": null,
      "outputs": [
        {
          "output_type": "execute_result",
          "data": {
            "text/plain": [
              "dict_values([{'Maths': [98, 80, 67]}, {'Statistics': [89, 43, 56]}])"
            ]
          },
          "metadata": {},
          "execution_count": 79
        }
      ]
    },
    {
      "cell_type": "markdown",
      "source": [
        "* **update()** - inserts the specified items into the dictionary."
      ],
      "metadata": {
        "id": "Vb5SqPpYaeez"
      }
    },
    {
      "cell_type": "code",
      "source": [
        "d = {'Maths':85,'Statistics':89, 9.5:'Soft Skill'}\n",
        "d.update({'Python':95,'Machine Learning':89})\n",
        "print(d)"
      ],
      "metadata": {
        "colab": {
          "base_uri": "https://localhost:8080/"
        },
        "id": "LPpoMY5eYVUE",
        "outputId": "0dcae320-68c8-46dd-a811-c55e27e6a447"
      },
      "execution_count": null,
      "outputs": [
        {
          "output_type": "stream",
          "name": "stdout",
          "text": [
            "{'Maths': 85, 'Statistics': 89, 9.5: 'Soft Skill', 'Python': 95, 'Machine Learning': 89}\n"
          ]
        }
      ]
    },
    {
      "cell_type": "markdown",
      "source": [
        "* **setdefault()** - returns the value of the item with the specified key."
      ],
      "metadata": {
        "id": "YWPYYScwa0lY"
      }
    },
    {
      "cell_type": "code",
      "source": [
        "d.setdefault(9.5,'Python')"
      ],
      "metadata": {
        "colab": {
          "base_uri": "https://localhost:8080/",
          "height": 35
        },
        "id": "kdDYjABkaJ2H",
        "outputId": "f5d04949-95cf-4e91-93ac-0a401964577d"
      },
      "execution_count": null,
      "outputs": [
        {
          "output_type": "execute_result",
          "data": {
            "text/plain": [
              "'Soft Skill'"
            ],
            "application/vnd.google.colaboratory.intrinsic+json": {
              "type": "string"
            }
          },
          "metadata": {},
          "execution_count": 81
        }
      ]
    },
    {
      "cell_type": "markdown",
      "source": [
        "*Since key does not exist in the below cell,it inserts the key, with the specified value.*"
      ],
      "metadata": {
        "id": "nS-ixSGRcfXy"
      }
    },
    {
      "cell_type": "code",
      "source": [
        "d.setdefault('practical',92)"
      ],
      "metadata": {
        "colab": {
          "base_uri": "https://localhost:8080/"
        },
        "id": "jJ0bAi7qbK1J",
        "outputId": "ba4f41a7-6bbb-47e6-f299-94291fbe3bc3"
      },
      "execution_count": null,
      "outputs": [
        {
          "output_type": "execute_result",
          "data": {
            "text/plain": [
              "92"
            ]
          },
          "metadata": {},
          "execution_count": 82
        }
      ]
    },
    {
      "cell_type": "code",
      "source": [
        "print(d)"
      ],
      "metadata": {
        "colab": {
          "base_uri": "https://localhost:8080/"
        },
        "id": "a48WW60wbl_c",
        "outputId": "ae81eb2d-6ccc-4f92-ecb5-480d667e755a"
      },
      "execution_count": null,
      "outputs": [
        {
          "output_type": "stream",
          "name": "stdout",
          "text": [
            "{'Maths': 85, 'Statistics': 89, 9.5: 'Soft Skill', 'Python': 95, 'Machine Learning': 89, 'practical': 92}\n"
          ]
        }
      ]
    },
    {
      "cell_type": "markdown",
      "source": [
        "* **popitem()** - removes the item that was last inserted into the dictionary."
      ],
      "metadata": {
        "id": "UZzLt5T-dIWO"
      }
    },
    {
      "cell_type": "code",
      "source": [
        "d.popitem()"
      ],
      "metadata": {
        "colab": {
          "base_uri": "https://localhost:8080/"
        },
        "id": "iTrTBlnic7sq",
        "outputId": "5f648389-e5e2-4186-f421-980b4172b583"
      },
      "execution_count": null,
      "outputs": [
        {
          "output_type": "execute_result",
          "data": {
            "text/plain": [
              "('practical', 92)"
            ]
          },
          "metadata": {},
          "execution_count": 84
        }
      ]
    },
    {
      "cell_type": "code",
      "source": [
        "print(d)"
      ],
      "metadata": {
        "colab": {
          "base_uri": "https://localhost:8080/"
        },
        "id": "Ag4AifI9dMrV",
        "outputId": "08f39714-b72d-4626-cc9b-11184ab66671"
      },
      "execution_count": null,
      "outputs": [
        {
          "output_type": "stream",
          "name": "stdout",
          "text": [
            "{'Maths': 85, 'Statistics': 89, 9.5: 'Soft Skill', 'Python': 95, 'Machine Learning': 89}\n"
          ]
        }
      ]
    },
    {
      "cell_type": "markdown",
      "source": [
        "* **pop()** removes the specified key item from the dictionary."
      ],
      "metadata": {
        "id": "BNvN5Gf_dfvj"
      }
    },
    {
      "cell_type": "code",
      "source": [
        "d.pop(9.5)\n",
        "print(d)"
      ],
      "metadata": {
        "colab": {
          "base_uri": "https://localhost:8080/"
        },
        "id": "JG_wmjhbdON1",
        "outputId": "20a5214d-ad78-4b11-f16a-23ac70c25927"
      },
      "execution_count": null,
      "outputs": [
        {
          "output_type": "stream",
          "name": "stdout",
          "text": [
            "{'Maths': 85, 'Statistics': 89, 'Python': 95, 'Machine Learning': 89}\n"
          ]
        }
      ]
    },
    {
      "cell_type": "markdown",
      "source": [
        "* **items()** - returns a key-value pairs of the dictionary, as tuples in a list."
      ],
      "metadata": {
        "id": "FrwfjiWJePtc"
      }
    },
    {
      "cell_type": "code",
      "source": [
        "d.items()"
      ],
      "metadata": {
        "colab": {
          "base_uri": "https://localhost:8080/"
        },
        "id": "AfJL0CEtdsOf",
        "outputId": "b6ae9fab-f5eb-4874-cb73-9f8c1c069127"
      },
      "execution_count": null,
      "outputs": [
        {
          "output_type": "execute_result",
          "data": {
            "text/plain": [
              "dict_items([('Maths', 85), ('Statistics', 89), ('Python', 95), ('Machine Learning', 89)])"
            ]
          },
          "metadata": {},
          "execution_count": 87
        }
      ]
    },
    {
      "cell_type": "markdown",
      "source": [
        "* **get()** - returns the value of the item with the specified key."
      ],
      "metadata": {
        "id": "cYUAUavPfLM6"
      }
    },
    {
      "cell_type": "code",
      "source": [
        "d.get('Python', 'Statistics')"
      ],
      "metadata": {
        "colab": {
          "base_uri": "https://localhost:8080/"
        },
        "id": "6eUG_naeekoJ",
        "outputId": "f0370fda-1553-49a6-a3fb-9b86762c1334"
      },
      "execution_count": null,
      "outputs": [
        {
          "output_type": "execute_result",
          "data": {
            "text/plain": [
              "95"
            ]
          },
          "metadata": {},
          "execution_count": 88
        }
      ]
    },
    {
      "cell_type": "code",
      "source": [
        "d.get('Java',67) # returns the value of an item that do not exist"
      ],
      "metadata": {
        "colab": {
          "base_uri": "https://localhost:8080/"
        },
        "id": "hZzj9lFpfvWt",
        "outputId": "d5441983-477b-4d83-fb4b-320dbb08eae7"
      },
      "execution_count": null,
      "outputs": [
        {
          "output_type": "execute_result",
          "data": {
            "text/plain": [
              "67"
            ]
          },
          "metadata": {},
          "execution_count": 89
        }
      ]
    },
    {
      "cell_type": "markdown",
      "source": [
        "* **fromkeys()** - returns a dictionary with the specified keys and the specified value."
      ],
      "metadata": {
        "id": "QqLy-ZapgIV8"
      }
    },
    {
      "cell_type": "code",
      "source": [
        "d1 = ('Cricket','Hockey','Badminton')\n",
        "d2 = ({'rating':5})\n",
        "\n",
        "pairs = dict.fromkeys(d1,d2)\n",
        "print(pairs)"
      ],
      "metadata": {
        "colab": {
          "base_uri": "https://localhost:8080/"
        },
        "id": "TQn3WL5zf45x",
        "outputId": "59a26b08-fd66-4629-fce8-d03b2f7bc0b8"
      },
      "execution_count": null,
      "outputs": [
        {
          "output_type": "stream",
          "name": "stdout",
          "text": [
            "{'Cricket': {'rating': 5}, 'Hockey': {'rating': 5}, 'Badminton': {'rating': 5}}\n"
          ]
        }
      ]
    }
  ]
}