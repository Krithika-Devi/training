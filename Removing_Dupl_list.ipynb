{
  "nbformat": 4,
  "nbformat_minor": 0,
  "metadata": {
    "colab": {
      "name": "Removing Dupl list.ipynb",
      "provenance": [],
      "authorship_tag": "ABX9TyMu0bbgFuwBOAbexNSmb7NR",
      "include_colab_link": true
    },
    "kernelspec": {
      "name": "python3",
      "display_name": "Python 3"
    },
    "language_info": {
      "name": "python"
    }
  },
  "cells": [
    {
      "cell_type": "markdown",
      "metadata": {
        "id": "view-in-github",
        "colab_type": "text"
      },
      "source": [
        "<a href=\"https://colab.research.google.com/github/Krithika-Devi/training/blob/main/Removing_Dupl_list.ipynb\" target=\"_parent\"><img src=\"https://colab.research.google.com/assets/colab-badge.svg\" alt=\"Open In Colab\"/></a>"
      ]
    },
    {
      "cell_type": "markdown",
      "source": [
        "Input a list of numbers from the user, and remove all the duplicate values"
      ],
      "metadata": {
        "id": "K_5OqaW7nSX3"
      }
    },
    {
      "cell_type": "code",
      "source": [
        "lst = []\n",
        "for i in range(0,10): #The range 0 to 10 specifies that list contains 10 elements\n",
        "  a = int(input(\"Enter element of list \"))\n",
        "  lst.append(a)"
      ],
      "metadata": {
        "colab": {
          "base_uri": "https://localhost:8080/"
        },
        "id": "4EAJ-t1xnVFg",
        "outputId": "1a128885-7e33-4746-b7b5-78bd9bdb653f"
      },
      "execution_count": 1,
      "outputs": [
        {
          "name": "stdout",
          "output_type": "stream",
          "text": [
            "Enter element of list 10\n",
            "Enter element of list 20\n",
            "Enter element of list 20\n",
            "Enter element of list 30\n",
            "Enter element of list 50\n",
            "Enter element of list 40\n",
            "Enter element of list 30\n",
            "Enter element of list 20\n",
            "Enter element of list 10\n",
            "Enter element of list 80\n"
          ]
        }
      ]
    },
    {
      "cell_type": "code",
      "source": [
        "print(\"Original List:\", lst)"
      ],
      "metadata": {
        "colab": {
          "base_uri": "https://localhost:8080/"
        },
        "id": "U_UyiyoHn8D5",
        "outputId": "de1b4b6b-45b9-4a9b-b96e-ff4645e4adb5"
      },
      "execution_count": 2,
      "outputs": [
        {
          "output_type": "stream",
          "name": "stdout",
          "text": [
            "Original List: [10, 20, 20, 30, 50, 40, 30, 20, 10, 80]\n"
          ]
        }
      ]
    },
    {
      "cell_type": "code",
      "source": [
        "newlst = []\n",
        "for i in lst:\n",
        "  if i not in newlst:\n",
        "    newlst.append(i)"
      ],
      "metadata": {
        "id": "Xb5GAc4AoPC3"
      },
      "execution_count": 3,
      "outputs": []
    },
    {
      "cell_type": "code",
      "source": [
        "print(\"List after removing duplicated from the original list: \", newlst)"
      ],
      "metadata": {
        "colab": {
          "base_uri": "https://localhost:8080/"
        },
        "id": "PSM7BfXJpL8A",
        "outputId": "c577c492-0616-44d7-c690-b7528e105313"
      },
      "execution_count": 4,
      "outputs": [
        {
          "output_type": "stream",
          "name": "stdout",
          "text": [
            "List after removing duplicated from the original list:  [10, 20, 30, 50, 40, 80]\n"
          ]
        }
      ]
    }
  ]
}