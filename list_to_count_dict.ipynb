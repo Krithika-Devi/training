{
  "nbformat": 4,
  "nbformat_minor": 0,
  "metadata": {
    "colab": {
      "name": "list to count dict.ipynb",
      "provenance": [],
      "authorship_tag": "ABX9TyMEpI+zxXdDj2olUWXS7yX6",
      "include_colab_link": true
    },
    "kernelspec": {
      "name": "python3",
      "display_name": "Python 3"
    },
    "language_info": {
      "name": "python"
    }
  },
  "cells": [
    {
      "cell_type": "markdown",
      "metadata": {
        "id": "view-in-github",
        "colab_type": "text"
      },
      "source": [
        "<a href=\"https://colab.research.google.com/github/Krithika-Devi/training/blob/main/list_to_count_dict.ipynb\" target=\"_parent\"><img src=\"https://colab.research.google.com/assets/colab-badge.svg\" alt=\"Open In Colab\"/></a>"
      ]
    },
    {
      "cell_type": "markdown",
      "source": [
        "Input a list of words and convert it into a count dictionary. Example: \n",
        " \n",
        "hello how are you? how are the potatoes?\n",
        " \n",
        "result: { hello:1, how:2, are:2, you:1, the:1, potatoes: 1 } "
      ],
      "metadata": {
        "id": "P6eferk03cTL"
      }
    },
    {
      "cell_type": "code",
      "source": [
        "def count_dict():\n",
        "  st = input(\"Enter your feedback: \")\n",
        "  count = dict()\n",
        "  for s in st.split():\n",
        "    if s in count:\n",
        "      count[s] +=1\n",
        "    else:\n",
        "      count[s]=1\n",
        "  return count "
      ],
      "metadata": {
        "id": "L-4pyK-545D8"
      },
      "execution_count": 12,
      "outputs": []
    },
    {
      "cell_type": "code",
      "source": [
        "count_dict()"
      ],
      "metadata": {
        "colab": {
          "base_uri": "https://localhost:8080/"
        },
        "id": "EHS0eWBS8TGM",
        "outputId": "453e55fb-3b97-44f5-fdb8-c06f1ccb9dba"
      },
      "execution_count": 13,
      "outputs": [
        {
          "name": "stdout",
          "output_type": "stream",
          "text": [
            "Enter your feedback: hello how are you? how are the potatoes?\n"
          ]
        },
        {
          "output_type": "execute_result",
          "data": {
            "text/plain": [
              "{'hello': 1, 'how': 2, 'are': 2, 'you?': 1, 'the': 1, 'potatoes?': 1}"
            ]
          },
          "metadata": {},
          "execution_count": 13
        }
      ]
    }
  ]
}