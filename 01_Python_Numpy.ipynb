{
  "cells": [
    {
      "cell_type": "markdown",
      "metadata": {
        "id": "view-in-github",
        "colab_type": "text"
      },
      "source": [
        "<a href=\"https://colab.research.google.com/github/Krithika-Devi/training/blob/main/01_Python_Numpy.ipynb\" target=\"_parent\"><img src=\"https://colab.research.google.com/assets/colab-badge.svg\" alt=\"Open In Colab\"/></a>"
      ]
    },
    {
      "cell_type": "markdown",
      "metadata": {
        "id": "6fW9u7U2f3tw"
      },
      "source": [
        "The first thing we want to do is import numpy."
      ]
    },
    {
      "cell_type": "code",
      "execution_count": 1,
      "metadata": {
        "id": "nWrV7p86f3t8"
      },
      "outputs": [],
      "source": [
        "import numpy as np"
      ]
    },
    {
      "cell_type": "markdown",
      "metadata": {
        "id": "OUtpmrmjf3t_"
      },
      "source": [
        "Let us first define a Python list containing the ages of 6 people."
      ]
    },
    {
      "cell_type": "code",
      "execution_count": 2,
      "metadata": {
        "colab": {
          "base_uri": "https://localhost:8080/"
        },
        "id": "QyiKV7NEf3uA",
        "outputId": "93945da9-a52f-4727-cd6f-17a9d2b5393a"
      },
      "outputs": [
        {
          "output_type": "stream",
          "name": "stdout",
          "text": [
            "[10, 5, 8, 32, 65, 43]\n"
          ]
        }
      ],
      "source": [
        "ages_list = [10, 5, 8, 32, 65, 43]\n",
        "print(ages_list)"
      ]
    },
    {
      "cell_type": "markdown",
      "metadata": {
        "id": "El-V-61if3uB"
      },
      "source": [
        "There are 3 main ways to instantiate a Numpy ndarray object. One of these is to use `np.array(<collection>)`"
      ]
    },
    {
      "cell_type": "code",
      "execution_count": 3,
      "metadata": {
        "colab": {
          "base_uri": "https://localhost:8080/"
        },
        "id": "ArD3kzlRf3uC",
        "outputId": "04a49bf0-25a6-418d-f687-2bfe0b83f169"
      },
      "outputs": [
        {
          "output_type": "stream",
          "name": "stdout",
          "text": [
            "<class 'numpy.ndarray'>\n",
            "[10  5  8 32 65 43]\n"
          ]
        }
      ],
      "source": [
        "ages = np.array(ages_list)\n",
        "print(type(ages))\n",
        "print(ages)"
      ]
    },
    {
      "cell_type": "code",
      "execution_count": 4,
      "metadata": {
        "colab": {
          "base_uri": "https://localhost:8080/"
        },
        "id": "nn3XpvQtf3uE",
        "outputId": "ec39bf0d-6165-4d3a-f8ba-ccd6a384f29f"
      },
      "outputs": [
        {
          "output_type": "stream",
          "name": "stdout",
          "text": [
            "[10  5  8 32 65 43]\n",
            "Size:\t 6\n",
            "Shape:\t (6,)\n"
          ]
        }
      ],
      "source": [
        "print(ages)\n",
        "print(\"Size:\\t\" , ages.size)\n",
        "print(\"Shape:\\t\", ages.shape)"
      ]
    },
    {
      "cell_type": "code",
      "execution_count": 5,
      "metadata": {
        "scrolled": true,
        "colab": {
          "base_uri": "https://localhost:8080/"
        },
        "id": "HGPTfW5qf3uG",
        "outputId": "3b983712-3c18-45a8-ff44-af145fbd53ff"
      },
      "outputs": [
        {
          "output_type": "stream",
          "name": "stdout",
          "text": [
            "[0. 0. 0. 0. 0.]\n"
          ]
        }
      ],
      "source": [
        "zeroArr = np.zeros(5)\n",
        "print(zeroArr)"
      ]
    },
    {
      "cell_type": "markdown",
      "metadata": {
        "id": "WXqxb_I3f3uI"
      },
      "source": [
        "### Multi-dim"
      ]
    },
    {
      "cell_type": "markdown",
      "metadata": {
        "id": "iIOqFgVBf3uJ"
      },
      "source": [
        "Now let us define a new list containing the weights of these 6 people."
      ]
    },
    {
      "cell_type": "code",
      "execution_count": 6,
      "metadata": {
        "id": "7AGncgWpf3uK"
      },
      "outputs": [],
      "source": [
        "weight_list = [32, 18, 26, 60, 55, 65]"
      ]
    },
    {
      "cell_type": "markdown",
      "metadata": {
        "id": "TxoB9DXnf3uL"
      },
      "source": [
        "Now, we define an ndarray containing all fo this information, and again print the size and shape of the array."
      ]
    },
    {
      "cell_type": "code",
      "execution_count": 7,
      "metadata": {
        "colab": {
          "base_uri": "https://localhost:8080/"
        },
        "id": "-E_edHa7f3uM",
        "outputId": "d8322474-22bb-4f51-f0c4-cdddfdd95b0f"
      },
      "outputs": [
        {
          "output_type": "stream",
          "name": "stdout",
          "text": [
            "People:\t [[10  5  8 32 65 43]\n",
            " [32 18 26 60 55 65]]\n",
            "Size:\t 12\n",
            "Shape:\t (2, 6)\n"
          ]
        }
      ],
      "source": [
        "people = np.array([ages_list, weight_list])\n",
        "\n",
        "print(\"People:\\t\" , people)\n",
        "print(\"Size:\\t\" , people.size)\n",
        "print(\"Shape:\\t\", people.shape)"
      ]
    },
    {
      "cell_type": "code",
      "execution_count": 8,
      "metadata": {
        "colab": {
          "base_uri": "https://localhost:8080/"
        },
        "id": "90m9B-kpf3uN",
        "outputId": "56c010c7-adb2-420c-a462-ee1b24150a2d"
      },
      "outputs": [
        {
          "output_type": "stream",
          "name": "stdout",
          "text": [
            "People:\t [[10]\n",
            " [ 5]\n",
            " [ 8]\n",
            " [32]\n",
            " [65]\n",
            " [43]\n",
            " [32]\n",
            " [18]\n",
            " [26]\n",
            " [60]\n",
            " [55]\n",
            " [65]]\n",
            "Size:\t 12\n",
            "Shape:\t (12, 1)\n"
          ]
        }
      ],
      "source": [
        "# 2 X 6 = 1 X 12 = 4 X 3 = 3 X 4 = 12 X 1 \n",
        "\n",
        "people = people.reshape(12,1)\n",
        "print(\"People:\\t\" , people)\n",
        "print(\"Size:\\t\" , people.size)\n",
        "print(\"Shape:\\t\", people.shape)"
      ]
    },
    {
      "cell_type": "markdown",
      "metadata": {
        "id": "I3P4thf4f3uP"
      },
      "source": [
        "###### Note: The new shape must be the same \"size\" as the old shape"
      ]
    },
    {
      "cell_type": "markdown",
      "metadata": {
        "id": "fc6fNBs2f3uR"
      },
      "source": [
        "### Exercise\n",
        "\n",
        "* Generate a 1D numpy array with the values [7, 9, 65, 33, 85, 99]\n",
        "\n",
        "* Generate a matrix (2D numpy array) of the values:\n",
        "\n",
        "\\begin{align}\n",
        "  \\mathbf{A} =\n",
        "  \\begin{pmatrix}\n",
        "    1 & 2 & 4 \\\\\n",
        "    2 & 3 & 0 \\\\\n",
        "    0 & 5 & 1\n",
        "  \\end{pmatrix}\n",
        "\\end{align}\n",
        "\n",
        "* Change the dimensions of this array to another permitted shape"
      ]
    },
    {
      "cell_type": "markdown",
      "metadata": {
        "id": "H27O3qvEf3uS"
      },
      "source": [
        "## Array Generation"
      ]
    },
    {
      "cell_type": "markdown",
      "metadata": {
        "id": "iBmTn_yCf3uT"
      },
      "source": [
        "Instead of defining an array manually, we can ask numpy to do it for us.\n",
        "\n",
        "The `np.arange()` method creates a range of numbers with user defined steps between each."
      ]
    },
    {
      "cell_type": "code",
      "execution_count": 9,
      "metadata": {
        "id": "G8jeRmOmf3uU",
        "outputId": "d3b9c98c-bc59-4b57-d0ab-7216b58089f1",
        "colab": {
          "base_uri": "https://localhost:8080/"
        }
      },
      "outputs": [
        {
          "output_type": "execute_result",
          "data": {
            "text/plain": [
              "array([ 0,  5, 10, 15, 20, 25, 30, 35, 40, 45, 50])"
            ]
          },
          "metadata": {},
          "execution_count": 9
        }
      ],
      "source": [
        "five_times_table = np.arange(0, 55, 5)\n",
        "five_times_table"
      ]
    },
    {
      "cell_type": "markdown",
      "metadata": {
        "id": "G8wbT3qKf3uV"
      },
      "source": [
        "The `np.linspace()` method will produce a range of evenly spaced values, starting, ending, and taking as many steps as you specify."
      ]
    },
    {
      "cell_type": "code",
      "execution_count": 10,
      "metadata": {
        "id": "jkTCkOHYf3uV",
        "outputId": "b00c1cb8-c693-48da-c0ac-1e2a35ea1283",
        "colab": {
          "base_uri": "https://localhost:8080/"
        }
      },
      "outputs": [
        {
          "output_type": "stream",
          "name": "stdout",
          "text": [
            "[ 0.  5. 10. 15. 20. 25. 30. 35. 40. 45. 50.]\n"
          ]
        }
      ],
      "source": [
        "five_spaced = np.linspace(0,50,11)\n",
        "print(five_spaced)"
      ]
    },
    {
      "cell_type": "markdown",
      "metadata": {
        "id": "ORrsfDI5f3uW"
      },
      "source": [
        "The `.repeat()` method will repeat an object you pas a specified number of times."
      ]
    },
    {
      "cell_type": "code",
      "execution_count": 11,
      "metadata": {
        "id": "lghyp6hgf3uW",
        "outputId": "9ccee6c0-9b78-4bf1-80e2-2270aeac0242",
        "colab": {
          "base_uri": "https://localhost:8080/"
        }
      },
      "outputs": [
        {
          "output_type": "stream",
          "name": "stdout",
          "text": [
            "[2 2 2 2 2 2 2 2 2 2]\n"
          ]
        }
      ],
      "source": [
        "twoArr = np.repeat(2, 10)\n",
        "print(twoArr)"
      ]
    },
    {
      "cell_type": "markdown",
      "metadata": {
        "id": "97emCPGNf3uX"
      },
      "source": [
        "The `np.eye()` functions will create an identity matrix/array for us."
      ]
    },
    {
      "cell_type": "code",
      "execution_count": 12,
      "metadata": {
        "id": "p6C8QH5Bf3uX",
        "outputId": "1bcf8856-09f1-467f-dc29-3dbf566db377",
        "colab": {
          "base_uri": "https://localhost:8080/"
        }
      },
      "outputs": [
        {
          "output_type": "stream",
          "name": "stdout",
          "text": [
            "[[1. 0. 0. 0. 0. 0.]\n",
            " [0. 1. 0. 0. 0. 0.]\n",
            " [0. 0. 1. 0. 0. 0.]\n",
            " [0. 0. 0. 1. 0. 0.]\n",
            " [0. 0. 0. 0. 1. 0.]\n",
            " [0. 0. 0. 0. 0. 1.]]\n"
          ]
        }
      ],
      "source": [
        "identity_matrix = np.eye(6)\n",
        "print(identity_matrix)"
      ]
    },
    {
      "cell_type": "markdown",
      "metadata": {
        "id": "-_KFyodHf3uY"
      },
      "source": [
        "# Operations"
      ]
    },
    {
      "cell_type": "markdown",
      "metadata": {
        "id": "8oSXTBcSf3uY"
      },
      "source": [
        "There are many, many operations which we can perform on arrays. Below, we demonstrate a few."
      ]
    },
    {
      "cell_type": "markdown",
      "metadata": {
        "id": "txj5KOPIf3uY"
      },
      "source": [
        "What is happening in each line?"
      ]
    },
    {
      "cell_type": "code",
      "execution_count": 13,
      "metadata": {
        "id": "83l_BkSVf3uZ",
        "outputId": "d691da35-0528-479c-c18a-1106aef1ef3a",
        "colab": {
          "base_uri": "https://localhost:8080/"
        }
      },
      "outputs": [
        {
          "output_type": "execute_result",
          "data": {
            "text/plain": [
              "array([ 0,  5, 10, 15, 20, 25, 30, 35, 40, 45, 50])"
            ]
          },
          "metadata": {},
          "execution_count": 13
        }
      ],
      "source": [
        "five_times_table"
      ]
    },
    {
      "cell_type": "code",
      "execution_count": 14,
      "metadata": {
        "scrolled": true,
        "id": "wSVr_aruf3uk",
        "outputId": "176e1d68-231f-4bac-dc14-d9aea5cf5d77",
        "colab": {
          "base_uri": "https://localhost:8080/"
        }
      },
      "outputs": [
        {
          "output_type": "stream",
          "name": "stdout",
          "text": [
            "1: [  0  10  20  30  40  50  60  70  80  90 100]\n",
            "2: [10 15 20 25 30 35 40 45 50 55 60]\n",
            "3: [-1  4  9 14 19 24 29 34 39 44 49]\n",
            "4: [ 0.  1.  2.  3.  4.  5.  6.  7.  8.  9. 10.]\n",
            "5: [   0   25  100  225  400  625  900 1225 1600 2025 2500]\n",
            "6: [ True  True  True  True False False False False False False False]\n"
          ]
        }
      ],
      "source": [
        "print(\"1:\", 2 * five_times_table)\n",
        "print(\"2:\", 10 + five_times_table)\n",
        "print(\"3:\", five_times_table - 1)\n",
        "print(\"4:\", five_times_table/5)\n",
        "print(\"5:\", five_times_table **2)\n",
        "print(\"6:\", five_times_table < 20)"
      ]
    },
    {
      "cell_type": "markdown",
      "metadata": {
        "id": "bnyjVvfTf3uk"
      },
      "source": [
        "### Speed Test"
      ]
    },
    {
      "cell_type": "markdown",
      "metadata": {
        "id": "p1NDiwD0f3ul"
      },
      "source": [
        "If we compare the speed at which we can do these operations compared to core python, we will notice a substantial difference."
      ]
    },
    {
      "cell_type": "code",
      "execution_count": 15,
      "metadata": {
        "scrolled": true,
        "id": "5vVNgPGsf3ul",
        "outputId": "64ab727c-ecdc-4cf9-f78d-cb21eb8b223d",
        "colab": {
          "base_uri": "https://localhost:8080/"
        }
      },
      "outputs": [
        {
          "output_type": "execute_result",
          "data": {
            "text/plain": [
              "[0,\n",
              " 5,\n",
              " 10,\n",
              " 15,\n",
              " 20,\n",
              " 25,\n",
              " 30,\n",
              " 35,\n",
              " 40,\n",
              " 45,\n",
              " 50,\n",
              " 55,\n",
              " 60,\n",
              " 65,\n",
              " 70,\n",
              " 75,\n",
              " 80,\n",
              " 85,\n",
              " 90,\n",
              " 95,\n",
              " 100,\n",
              " 105,\n",
              " 110,\n",
              " 115,\n",
              " 120,\n",
              " 125,\n",
              " 130,\n",
              " 135,\n",
              " 140,\n",
              " 145,\n",
              " 150,\n",
              " 155,\n",
              " 160,\n",
              " 165,\n",
              " 170,\n",
              " 175,\n",
              " 180,\n",
              " 185,\n",
              " 190,\n",
              " 195,\n",
              " 200,\n",
              " 205,\n",
              " 210,\n",
              " 215,\n",
              " 220,\n",
              " 225,\n",
              " 230,\n",
              " 235,\n",
              " 240,\n",
              " 245,\n",
              " 250,\n",
              " 255,\n",
              " 260,\n",
              " 265,\n",
              " 270,\n",
              " 275,\n",
              " 280,\n",
              " 285,\n",
              " 290,\n",
              " 295,\n",
              " 300,\n",
              " 305,\n",
              " 310,\n",
              " 315,\n",
              " 320,\n",
              " 325,\n",
              " 330,\n",
              " 335,\n",
              " 340,\n",
              " 345,\n",
              " 350,\n",
              " 355,\n",
              " 360,\n",
              " 365,\n",
              " 370,\n",
              " 375,\n",
              " 380,\n",
              " 385,\n",
              " 390,\n",
              " 395,\n",
              " 400,\n",
              " 405,\n",
              " 410,\n",
              " 415,\n",
              " 420,\n",
              " 425,\n",
              " 430,\n",
              " 435,\n",
              " 440,\n",
              " 445,\n",
              " 450,\n",
              " 455,\n",
              " 460,\n",
              " 465,\n",
              " 470,\n",
              " 475,\n",
              " 480,\n",
              " 485,\n",
              " 490,\n",
              " 495,\n",
              " 500,\n",
              " 505,\n",
              " 510,\n",
              " 515,\n",
              " 520,\n",
              " 525,\n",
              " 530,\n",
              " 535,\n",
              " 540,\n",
              " 545,\n",
              " 550,\n",
              " 555,\n",
              " 560,\n",
              " 565,\n",
              " 570,\n",
              " 575,\n",
              " 580,\n",
              " 585,\n",
              " 590,\n",
              " 595,\n",
              " 600,\n",
              " 605,\n",
              " 610,\n",
              " 615,\n",
              " 620,\n",
              " 625,\n",
              " 630,\n",
              " 635,\n",
              " 640,\n",
              " 645,\n",
              " 650,\n",
              " 655,\n",
              " 660,\n",
              " 665,\n",
              " 670,\n",
              " 675,\n",
              " 680,\n",
              " 685,\n",
              " 690,\n",
              " 695,\n",
              " 700,\n",
              " 705,\n",
              " 710,\n",
              " 715,\n",
              " 720,\n",
              " 725,\n",
              " 730,\n",
              " 735,\n",
              " 740,\n",
              " 745,\n",
              " 750,\n",
              " 755,\n",
              " 760,\n",
              " 765,\n",
              " 770,\n",
              " 775,\n",
              " 780,\n",
              " 785,\n",
              " 790,\n",
              " 795,\n",
              " 800,\n",
              " 805,\n",
              " 810,\n",
              " 815,\n",
              " 820,\n",
              " 825,\n",
              " 830,\n",
              " 835,\n",
              " 840,\n",
              " 845,\n",
              " 850,\n",
              " 855,\n",
              " 860,\n",
              " 865,\n",
              " 870,\n",
              " 875,\n",
              " 880,\n",
              " 885,\n",
              " 890,\n",
              " 895,\n",
              " 900,\n",
              " 905,\n",
              " 910,\n",
              " 915,\n",
              " 920,\n",
              " 925,\n",
              " 930,\n",
              " 935,\n",
              " 940,\n",
              " 945,\n",
              " 950,\n",
              " 955,\n",
              " 960,\n",
              " 965,\n",
              " 970,\n",
              " 975,\n",
              " 980,\n",
              " 985,\n",
              " 990,\n",
              " 995,\n",
              " 1000,\n",
              " 1005,\n",
              " 1010,\n",
              " 1015,\n",
              " 1020,\n",
              " 1025,\n",
              " 1030,\n",
              " 1035,\n",
              " 1040,\n",
              " 1045,\n",
              " 1050,\n",
              " 1055,\n",
              " 1060,\n",
              " 1065,\n",
              " 1070,\n",
              " 1075,\n",
              " 1080,\n",
              " 1085,\n",
              " 1090,\n",
              " 1095,\n",
              " 1100,\n",
              " 1105,\n",
              " 1110,\n",
              " 1115,\n",
              " 1120,\n",
              " 1125,\n",
              " 1130,\n",
              " 1135,\n",
              " 1140,\n",
              " 1145,\n",
              " 1150,\n",
              " 1155,\n",
              " 1160,\n",
              " 1165,\n",
              " 1170,\n",
              " 1175,\n",
              " 1180,\n",
              " 1185,\n",
              " 1190,\n",
              " 1195,\n",
              " 1200,\n",
              " 1205,\n",
              " 1210,\n",
              " 1215,\n",
              " 1220,\n",
              " 1225,\n",
              " 1230,\n",
              " 1235,\n",
              " 1240,\n",
              " 1245,\n",
              " 1250,\n",
              " 1255,\n",
              " 1260,\n",
              " 1265,\n",
              " 1270,\n",
              " 1275,\n",
              " 1280,\n",
              " 1285,\n",
              " 1290,\n",
              " 1295,\n",
              " 1300,\n",
              " 1305,\n",
              " 1310,\n",
              " 1315,\n",
              " 1320,\n",
              " 1325,\n",
              " 1330,\n",
              " 1335,\n",
              " 1340,\n",
              " 1345,\n",
              " 1350,\n",
              " 1355,\n",
              " 1360,\n",
              " 1365,\n",
              " 1370,\n",
              " 1375,\n",
              " 1380,\n",
              " 1385,\n",
              " 1390,\n",
              " 1395,\n",
              " 1400,\n",
              " 1405,\n",
              " 1410,\n",
              " 1415,\n",
              " 1420,\n",
              " 1425,\n",
              " 1430,\n",
              " 1435,\n",
              " 1440,\n",
              " 1445,\n",
              " 1450,\n",
              " 1455,\n",
              " 1460,\n",
              " 1465,\n",
              " 1470,\n",
              " 1475,\n",
              " 1480,\n",
              " 1485,\n",
              " 1490,\n",
              " 1495,\n",
              " 1500,\n",
              " 1505,\n",
              " 1510,\n",
              " 1515,\n",
              " 1520,\n",
              " 1525,\n",
              " 1530,\n",
              " 1535,\n",
              " 1540,\n",
              " 1545,\n",
              " 1550,\n",
              " 1555,\n",
              " 1560,\n",
              " 1565,\n",
              " 1570,\n",
              " 1575,\n",
              " 1580,\n",
              " 1585,\n",
              " 1590,\n",
              " 1595,\n",
              " 1600,\n",
              " 1605,\n",
              " 1610,\n",
              " 1615,\n",
              " 1620,\n",
              " 1625,\n",
              " 1630,\n",
              " 1635,\n",
              " 1640,\n",
              " 1645,\n",
              " 1650,\n",
              " 1655,\n",
              " 1660,\n",
              " 1665,\n",
              " 1670,\n",
              " 1675,\n",
              " 1680,\n",
              " 1685,\n",
              " 1690,\n",
              " 1695,\n",
              " 1700,\n",
              " 1705,\n",
              " 1710,\n",
              " 1715,\n",
              " 1720,\n",
              " 1725,\n",
              " 1730,\n",
              " 1735,\n",
              " 1740,\n",
              " 1745,\n",
              " 1750,\n",
              " 1755,\n",
              " 1760,\n",
              " 1765,\n",
              " 1770,\n",
              " 1775,\n",
              " 1780,\n",
              " 1785,\n",
              " 1790,\n",
              " 1795,\n",
              " 1800,\n",
              " 1805,\n",
              " 1810,\n",
              " 1815,\n",
              " 1820,\n",
              " 1825,\n",
              " 1830,\n",
              " 1835,\n",
              " 1840,\n",
              " 1845,\n",
              " 1850,\n",
              " 1855,\n",
              " 1860,\n",
              " 1865,\n",
              " 1870,\n",
              " 1875,\n",
              " 1880,\n",
              " 1885,\n",
              " 1890,\n",
              " 1895,\n",
              " 1900,\n",
              " 1905,\n",
              " 1910,\n",
              " 1915,\n",
              " 1920,\n",
              " 1925,\n",
              " 1930,\n",
              " 1935,\n",
              " 1940,\n",
              " 1945,\n",
              " 1950,\n",
              " 1955,\n",
              " 1960,\n",
              " 1965,\n",
              " 1970,\n",
              " 1975,\n",
              " 1980,\n",
              " 1985,\n",
              " 1990,\n",
              " 1995,\n",
              " 2000,\n",
              " 2005,\n",
              " 2010,\n",
              " 2015,\n",
              " 2020,\n",
              " 2025,\n",
              " 2030,\n",
              " 2035,\n",
              " 2040,\n",
              " 2045,\n",
              " 2050,\n",
              " 2055,\n",
              " 2060,\n",
              " 2065,\n",
              " 2070,\n",
              " 2075,\n",
              " 2080,\n",
              " 2085,\n",
              " 2090,\n",
              " 2095,\n",
              " 2100,\n",
              " 2105,\n",
              " 2110,\n",
              " 2115,\n",
              " 2120,\n",
              " 2125,\n",
              " 2130,\n",
              " 2135,\n",
              " 2140,\n",
              " 2145,\n",
              " 2150,\n",
              " 2155,\n",
              " 2160,\n",
              " 2165,\n",
              " 2170,\n",
              " 2175,\n",
              " 2180,\n",
              " 2185,\n",
              " 2190,\n",
              " 2195,\n",
              " 2200,\n",
              " 2205,\n",
              " 2210,\n",
              " 2215,\n",
              " 2220,\n",
              " 2225,\n",
              " 2230,\n",
              " 2235,\n",
              " 2240,\n",
              " 2245,\n",
              " 2250,\n",
              " 2255,\n",
              " 2260,\n",
              " 2265,\n",
              " 2270,\n",
              " 2275,\n",
              " 2280,\n",
              " 2285,\n",
              " 2290,\n",
              " 2295,\n",
              " 2300,\n",
              " 2305,\n",
              " 2310,\n",
              " 2315,\n",
              " 2320,\n",
              " 2325,\n",
              " 2330,\n",
              " 2335,\n",
              " 2340,\n",
              " 2345,\n",
              " 2350,\n",
              " 2355,\n",
              " 2360,\n",
              " 2365,\n",
              " 2370,\n",
              " 2375,\n",
              " 2380,\n",
              " 2385,\n",
              " 2390,\n",
              " 2395,\n",
              " 2400,\n",
              " 2405,\n",
              " 2410,\n",
              " 2415,\n",
              " 2420,\n",
              " 2425,\n",
              " 2430,\n",
              " 2435,\n",
              " 2440,\n",
              " 2445,\n",
              " 2450,\n",
              " 2455,\n",
              " 2460,\n",
              " 2465,\n",
              " 2470,\n",
              " 2475,\n",
              " 2480,\n",
              " 2485,\n",
              " 2490,\n",
              " 2495,\n",
              " 2500,\n",
              " 2505,\n",
              " 2510,\n",
              " 2515,\n",
              " 2520,\n",
              " 2525,\n",
              " 2530,\n",
              " 2535,\n",
              " 2540,\n",
              " 2545,\n",
              " 2550,\n",
              " 2555,\n",
              " 2560,\n",
              " 2565,\n",
              " 2570,\n",
              " 2575,\n",
              " 2580,\n",
              " 2585,\n",
              " 2590,\n",
              " 2595,\n",
              " 2600,\n",
              " 2605,\n",
              " 2610,\n",
              " 2615,\n",
              " 2620,\n",
              " 2625,\n",
              " 2630,\n",
              " 2635,\n",
              " 2640,\n",
              " 2645,\n",
              " 2650,\n",
              " 2655,\n",
              " 2660,\n",
              " 2665,\n",
              " 2670,\n",
              " 2675,\n",
              " 2680,\n",
              " 2685,\n",
              " 2690,\n",
              " 2695,\n",
              " 2700,\n",
              " 2705,\n",
              " 2710,\n",
              " 2715,\n",
              " 2720,\n",
              " 2725,\n",
              " 2730,\n",
              " 2735,\n",
              " 2740,\n",
              " 2745,\n",
              " 2750,\n",
              " 2755,\n",
              " 2760,\n",
              " 2765,\n",
              " 2770,\n",
              " 2775,\n",
              " 2780,\n",
              " 2785,\n",
              " 2790,\n",
              " 2795,\n",
              " 2800,\n",
              " 2805,\n",
              " 2810,\n",
              " 2815,\n",
              " 2820,\n",
              " 2825,\n",
              " 2830,\n",
              " 2835,\n",
              " 2840,\n",
              " 2845,\n",
              " 2850,\n",
              " 2855,\n",
              " 2860,\n",
              " 2865,\n",
              " 2870,\n",
              " 2875,\n",
              " 2880,\n",
              " 2885,\n",
              " 2890,\n",
              " 2895,\n",
              " 2900,\n",
              " 2905,\n",
              " 2910,\n",
              " 2915,\n",
              " 2920,\n",
              " 2925,\n",
              " 2930,\n",
              " 2935,\n",
              " 2940,\n",
              " 2945,\n",
              " 2950,\n",
              " 2955,\n",
              " 2960,\n",
              " 2965,\n",
              " 2970,\n",
              " 2975,\n",
              " 2980,\n",
              " 2985,\n",
              " 2990,\n",
              " 2995,\n",
              " 3000,\n",
              " 3005,\n",
              " 3010,\n",
              " 3015,\n",
              " 3020,\n",
              " 3025,\n",
              " 3030,\n",
              " 3035,\n",
              " 3040,\n",
              " 3045,\n",
              " 3050,\n",
              " 3055,\n",
              " 3060,\n",
              " 3065,\n",
              " 3070,\n",
              " 3075,\n",
              " 3080,\n",
              " 3085,\n",
              " 3090,\n",
              " 3095,\n",
              " 3100,\n",
              " 3105,\n",
              " 3110,\n",
              " 3115,\n",
              " 3120,\n",
              " 3125,\n",
              " 3130,\n",
              " 3135,\n",
              " 3140,\n",
              " 3145,\n",
              " 3150,\n",
              " 3155,\n",
              " 3160,\n",
              " 3165,\n",
              " 3170,\n",
              " 3175,\n",
              " 3180,\n",
              " 3185,\n",
              " 3190,\n",
              " 3195,\n",
              " 3200,\n",
              " 3205,\n",
              " 3210,\n",
              " 3215,\n",
              " 3220,\n",
              " 3225,\n",
              " 3230,\n",
              " 3235,\n",
              " 3240,\n",
              " 3245,\n",
              " 3250,\n",
              " 3255,\n",
              " 3260,\n",
              " 3265,\n",
              " 3270,\n",
              " 3275,\n",
              " 3280,\n",
              " 3285,\n",
              " 3290,\n",
              " 3295,\n",
              " 3300,\n",
              " 3305,\n",
              " 3310,\n",
              " 3315,\n",
              " 3320,\n",
              " 3325,\n",
              " 3330,\n",
              " 3335,\n",
              " 3340,\n",
              " 3345,\n",
              " 3350,\n",
              " 3355,\n",
              " 3360,\n",
              " 3365,\n",
              " 3370,\n",
              " 3375,\n",
              " 3380,\n",
              " 3385,\n",
              " 3390,\n",
              " 3395,\n",
              " 3400,\n",
              " 3405,\n",
              " 3410,\n",
              " 3415,\n",
              " 3420,\n",
              " 3425,\n",
              " 3430,\n",
              " 3435,\n",
              " 3440,\n",
              " 3445,\n",
              " 3450,\n",
              " 3455,\n",
              " 3460,\n",
              " 3465,\n",
              " 3470,\n",
              " 3475,\n",
              " 3480,\n",
              " 3485,\n",
              " 3490,\n",
              " 3495,\n",
              " 3500,\n",
              " 3505,\n",
              " 3510,\n",
              " 3515,\n",
              " 3520,\n",
              " 3525,\n",
              " 3530,\n",
              " 3535,\n",
              " 3540,\n",
              " 3545,\n",
              " 3550,\n",
              " 3555,\n",
              " 3560,\n",
              " 3565,\n",
              " 3570,\n",
              " 3575,\n",
              " 3580,\n",
              " 3585,\n",
              " 3590,\n",
              " 3595,\n",
              " 3600,\n",
              " 3605,\n",
              " 3610,\n",
              " 3615,\n",
              " 3620,\n",
              " 3625,\n",
              " 3630,\n",
              " 3635,\n",
              " 3640,\n",
              " 3645,\n",
              " 3650,\n",
              " 3655,\n",
              " 3660,\n",
              " 3665,\n",
              " 3670,\n",
              " 3675,\n",
              " 3680,\n",
              " 3685,\n",
              " 3690,\n",
              " 3695,\n",
              " 3700,\n",
              " 3705,\n",
              " 3710,\n",
              " 3715,\n",
              " 3720,\n",
              " 3725,\n",
              " 3730,\n",
              " 3735,\n",
              " 3740,\n",
              " 3745,\n",
              " 3750,\n",
              " 3755,\n",
              " 3760,\n",
              " 3765,\n",
              " 3770,\n",
              " 3775,\n",
              " 3780,\n",
              " 3785,\n",
              " 3790,\n",
              " 3795,\n",
              " 3800,\n",
              " 3805,\n",
              " 3810,\n",
              " 3815,\n",
              " 3820,\n",
              " 3825,\n",
              " 3830,\n",
              " 3835,\n",
              " 3840,\n",
              " 3845,\n",
              " 3850,\n",
              " 3855,\n",
              " 3860,\n",
              " 3865,\n",
              " 3870,\n",
              " 3875,\n",
              " 3880,\n",
              " 3885,\n",
              " 3890,\n",
              " 3895,\n",
              " 3900,\n",
              " 3905,\n",
              " 3910,\n",
              " 3915,\n",
              " 3920,\n",
              " 3925,\n",
              " 3930,\n",
              " 3935,\n",
              " 3940,\n",
              " 3945,\n",
              " 3950,\n",
              " 3955,\n",
              " 3960,\n",
              " 3965,\n",
              " 3970,\n",
              " 3975,\n",
              " 3980,\n",
              " 3985,\n",
              " 3990,\n",
              " 3995,\n",
              " 4000,\n",
              " 4005,\n",
              " 4010,\n",
              " 4015,\n",
              " 4020,\n",
              " 4025,\n",
              " 4030,\n",
              " 4035,\n",
              " 4040,\n",
              " 4045,\n",
              " 4050,\n",
              " 4055,\n",
              " 4060,\n",
              " 4065,\n",
              " 4070,\n",
              " 4075,\n",
              " 4080,\n",
              " 4085,\n",
              " 4090,\n",
              " 4095,\n",
              " 4100,\n",
              " 4105,\n",
              " 4110,\n",
              " 4115,\n",
              " 4120,\n",
              " 4125,\n",
              " 4130,\n",
              " 4135,\n",
              " 4140,\n",
              " 4145,\n",
              " 4150,\n",
              " 4155,\n",
              " 4160,\n",
              " 4165,\n",
              " 4170,\n",
              " 4175,\n",
              " 4180,\n",
              " 4185,\n",
              " 4190,\n",
              " 4195,\n",
              " 4200,\n",
              " 4205,\n",
              " 4210,\n",
              " 4215,\n",
              " 4220,\n",
              " 4225,\n",
              " 4230,\n",
              " 4235,\n",
              " 4240,\n",
              " 4245,\n",
              " 4250,\n",
              " 4255,\n",
              " 4260,\n",
              " 4265,\n",
              " 4270,\n",
              " 4275,\n",
              " 4280,\n",
              " 4285,\n",
              " 4290,\n",
              " 4295,\n",
              " 4300,\n",
              " 4305,\n",
              " 4310,\n",
              " 4315,\n",
              " 4320,\n",
              " 4325,\n",
              " 4330,\n",
              " 4335,\n",
              " 4340,\n",
              " 4345,\n",
              " 4350,\n",
              " 4355,\n",
              " 4360,\n",
              " 4365,\n",
              " 4370,\n",
              " 4375,\n",
              " 4380,\n",
              " 4385,\n",
              " 4390,\n",
              " 4395,\n",
              " 4400,\n",
              " 4405,\n",
              " 4410,\n",
              " 4415,\n",
              " 4420,\n",
              " 4425,\n",
              " 4430,\n",
              " 4435,\n",
              " 4440,\n",
              " 4445,\n",
              " 4450,\n",
              " 4455,\n",
              " 4460,\n",
              " 4465,\n",
              " 4470,\n",
              " 4475,\n",
              " 4480,\n",
              " 4485,\n",
              " 4490,\n",
              " 4495,\n",
              " 4500,\n",
              " 4505,\n",
              " 4510,\n",
              " 4515,\n",
              " 4520,\n",
              " 4525,\n",
              " 4530,\n",
              " 4535,\n",
              " 4540,\n",
              " 4545,\n",
              " 4550,\n",
              " 4555,\n",
              " 4560,\n",
              " 4565,\n",
              " 4570,\n",
              " 4575,\n",
              " 4580,\n",
              " 4585,\n",
              " 4590,\n",
              " 4595,\n",
              " 4600,\n",
              " 4605,\n",
              " 4610,\n",
              " 4615,\n",
              " 4620,\n",
              " 4625,\n",
              " 4630,\n",
              " 4635,\n",
              " 4640,\n",
              " 4645,\n",
              " 4650,\n",
              " 4655,\n",
              " 4660,\n",
              " 4665,\n",
              " 4670,\n",
              " 4675,\n",
              " 4680,\n",
              " 4685,\n",
              " 4690,\n",
              " 4695,\n",
              " 4700,\n",
              " 4705,\n",
              " 4710,\n",
              " 4715,\n",
              " 4720,\n",
              " 4725,\n",
              " 4730,\n",
              " 4735,\n",
              " 4740,\n",
              " 4745,\n",
              " 4750,\n",
              " 4755,\n",
              " 4760,\n",
              " 4765,\n",
              " 4770,\n",
              " 4775,\n",
              " 4780,\n",
              " 4785,\n",
              " 4790,\n",
              " 4795,\n",
              " 4800,\n",
              " 4805,\n",
              " 4810,\n",
              " 4815,\n",
              " 4820,\n",
              " 4825,\n",
              " 4830,\n",
              " 4835,\n",
              " 4840,\n",
              " 4845,\n",
              " 4850,\n",
              " 4855,\n",
              " 4860,\n",
              " 4865,\n",
              " 4870,\n",
              " 4875,\n",
              " 4880,\n",
              " 4885,\n",
              " 4890,\n",
              " 4895,\n",
              " 4900,\n",
              " 4905,\n",
              " 4910,\n",
              " 4915,\n",
              " 4920,\n",
              " 4925,\n",
              " 4930,\n",
              " 4935,\n",
              " 4940,\n",
              " 4945,\n",
              " 4950,\n",
              " 4955,\n",
              " 4960,\n",
              " 4965,\n",
              " 4970,\n",
              " 4975,\n",
              " 4980,\n",
              " 4985,\n",
              " 4990,\n",
              " 4995,\n",
              " ...]"
            ]
          },
          "metadata": {},
          "execution_count": 15
        }
      ],
      "source": [
        "fives_list = list(range(0,5001,5))\n",
        "fives_list"
      ]
    },
    {
      "cell_type": "code",
      "execution_count": 16,
      "metadata": {
        "id": "13---Nbif3um",
        "outputId": "7275e543-53b7-4a26-bb05-b4f47f9a2d1b",
        "colab": {
          "base_uri": "https://localhost:8080/"
        }
      },
      "outputs": [
        {
          "output_type": "execute_result",
          "data": {
            "text/plain": [
              "array([   0,    5,   10, ..., 4990, 4995, 5000])"
            ]
          },
          "metadata": {},
          "execution_count": 16
        }
      ],
      "source": [
        "five_times_table_lge = np.arange(0,5001,5)\n",
        "five_times_table_lge"
      ]
    },
    {
      "cell_type": "code",
      "execution_count": 17,
      "metadata": {
        "id": "CHCXdIkCf3uo",
        "outputId": "1b212560-161d-46a8-9cc2-e7a2e9ea79de",
        "colab": {
          "base_uri": "https://localhost:8080/"
        }
      },
      "outputs": [
        {
          "output_type": "stream",
          "name": "stdout",
          "text": [
            "1.45 µs ± 53.2 ns per loop (mean ± std. dev. of 7 runs, 100000 loops each)\n"
          ]
        }
      ],
      "source": [
        "%timeit five_times_table_lge + 5"
      ]
    },
    {
      "cell_type": "code",
      "execution_count": 18,
      "metadata": {
        "id": "64lRN5Pkf3uo",
        "outputId": "0129aa63-6afa-417d-a1ca-999043053093",
        "colab": {
          "base_uri": "https://localhost:8080/"
        }
      },
      "outputs": [
        {
          "output_type": "stream",
          "name": "stdout",
          "text": [
            "65 µs ± 3.76 µs per loop (mean ± std. dev. of 7 runs, 10000 loops each)\n"
          ]
        }
      ],
      "source": [
        "%timeit [e + 5 for e in fives_list]"
      ]
    },
    {
      "cell_type": "markdown",
      "metadata": {
        "id": "AyUO-heQf3up"
      },
      "source": [
        "Boolean string operations can also be performed on ndarrays."
      ]
    },
    {
      "cell_type": "code",
      "execution_count": 19,
      "metadata": {
        "id": "V4b9v5dnf3up",
        "outputId": "c9ad0017-6d79-4380-83cc-50a4e21218bc",
        "colab": {
          "base_uri": "https://localhost:8080/"
        }
      },
      "outputs": [
        {
          "output_type": "stream",
          "name": "stdout",
          "text": [
            "[False False False False False]\n",
            "False\n"
          ]
        },
        {
          "output_type": "execute_result",
          "data": {
            "text/plain": [
              "[True, True, True, True, False]"
            ]
          },
          "metadata": {},
          "execution_count": 19
        }
      ],
      "source": [
        "words = np.array([\"ten\", \"nine\", \"eight\", \"seven\", \"six\"])\n",
        "\n",
        "print(np.isin(words, 'e'))\n",
        "\n",
        "print(\"e\" in words)\n",
        "[\"e\" in word for word in words]"
      ]
    },
    {
      "cell_type": "markdown",
      "metadata": {
        "id": "KoR2-UOMf3uq"
      },
      "source": [
        "# Transpose"
      ]
    },
    {
      "cell_type": "code",
      "execution_count": 20,
      "metadata": {
        "id": "aSSkwP3Vf3uq",
        "outputId": "e1f026f7-2dce-4e15-a29b-e4afdb5ad84d",
        "colab": {
          "base_uri": "https://localhost:8080/"
        }
      },
      "outputs": [
        {
          "output_type": "stream",
          "name": "stdout",
          "text": [
            "[[10  5  8 32 65 43]\n",
            " [32 18 26 60 55 65]] \n",
            "\n",
            "[[10 32]\n",
            " [ 5 18]\n",
            " [ 8 26]\n",
            " [32 60]\n",
            " [65 55]\n",
            " [43 65]]\n"
          ]
        }
      ],
      "source": [
        "people.shape = (2, 6)\n",
        "print(people, \"\\n\")\n",
        "print(people.T)"
      ]
    },
    {
      "cell_type": "markdown",
      "metadata": {
        "id": "CqIkjQiIf3uq"
      },
      "source": [
        "# Data Types"
      ]
    },
    {
      "cell_type": "markdown",
      "metadata": {
        "id": "BPKvj0-Rf3ur"
      },
      "source": [
        "As previously mentioned, ndarrays can only have one data type. If we want to obtain or change this, we use the `.dtype` attribute."
      ]
    },
    {
      "cell_type": "code",
      "execution_count": 21,
      "metadata": {
        "id": "AsE70TWOf3ur",
        "outputId": "464fd4bb-4965-4e15-f1b9-d94d6b543287",
        "colab": {
          "base_uri": "https://localhost:8080/"
        }
      },
      "outputs": [
        {
          "output_type": "execute_result",
          "data": {
            "text/plain": [
              "dtype('int64')"
            ]
          },
          "metadata": {},
          "execution_count": 21
        }
      ],
      "source": [
        "people.dtype"
      ]
    },
    {
      "cell_type": "markdown",
      "metadata": {
        "id": "MGca2Ugaf3ur"
      },
      "source": [
        "What is the data type of the below ndarray?"
      ]
    },
    {
      "cell_type": "code",
      "execution_count": 22,
      "metadata": {
        "id": "kGAMal70f3ur",
        "outputId": "5ef99cc9-0ac1-4af0-e09b-467a00726a75",
        "colab": {
          "base_uri": "https://localhost:8080/"
        }
      },
      "outputs": [
        {
          "output_type": "execute_result",
          "data": {
            "text/plain": [
              "array(['10', '5', '8', '32', '65', '43'], dtype='<U21')"
            ]
          },
          "metadata": {},
          "execution_count": 22
        }
      ],
      "source": [
        "ages_with_strings = np.array([10, 5, 8, '32', '65', '43'])\n",
        "ages_with_strings"
      ]
    },
    {
      "cell_type": "code",
      "source": [
        "ages_with_strings.dtype.type"
      ],
      "metadata": {
        "id": "Te6sNaqOdeTn",
        "outputId": "5a6c621e-3c48-4a49-99d8-6fdc99e046f8",
        "colab": {
          "base_uri": "https://localhost:8080/"
        }
      },
      "execution_count": 23,
      "outputs": [
        {
          "output_type": "execute_result",
          "data": {
            "text/plain": [
              "numpy.str_"
            ]
          },
          "metadata": {},
          "execution_count": 23
        }
      ]
    },
    {
      "cell_type": "markdown",
      "metadata": {
        "id": "2Z58LyVif3us"
      },
      "source": [
        "What is the dtype of this array?"
      ]
    },
    {
      "cell_type": "code",
      "execution_count": 24,
      "metadata": {
        "id": "ZrGfLR3ef3us",
        "outputId": "953ae58a-bdd4-416b-ec8a-a6dcae03018f",
        "colab": {
          "base_uri": "https://localhost:8080/"
        }
      },
      "outputs": [
        {
          "output_type": "execute_result",
          "data": {
            "text/plain": [
              "array([10,  5,  8, 32, 65, 43], dtype=int32)"
            ]
          },
          "metadata": {},
          "execution_count": 24
        }
      ],
      "source": [
        "ages_with_strings = np.array([10, 5, 8, '32', '65', '43'], dtype='int32')\n",
        "ages_with_strings"
      ]
    },
    {
      "cell_type": "code",
      "source": [
        "ages_with_strings.dtype.type"
      ],
      "metadata": {
        "id": "uCYvuEp2elGt",
        "outputId": "bfea1865-f701-42eb-8bb8-27dc33c0c0ce",
        "colab": {
          "base_uri": "https://localhost:8080/"
        }
      },
      "execution_count": 25,
      "outputs": [
        {
          "output_type": "execute_result",
          "data": {
            "text/plain": [
              "numpy.int32"
            ]
          },
          "metadata": {},
          "execution_count": 25
        }
      ]
    },
    {
      "cell_type": "markdown",
      "metadata": {
        "id": "mgMHfnvUf3us"
      },
      "source": [
        "What do you think has happened here?"
      ]
    },
    {
      "cell_type": "code",
      "execution_count": 26,
      "metadata": {
        "id": "Lv7PVSLAf3ut",
        "outputId": "37aee6aa-c4f6-426a-e2d5-76b0040f440a",
        "colab": {
          "base_uri": "https://localhost:8080/"
        }
      },
      "outputs": [
        {
          "output_type": "stream",
          "name": "stdout",
          "text": [
            "['10' '5' '8' '32' '65' '43']\n"
          ]
        }
      ],
      "source": [
        "ages_with_strings = np.array([10, 5, 8, '32', '65', '43'])\n",
        "print(ages_with_strings)"
      ]
    },
    {
      "cell_type": "code",
      "execution_count": 27,
      "metadata": {
        "id": "CpvjCgP9f3ut",
        "outputId": "5674bc4c-9f01-488e-add8-3c16d2bd1826",
        "colab": {
          "base_uri": "https://localhost:8080/"
        }
      },
      "outputs": [
        {
          "output_type": "stream",
          "name": "stdout",
          "text": [
            "[49 48  0  0  0  0  0  0  0  0  0  0  0  0  0  0  0  0  0  0  0 53  0  0\n",
            "  0  0  0  0  0  0  0  0  0  0  0  0  0  0  0  0  0  0 56  0  0  0  0  0\n",
            "  0  0  0  0  0  0  0  0  0  0  0  0  0  0  0 51 50  0  0  0  0  0  0  0\n",
            "  0  0  0  0  0  0  0  0  0  0  0  0 54 53  0  0  0  0  0  0  0  0  0  0\n",
            "  0  0  0  0  0  0  0  0  0 52 51  0  0  0  0  0  0  0  0  0  0  0  0  0\n",
            "  0  0  0  0  0  0]\n"
          ]
        }
      ],
      "source": [
        "ages_with_strings.dtype = 'int32'\n",
        "print(ages_with_strings)"
      ]
    },
    {
      "cell_type": "code",
      "execution_count": 28,
      "metadata": {
        "id": "bSWmYnlAf3ut",
        "outputId": "17255b13-0b73-4f8b-8a2c-7ed85deab2da",
        "colab": {
          "base_uri": "https://localhost:8080/"
        }
      },
      "outputs": [
        {
          "output_type": "execute_result",
          "data": {
            "text/plain": [
              "126"
            ]
          },
          "metadata": {},
          "execution_count": 28
        }
      ],
      "source": [
        "ages_with_strings.size"
      ]
    },
    {
      "cell_type": "code",
      "execution_count": 29,
      "metadata": {
        "id": "bwCcDgCrf3uu",
        "outputId": "50e3f53a-0c6c-4320-dd44-d369ba272297",
        "colab": {
          "base_uri": "https://localhost:8080/"
        }
      },
      "outputs": [
        {
          "output_type": "execute_result",
          "data": {
            "text/plain": [
              "6.0"
            ]
          },
          "metadata": {},
          "execution_count": 29
        }
      ],
      "source": [
        "ages_with_strings.size/21"
      ]
    },
    {
      "cell_type": "code",
      "execution_count": 30,
      "metadata": {
        "id": "-iZX97C_f3uu",
        "outputId": "57634744-a514-4a8c-93f8-31b1280d1d63",
        "colab": {
          "base_uri": "https://localhost:8080/"
        }
      },
      "outputs": [
        {
          "output_type": "execute_result",
          "data": {
            "text/plain": [
              "6"
            ]
          },
          "metadata": {},
          "execution_count": 30
        }
      ],
      "source": [
        "np.array([10, 5, 8, '32', '65', '43']).size"
      ]
    },
    {
      "cell_type": "markdown",
      "metadata": {
        "id": "Y3zu38gaf3uu"
      },
      "source": [
        "The correct way to have changed the data type of the ndarray would have been to use the `.astype()` method, demonstrated below."
      ]
    },
    {
      "cell_type": "code",
      "execution_count": 31,
      "metadata": {
        "id": "6E4Y3ydff3uv",
        "outputId": "ca1762f6-2587-474b-9154-dcad8cfd5994",
        "colab": {
          "base_uri": "https://localhost:8080/"
        }
      },
      "outputs": [
        {
          "output_type": "stream",
          "name": "stdout",
          "text": [
            "['10' '5' '8' '32' '65' '43']\n",
            "[10  5  8 32 65 43]\n"
          ]
        }
      ],
      "source": [
        "ages_with_strings = np.array([10, 5, 8, '32', '65', '43'])\n",
        "print(ages_with_strings)\n",
        "print(ages_with_strings.astype('int32'))"
      ]
    },
    {
      "cell_type": "markdown",
      "metadata": {
        "id": "RTVKRrttf3uv"
      },
      "source": [
        "### Exercise\n",
        "\n",
        "* #### Create an array of string numbers, but use dtype to make it an array of floats.\n",
        "* #### Transpose the matrix, printing the new size and shape.\n",
        "* #### Use the .astype() method to convert the array to boolean."
      ]
    },
    {
      "cell_type": "code",
      "source": [
        "string_nums = np.array([['1','0','0','1','1']],dtype = 'float32')\n",
        "string_nums "
      ],
      "metadata": {
        "id": "bzp0o32SgJuM",
        "outputId": "7a56b771-59a0-45a2-a124-7b0b75f89aad",
        "colab": {
          "base_uri": "https://localhost:8080/"
        }
      },
      "execution_count": 32,
      "outputs": [
        {
          "output_type": "execute_result",
          "data": {
            "text/plain": [
              "array([[1., 0., 0., 1., 1.]], dtype=float32)"
            ]
          },
          "metadata": {},
          "execution_count": 32
        }
      ]
    },
    {
      "cell_type": "code",
      "source": [
        "string_nums.shape"
      ],
      "metadata": {
        "id": "0I0FfaRQgJxL",
        "outputId": "748a8536-1c52-4afe-bc9a-42281bca2e80",
        "colab": {
          "base_uri": "https://localhost:8080/"
        }
      },
      "execution_count": 33,
      "outputs": [
        {
          "output_type": "execute_result",
          "data": {
            "text/plain": [
              "(1, 5)"
            ]
          },
          "metadata": {},
          "execution_count": 33
        }
      ]
    },
    {
      "cell_type": "code",
      "source": [
        "string_nums = string_nums.transpose() #string_nums.T\n",
        "string_nums"
      ],
      "metadata": {
        "id": "SftfqCTrgJz8",
        "outputId": "a11af76f-caaf-4b95-bceb-31abb1007420",
        "colab": {
          "base_uri": "https://localhost:8080/"
        }
      },
      "execution_count": 34,
      "outputs": [
        {
          "output_type": "execute_result",
          "data": {
            "text/plain": [
              "array([[1.],\n",
              "       [0.],\n",
              "       [0.],\n",
              "       [1.],\n",
              "       [1.]], dtype=float32)"
            ]
          },
          "metadata": {},
          "execution_count": 34
        }
      ]
    },
    {
      "cell_type": "code",
      "source": [
        "string_nums.shape"
      ],
      "metadata": {
        "id": "xLw3T_VMiPQq",
        "outputId": "f76f3659-9d53-4cdf-9e29-d0f5a7c57190",
        "colab": {
          "base_uri": "https://localhost:8080/"
        }
      },
      "execution_count": 35,
      "outputs": [
        {
          "output_type": "execute_result",
          "data": {
            "text/plain": [
              "(5, 1)"
            ]
          },
          "metadata": {},
          "execution_count": 35
        }
      ]
    },
    {
      "cell_type": "code",
      "source": [
        "string_nums.size"
      ],
      "metadata": {
        "id": "fCbgW7s3lCQr",
        "outputId": "294902c9-1f8d-4a3c-91d9-c9c5e23ceae1",
        "colab": {
          "base_uri": "https://localhost:8080/"
        }
      },
      "execution_count": 36,
      "outputs": [
        {
          "output_type": "execute_result",
          "data": {
            "text/plain": [
              "5"
            ]
          },
          "metadata": {},
          "execution_count": 36
        }
      ]
    },
    {
      "cell_type": "code",
      "source": [
        "print(string_nums.astype('bool'))"
      ],
      "metadata": {
        "id": "ZcgLeH6Zlx2m",
        "outputId": "d8669274-c069-4030-9543-dac50806e0e0",
        "colab": {
          "base_uri": "https://localhost:8080/"
        }
      },
      "execution_count": 37,
      "outputs": [
        {
          "output_type": "stream",
          "name": "stdout",
          "text": [
            "[[ True]\n",
            " [False]\n",
            " [False]\n",
            " [ True]\n",
            " [ True]]\n"
          ]
        }
      ]
    },
    {
      "cell_type": "markdown",
      "metadata": {
        "id": "vLGkpBirf3uv"
      },
      "source": [
        "## Array Slicing Operations"
      ]
    },
    {
      "cell_type": "markdown",
      "metadata": {
        "id": "LjG3OJ9Wf3uw"
      },
      "source": [
        "As before, we can use square brackets and indices to access individual values, and the colon operator to slice the array."
      ]
    },
    {
      "cell_type": "code",
      "execution_count": 38,
      "metadata": {
        "id": "WPuV4CB4f3uw",
        "outputId": "7302b36c-3a37-4985-8055-0ec3a493134b",
        "colab": {
          "base_uri": "https://localhost:8080/"
        }
      },
      "outputs": [
        {
          "output_type": "execute_result",
          "data": {
            "text/plain": [
              "array([ 0,  5, 10, 15, 20, 25, 30, 35, 40, 45, 50])"
            ]
          },
          "metadata": {},
          "execution_count": 38
        }
      ],
      "source": [
        "five_times_table"
      ]
    },
    {
      "cell_type": "code",
      "execution_count": 39,
      "metadata": {
        "id": "T5fdjxi6f3ux",
        "outputId": "d42bf949-8c63-4dc1-d1dd-c57cd65e892e",
        "colab": {
          "base_uri": "https://localhost:8080/"
        }
      },
      "outputs": [
        {
          "output_type": "execute_result",
          "data": {
            "text/plain": [
              "0"
            ]
          },
          "metadata": {},
          "execution_count": 39
        }
      ],
      "source": [
        "five_times_table[0]"
      ]
    },
    {
      "cell_type": "code",
      "execution_count": 40,
      "metadata": {
        "scrolled": true,
        "id": "k97stSEJf3ux",
        "outputId": "62111e67-f1af-4234-ad63-eb76497135f9",
        "colab": {
          "base_uri": "https://localhost:8080/"
        }
      },
      "outputs": [
        {
          "output_type": "execute_result",
          "data": {
            "text/plain": [
              "50"
            ]
          },
          "metadata": {},
          "execution_count": 40
        }
      ],
      "source": [
        "five_times_table[-1]"
      ]
    },
    {
      "cell_type": "code",
      "execution_count": 41,
      "metadata": {
        "id": "mYxvyxMif3ux",
        "outputId": "57dcdbea-8f62-459d-a0e7-ce21bdfe51fa",
        "colab": {
          "base_uri": "https://localhost:8080/"
        }
      },
      "outputs": [
        {
          "output_type": "execute_result",
          "data": {
            "text/plain": [
              "array([ 0,  5, 10, 15])"
            ]
          },
          "metadata": {},
          "execution_count": 41
        }
      ],
      "source": [
        "five_times_table[:4]"
      ]
    },
    {
      "cell_type": "code",
      "execution_count": 42,
      "metadata": {
        "id": "W7cXp5L9f3uy",
        "outputId": "c0eb7c97-6d83-4694-fee1-aa2de2e82d17",
        "colab": {
          "base_uri": "https://localhost:8080/"
        }
      },
      "outputs": [
        {
          "output_type": "execute_result",
          "data": {
            "text/plain": [
              "array([20, 25, 30, 35, 40, 45, 50])"
            ]
          },
          "metadata": {},
          "execution_count": 42
        }
      ],
      "source": [
        "five_times_table[4:]"
      ]
    },
    {
      "cell_type": "markdown",
      "metadata": {
        "id": "-QHfQhXff3uy"
      },
      "source": [
        "We can also slice an n-dim ndarray., specifying the slice operation accross each axis."
      ]
    },
    {
      "cell_type": "code",
      "execution_count": 43,
      "metadata": {
        "id": "SFk0RoW2f3uz",
        "outputId": "a2346ada-a229-4f47-ae89-cacd28470254",
        "colab": {
          "base_uri": "https://localhost:8080/"
        }
      },
      "outputs": [
        {
          "output_type": "stream",
          "name": "stdout",
          "text": [
            "[[10  5  8 32 65 43]\n",
            " [32 18 26 60 55 65]]\n"
          ]
        },
        {
          "output_type": "execute_result",
          "data": {
            "text/plain": [
              "array([[10,  5,  8],\n",
              "       [32, 18, 26]])"
            ]
          },
          "metadata": {},
          "execution_count": 43
        }
      ],
      "source": [
        "print(people)\n",
        "people[:3, :3]"
      ]
    },
    {
      "cell_type": "markdown",
      "metadata": {
        "id": "BLsdDPqff3uz"
      },
      "source": [
        "### Exercise\n",
        "\n",
        "* Create a numpy array with 50 zeros\n",
        "* Create a np array of 2 repeated 20 times\n",
        "* Create a numpy array from 0 to 2 $\\pi$ in steps of 0.1\n",
        "\n",
        "For one of the arrays generated:\n",
        "* Get the first five values\n",
        "* Get the last 3 values\n",
        "* Get the 4th value to the 7th value"
      ]
    },
    {
      "cell_type": "code",
      "source": [
        "zeros = np.zeros(50)\n",
        "zeros"
      ],
      "metadata": {
        "id": "d5b4eNYnnKmV",
        "outputId": "861fd9d9-6da5-46b5-840b-55e039466e1d",
        "colab": {
          "base_uri": "https://localhost:8080/"
        }
      },
      "execution_count": 44,
      "outputs": [
        {
          "output_type": "execute_result",
          "data": {
            "text/plain": [
              "array([0., 0., 0., 0., 0., 0., 0., 0., 0., 0., 0., 0., 0., 0., 0., 0., 0.,\n",
              "       0., 0., 0., 0., 0., 0., 0., 0., 0., 0., 0., 0., 0., 0., 0., 0., 0.,\n",
              "       0., 0., 0., 0., 0., 0., 0., 0., 0., 0., 0., 0., 0., 0., 0., 0.])"
            ]
          },
          "metadata": {},
          "execution_count": 44
        }
      ]
    },
    {
      "cell_type": "code",
      "source": [
        "repeat = np.repeat(2,20)\n",
        "repeat"
      ],
      "metadata": {
        "id": "x9aA9n_GnKpL",
        "outputId": "ee67689f-1a3a-4ef3-bc10-387d9338c2f6",
        "colab": {
          "base_uri": "https://localhost:8080/"
        }
      },
      "execution_count": 45,
      "outputs": [
        {
          "output_type": "execute_result",
          "data": {
            "text/plain": [
              "array([2, 2, 2, 2, 2, 2, 2, 2, 2, 2, 2, 2, 2, 2, 2, 2, 2, 2, 2, 2])"
            ]
          },
          "metadata": {},
          "execution_count": 45
        }
      ]
    },
    {
      "cell_type": "code",
      "source": [
        "ar = np.arange(0,2*3.14,0.1)\n",
        "ar"
      ],
      "metadata": {
        "id": "NlQawuSUnKrk",
        "outputId": "639cfa1b-5b89-4971-85c8-eee2a8b6fa33",
        "colab": {
          "base_uri": "https://localhost:8080/"
        }
      },
      "execution_count": 46,
      "outputs": [
        {
          "output_type": "execute_result",
          "data": {
            "text/plain": [
              "array([0. , 0.1, 0.2, 0.3, 0.4, 0.5, 0.6, 0.7, 0.8, 0.9, 1. , 1.1, 1.2,\n",
              "       1.3, 1.4, 1.5, 1.6, 1.7, 1.8, 1.9, 2. , 2.1, 2.2, 2.3, 2.4, 2.5,\n",
              "       2.6, 2.7, 2.8, 2.9, 3. , 3.1, 3.2, 3.3, 3.4, 3.5, 3.6, 3.7, 3.8,\n",
              "       3.9, 4. , 4.1, 4.2, 4.3, 4.4, 4.5, 4.6, 4.7, 4.8, 4.9, 5. , 5.1,\n",
              "       5.2, 5.3, 5.4, 5.5, 5.6, 5.7, 5.8, 5.9, 6. , 6.1, 6.2])"
            ]
          },
          "metadata": {},
          "execution_count": 46
        }
      ]
    },
    {
      "cell_type": "code",
      "source": [
        "ar[0:5]"
      ],
      "metadata": {
        "id": "sAWfHz43nKuX",
        "outputId": "8c55ccc4-73a6-45b5-f81f-732bd70e4db1",
        "colab": {
          "base_uri": "https://localhost:8080/"
        }
      },
      "execution_count": 47,
      "outputs": [
        {
          "output_type": "execute_result",
          "data": {
            "text/plain": [
              "array([0. , 0.1, 0.2, 0.3, 0.4])"
            ]
          },
          "metadata": {},
          "execution_count": 47
        }
      ]
    },
    {
      "cell_type": "code",
      "source": [
        "ar[-3:]"
      ],
      "metadata": {
        "id": "zYNcvBsxnKyc",
        "outputId": "599b9bf3-6c5e-42c8-ed17-3ab5a760786e",
        "colab": {
          "base_uri": "https://localhost:8080/"
        }
      },
      "execution_count": 48,
      "outputs": [
        {
          "output_type": "execute_result",
          "data": {
            "text/plain": [
              "array([6. , 6.1, 6.2])"
            ]
          },
          "metadata": {},
          "execution_count": 48
        }
      ]
    },
    {
      "cell_type": "code",
      "source": [
        "ar[3:7]"
      ],
      "metadata": {
        "id": "L9Gc0EqjoOZV",
        "outputId": "eb44361a-659a-4155-b9f3-2db7dc046ed9",
        "colab": {
          "base_uri": "https://localhost:8080/"
        }
      },
      "execution_count": 49,
      "outputs": [
        {
          "output_type": "execute_result",
          "data": {
            "text/plain": [
              "array([0.3, 0.4, 0.5, 0.6])"
            ]
          },
          "metadata": {},
          "execution_count": 49
        }
      ]
    },
    {
      "cell_type": "markdown",
      "metadata": {
        "id": "EmHEeElBf3u0"
      },
      "source": [
        "We can reverse an array by using `.flip()` or by using the `::` operator."
      ]
    },
    {
      "cell_type": "code",
      "execution_count": 50,
      "metadata": {
        "id": "JIgZ-Q70f3u1",
        "outputId": "0358370e-de16-42ec-c2b7-4264942a9aff",
        "colab": {
          "base_uri": "https://localhost:8080/"
        }
      },
      "outputs": [
        {
          "output_type": "execute_result",
          "data": {
            "text/plain": [
              "array([50, 45, 40, 35, 30, 25, 20, 15, 10,  5,  0])"
            ]
          },
          "metadata": {},
          "execution_count": 50
        }
      ],
      "source": [
        "reverse_five_times_table = np.flip(five_times_table)\n",
        "reverse_five_times_table"
      ]
    },
    {
      "cell_type": "code",
      "execution_count": 51,
      "metadata": {
        "id": "Tpbh3aBwf3u1",
        "outputId": "cea60c55-5974-4426-cda3-adb5dfad8ed2",
        "colab": {
          "base_uri": "https://localhost:8080/"
        }
      },
      "outputs": [
        {
          "output_type": "stream",
          "name": "stdout",
          "text": [
            "[50 45 40 35 30 25 20 15 10  5  0]\n"
          ]
        },
        {
          "output_type": "execute_result",
          "data": {
            "text/plain": [
              "array([ 0,  5, 10, 15, 20, 25, 30, 35, 40, 45, 50])"
            ]
          },
          "metadata": {},
          "execution_count": 51
        }
      ],
      "source": [
        "reverse_five_times_table = five_times_table[-1::-1]\n",
        "print(reverse_five_times_table)\n",
        "five_times_table"
      ]
    },
    {
      "cell_type": "markdown",
      "metadata": {
        "id": "Uv-5I5nUf3u2"
      },
      "source": [
        "We can also use the `::` operator to select steps of the original array."
      ]
    },
    {
      "cell_type": "code",
      "execution_count": 52,
      "metadata": {
        "id": "6_0dSK9Gf3u2",
        "outputId": "f2356c34-4b40-483a-cb0d-509173cd2231",
        "colab": {
          "base_uri": "https://localhost:8080/"
        }
      },
      "outputs": [
        {
          "output_type": "execute_result",
          "data": {
            "text/plain": [
              "array([ 0, 15, 30, 45])"
            ]
          },
          "metadata": {},
          "execution_count": 52
        }
      ],
      "source": [
        "five_times_table[0::3] #Every 3rd element starting from 0"
      ]
    },
    {
      "cell_type": "markdown",
      "metadata": {
        "id": "BDBsCMWqf3u2"
      },
      "source": [
        "### Exercise\n",
        "Take one of the arrays you defined and\n",
        "* #### Reverse it\n",
        "* #### Only keep every 4th element.\n",
        "* #### Get every 2nd element, starting from the last and moving backwards."
      ]
    },
    {
      "cell_type": "code",
      "source": [
        "ar"
      ],
      "metadata": {
        "id": "wPxJBNejpMTG",
        "outputId": "3e3b4024-1ebe-4177-cc34-20b45d5e5096",
        "colab": {
          "base_uri": "https://localhost:8080/"
        }
      },
      "execution_count": 53,
      "outputs": [
        {
          "output_type": "execute_result",
          "data": {
            "text/plain": [
              "array([0. , 0.1, 0.2, 0.3, 0.4, 0.5, 0.6, 0.7, 0.8, 0.9, 1. , 1.1, 1.2,\n",
              "       1.3, 1.4, 1.5, 1.6, 1.7, 1.8, 1.9, 2. , 2.1, 2.2, 2.3, 2.4, 2.5,\n",
              "       2.6, 2.7, 2.8, 2.9, 3. , 3.1, 3.2, 3.3, 3.4, 3.5, 3.6, 3.7, 3.8,\n",
              "       3.9, 4. , 4.1, 4.2, 4.3, 4.4, 4.5, 4.6, 4.7, 4.8, 4.9, 5. , 5.1,\n",
              "       5.2, 5.3, 5.4, 5.5, 5.6, 5.7, 5.8, 5.9, 6. , 6.1, 6.2])"
            ]
          },
          "metadata": {},
          "execution_count": 53
        }
      ]
    },
    {
      "cell_type": "code",
      "source": [
        "reverse_ar = np.flip(ar)\n",
        "reverse_ar"
      ],
      "metadata": {
        "id": "z8zTCcJMpca7",
        "outputId": "0e4fa7bb-312a-462f-d1bf-ba0626702837",
        "colab": {
          "base_uri": "https://localhost:8080/"
        }
      },
      "execution_count": 54,
      "outputs": [
        {
          "output_type": "execute_result",
          "data": {
            "text/plain": [
              "array([6.2, 6.1, 6. , 5.9, 5.8, 5.7, 5.6, 5.5, 5.4, 5.3, 5.2, 5.1, 5. ,\n",
              "       4.9, 4.8, 4.7, 4.6, 4.5, 4.4, 4.3, 4.2, 4.1, 4. , 3.9, 3.8, 3.7,\n",
              "       3.6, 3.5, 3.4, 3.3, 3.2, 3.1, 3. , 2.9, 2.8, 2.7, 2.6, 2.5, 2.4,\n",
              "       2.3, 2.2, 2.1, 2. , 1.9, 1.8, 1.7, 1.6, 1.5, 1.4, 1.3, 1.2, 1.1,\n",
              "       1. , 0.9, 0.8, 0.7, 0.6, 0.5, 0.4, 0.3, 0.2, 0.1, 0. ])"
            ]
          },
          "metadata": {},
          "execution_count": 54
        }
      ]
    },
    {
      "cell_type": "code",
      "source": [
        "reverse_ar1 = ar[-1::-1]\n",
        "reverse_ar1"
      ],
      "metadata": {
        "id": "MFhvF05Bpcf9",
        "outputId": "c0113173-c954-4519-aa65-6b9ac058b9de",
        "colab": {
          "base_uri": "https://localhost:8080/"
        }
      },
      "execution_count": 55,
      "outputs": [
        {
          "output_type": "execute_result",
          "data": {
            "text/plain": [
              "array([6.2, 6.1, 6. , 5.9, 5.8, 5.7, 5.6, 5.5, 5.4, 5.3, 5.2, 5.1, 5. ,\n",
              "       4.9, 4.8, 4.7, 4.6, 4.5, 4.4, 4.3, 4.2, 4.1, 4. , 3.9, 3.8, 3.7,\n",
              "       3.6, 3.5, 3.4, 3.3, 3.2, 3.1, 3. , 2.9, 2.8, 2.7, 2.6, 2.5, 2.4,\n",
              "       2.3, 2.2, 2.1, 2. , 1.9, 1.8, 1.7, 1.6, 1.5, 1.4, 1.3, 1.2, 1.1,\n",
              "       1. , 0.9, 0.8, 0.7, 0.6, 0.5, 0.4, 0.3, 0.2, 0.1, 0. ])"
            ]
          },
          "metadata": {},
          "execution_count": 55
        }
      ]
    },
    {
      "cell_type": "code",
      "source": [
        "ar[3::4]"
      ],
      "metadata": {
        "id": "H9f_1GtqpyCI",
        "outputId": "9bfd4f76-5a1b-41fc-c52a-4e9e4a6b68cc",
        "colab": {
          "base_uri": "https://localhost:8080/"
        }
      },
      "execution_count": 56,
      "outputs": [
        {
          "output_type": "execute_result",
          "data": {
            "text/plain": [
              "array([0.3, 0.7, 1.1, 1.5, 1.9, 2.3, 2.7, 3.1, 3.5, 3.9, 4.3, 4.7, 5.1,\n",
              "       5.5, 5.9])"
            ]
          },
          "metadata": {},
          "execution_count": 56
        }
      ]
    },
    {
      "cell_type": "code",
      "source": [
        "ar[-1::-2]"
      ],
      "metadata": {
        "id": "W-iSD9aupyFu",
        "outputId": "8ab04942-938f-41b1-f9f7-b0628f3548f1",
        "colab": {
          "base_uri": "https://localhost:8080/"
        }
      },
      "execution_count": 57,
      "outputs": [
        {
          "output_type": "execute_result",
          "data": {
            "text/plain": [
              "array([6.2, 6. , 5.8, 5.6, 5.4, 5.2, 5. , 4.8, 4.6, 4.4, 4.2, 4. , 3.8,\n",
              "       3.6, 3.4, 3.2, 3. , 2.8, 2.6, 2.4, 2.2, 2. , 1.8, 1.6, 1.4, 1.2,\n",
              "       1. , 0.8, 0.6, 0.4, 0.2, 0. ])"
            ]
          },
          "metadata": {},
          "execution_count": 57
        }
      ]
    },
    {
      "cell_type": "markdown",
      "metadata": {
        "id": "BxtmKeXff3u3"
      },
      "source": [
        "# Stats"
      ]
    },
    {
      "cell_type": "code",
      "execution_count": 58,
      "metadata": {
        "id": "tfo0t9f9f3u3",
        "outputId": "40a7ddc4-cc73-454a-824e-42a09f51adda",
        "colab": {
          "base_uri": "https://localhost:8080/"
        }
      },
      "outputs": [
        {
          "output_type": "execute_result",
          "data": {
            "text/plain": [
              "array([1.65, 5.99])"
            ]
          },
          "metadata": {},
          "execution_count": 58
        }
      ],
      "source": [
        "np.array([1.65432, 5.98765]).round(2)"
      ]
    },
    {
      "cell_type": "code",
      "execution_count": 59,
      "metadata": {
        "id": "9Sz__aMFf3u4"
      },
      "outputs": [],
      "source": [
        "nums = np.arange(0, 4, 0.2555)"
      ]
    },
    {
      "cell_type": "code",
      "source": [
        "nums"
      ],
      "metadata": {
        "id": "bkCnwhekriTp",
        "outputId": "60f98334-f324-4bc2-83d0-9288a719e699",
        "colab": {
          "base_uri": "https://localhost:8080/"
        }
      },
      "execution_count": 60,
      "outputs": [
        {
          "output_type": "execute_result",
          "data": {
            "text/plain": [
              "array([0.    , 0.2555, 0.511 , 0.7665, 1.022 , 1.2775, 1.533 , 1.7885,\n",
              "       2.044 , 2.2995, 2.555 , 2.8105, 3.066 , 3.3215, 3.577 , 3.8325])"
            ]
          },
          "metadata": {},
          "execution_count": 60
        }
      ]
    },
    {
      "cell_type": "markdown",
      "metadata": {
        "id": "3kV0k9axf3u7"
      },
      "source": [
        "### Exercise\n",
        "\n",
        "* Compute min, max, sum, mean, median, variance, and standard deviation of the above array, all to to 2 decimal places."
      ]
    },
    {
      "cell_type": "code",
      "execution_count": 61,
      "metadata": {
        "id": "oyYkdGucf3vF",
        "outputId": "04018b13-69b6-4151-9d8b-52a50b651ecb",
        "colab": {
          "base_uri": "https://localhost:8080/"
        }
      },
      "outputs": [
        {
          "output_type": "stream",
          "name": "stdout",
          "text": [
            "min =  0.0\n",
            "max =  3.83\n",
            "sum =  30.66\n",
            "mean =  1.92\n",
            "median =  1.92\n",
            "var =  1.39\n",
            "std =  1.18\n"
          ]
        }
      ],
      "source": [
        "print(\"min = \", np.min(nums).round(2))\n",
        "print(\"max = \", np.max(nums).round(2))\n",
        "print(\"sum = \", np.sum(nums).round(2))\n",
        "print(\"mean = \", np.mean(nums).round(2))\n",
        "print(\"median = \", np.median(nums).round(2))\n",
        "print(\"var = \", np.var(nums).round(2))\n",
        "print(\"std = \", np.std(nums).round(2))"
      ]
    },
    {
      "cell_type": "markdown",
      "metadata": {
        "id": "dlvWo9jaf3vX"
      },
      "source": [
        "## Random"
      ]
    },
    {
      "cell_type": "markdown",
      "metadata": {
        "id": "6YZdTD9Af3vc"
      },
      "source": [
        "With `np.random`, we can generate a number of types of dataset, and create training data.\n",
        "\n",
        "The below code simulates a fair coin toss."
      ]
    },
    {
      "cell_type": "code",
      "execution_count": 62,
      "metadata": {
        "id": "zp9e2bvJf3vt",
        "outputId": "eadf49ab-cf5a-4880-f716-b8d20ba31de4",
        "colab": {
          "base_uri": "https://localhost:8080/"
        }
      },
      "outputs": [
        {
          "output_type": "execute_result",
          "data": {
            "text/plain": [
              "array([0, 0, 0, 1, 1, 1, 1, 1, 1, 0])"
            ]
          },
          "metadata": {},
          "execution_count": 62
        }
      ],
      "source": [
        "flip = np.random.choice([0,1], 10)\n",
        "flip"
      ]
    },
    {
      "cell_type": "code",
      "execution_count": 63,
      "metadata": {
        "id": "M30nhJSFf3vu",
        "outputId": "0f27b3f4-34a4-4cde-cda6-29fedc55ec47",
        "colab": {
          "base_uri": "https://localhost:8080/"
        }
      },
      "outputs": [
        {
          "output_type": "execute_result",
          "data": {
            "text/plain": [
              "array([[[0.09525566, 0.15027138, 0.30575246, ..., 0.30972408,\n",
              "         0.78015893, 0.98398594],\n",
              "        [0.81466581, 0.64723608, 0.05916166, ..., 0.34819299,\n",
              "         0.80027342, 0.19414103],\n",
              "        [0.42958795, 0.23289644, 0.25121748, ..., 0.83435256,\n",
              "         0.41718104, 0.40856997],\n",
              "        ...,\n",
              "        [0.21996249, 0.76282604, 0.03119874, ..., 0.82067411,\n",
              "         0.38369708, 0.18058687],\n",
              "        [0.06526141, 0.38375887, 0.60891985, ..., 0.05601261,\n",
              "         0.62322527, 0.99529656],\n",
              "        [0.67813492, 0.22753471, 0.6829043 , ..., 0.00950316,\n",
              "         0.58869559, 0.03521564]],\n",
              "\n",
              "       [[0.76838383, 0.04500277, 0.18737813, ..., 0.68826583,\n",
              "         0.35431177, 0.84329091],\n",
              "        [0.40876012, 0.72279098, 0.89815407, ..., 0.55917064,\n",
              "         0.35646642, 0.05770123],\n",
              "        [0.11601916, 0.10026003, 0.66917809, ..., 0.37682868,\n",
              "         0.98114696, 0.62646666],\n",
              "        ...,\n",
              "        [0.38780255, 0.96316196, 0.31658811, ..., 0.8721944 ,\n",
              "         0.90628284, 0.46712835],\n",
              "        [0.1267929 , 0.99389715, 0.01359372, ..., 0.06452046,\n",
              "         0.12945277, 0.80002063],\n",
              "        [0.20855565, 0.83589638, 0.48321954, ..., 0.49741104,\n",
              "         0.2318135 , 0.81951547]],\n",
              "\n",
              "       [[0.43620386, 0.60721612, 0.20670272, ..., 0.82390069,\n",
              "         0.88944325, 0.01574053],\n",
              "        [0.48683685, 0.34659462, 0.51388971, ..., 0.80034079,\n",
              "         0.75958475, 0.23459408],\n",
              "        [0.57513022, 0.41534053, 0.08709132, ..., 0.47627975,\n",
              "         0.7810051 , 0.50169837],\n",
              "        ...,\n",
              "        [0.5659024 , 0.60278198, 0.40550188, ..., 0.24719461,\n",
              "         0.40086624, 0.25689594],\n",
              "        [0.66564575, 0.67419039, 0.21845858, ..., 0.10451024,\n",
              "         0.72776375, 0.02674036],\n",
              "        [0.85635614, 0.93063071, 0.40901059, ..., 0.79221728,\n",
              "         0.42790175, 0.78353643]],\n",
              "\n",
              "       ...,\n",
              "\n",
              "       [[0.56894364, 0.56104622, 0.54032805, ..., 0.42988521,\n",
              "         0.62158965, 0.94923955],\n",
              "        [0.47089816, 0.13551449, 0.3133322 , ..., 0.73049949,\n",
              "         0.07306731, 0.27137732],\n",
              "        [0.23826105, 0.36665379, 0.02340092, ..., 0.07252853,\n",
              "         0.56274464, 0.73886405],\n",
              "        ...,\n",
              "        [0.22024967, 0.88274666, 0.35197833, ..., 0.64026342,\n",
              "         0.66399731, 0.09391364],\n",
              "        [0.56798238, 0.53428408, 0.79165471, ..., 0.05731679,\n",
              "         0.40170769, 0.61293727],\n",
              "        [0.16908928, 0.07916442, 0.12786164, ..., 0.85385123,\n",
              "         0.78549496, 0.78114252]],\n",
              "\n",
              "       [[0.5446253 , 0.28301997, 0.97581855, ..., 0.57018419,\n",
              "         0.6792018 , 0.44772818],\n",
              "        [0.60764037, 0.67368246, 0.10766342, ..., 0.74916322,\n",
              "         0.62872416, 0.66319293],\n",
              "        [0.16342537, 0.8817852 , 0.91319557, ..., 0.97071174,\n",
              "         0.32431121, 0.42172497],\n",
              "        ...,\n",
              "        [0.57684381, 0.71537744, 0.57942737, ..., 0.97222385,\n",
              "         0.7941899 , 0.93208592],\n",
              "        [0.84992694, 0.30633738, 0.92958693, ..., 0.10145283,\n",
              "         0.55306648, 0.75784949],\n",
              "        [0.00555268, 0.33223657, 0.22563798, ..., 0.08975908,\n",
              "         0.61251054, 0.11961741]],\n",
              "\n",
              "       [[0.07924225, 0.97630775, 0.2135275 , ..., 0.9459689 ,\n",
              "         0.1916123 , 0.1390448 ],\n",
              "        [0.34776915, 0.81283807, 0.26169004, ..., 0.57255207,\n",
              "         0.0243387 , 0.32329992],\n",
              "        [0.13201947, 0.33665347, 0.56613328, ..., 0.14141232,\n",
              "         0.79946458, 0.12980554],\n",
              "        ...,\n",
              "        [0.00229742, 0.71738799, 0.35885815, ..., 0.54444171,\n",
              "         0.82185539, 0.17382351],\n",
              "        [0.20924947, 0.21412927, 0.63971958, ..., 0.06598255,\n",
              "         0.03479384, 0.67798218],\n",
              "        [0.84723799, 0.85064835, 0.1071858 , ..., 0.05924575,\n",
              "         0.78647369, 0.10020698]]])"
            ]
          },
          "metadata": {},
          "execution_count": 63
        }
      ],
      "source": [
        "np.random.rand(10,20,9)"
      ]
    },
    {
      "cell_type": "markdown",
      "metadata": {
        "id": "R3aOgO_of3vu"
      },
      "source": [
        "We can produce 1000 datapoints of a normally distributed data set by using `np.random.normal()`"
      ]
    },
    {
      "cell_type": "code",
      "execution_count": 64,
      "metadata": {
        "id": "QvcXsQgvf3vv",
        "outputId": "f3ee47ce-900f-4aa4-dff4-6c4c174fdf8f",
        "colab": {
          "base_uri": "https://localhost:8080/"
        }
      },
      "outputs": [
        {
          "output_type": "execute_result",
          "data": {
            "text/plain": [
              "array([-0.08229322,  0.09336241, -0.06514644, -0.11364737, -0.00879319,\n",
              "        0.18788662, -0.08297548, -0.01702394,  0.02948496,  0.03985549,\n",
              "       -0.07664054, -0.1053703 , -0.09825329,  0.1180397 ,  0.12183613,\n",
              "        0.02161194, -0.00513592,  0.02677276, -0.13668426, -0.04642751,\n",
              "       -0.12830654, -0.0789017 ,  0.18365566, -0.03866692,  0.00341949,\n",
              "        0.06234984, -0.08685467,  0.10065792, -0.09568919,  0.08907208,\n",
              "       -0.09926038,  0.1086324 ,  0.05340553,  0.0194219 , -0.06206857,\n",
              "       -0.1342091 , -0.10120026,  0.13881769,  0.05186812, -0.04640725,\n",
              "        0.03176628,  0.06207936, -0.02216986, -0.05804632, -0.23122891,\n",
              "       -0.0134155 , -0.01696118,  0.26863898, -0.02387443,  0.20822274,\n",
              "       -0.09275854,  0.1652616 , -0.02470249, -0.17817725,  0.04450773,\n",
              "       -0.102397  ,  0.00585928, -0.07528534,  0.08129542, -0.06951615,\n",
              "        0.13757701, -0.04958699,  0.05715187,  0.01994124,  0.0323319 ,\n",
              "       -0.12989689, -0.15793943, -0.02125814, -0.14196333,  0.04661688,\n",
              "        0.15832119, -0.15075411,  0.00798523,  0.06987411, -0.11208046,\n",
              "        0.23218098, -0.08913344,  0.28645366, -0.02254866, -0.10848531,\n",
              "        0.15511478,  0.11314227, -0.13317488, -0.10485559, -0.00784999,\n",
              "       -0.04775398,  0.07338932,  0.07572196,  0.0789177 , -0.10472796,\n",
              "       -0.00340672, -0.04119823, -0.07614948, -0.16357136, -0.07211714,\n",
              "       -0.01168435, -0.06877263, -0.0009799 , -0.06496189, -0.0732816 ,\n",
              "        0.20083316, -0.07755944, -0.08947009,  0.06013736, -0.04981649,\n",
              "       -0.0512437 , -0.01643416,  0.01095538, -0.05964687,  0.10655791,\n",
              "       -0.00694547,  0.04621503, -0.134868  ,  0.05615249, -0.10517541,\n",
              "        0.26952621, -0.07662148,  0.04931736, -0.08973804, -0.11453111,\n",
              "       -0.14025956,  0.17736032,  0.16866504, -0.11833719, -0.0222003 ,\n",
              "        0.0924061 , -0.02196758, -0.15757837,  0.01980955,  0.13296246,\n",
              "        0.02308422, -0.05436919, -0.16848297, -0.15102625,  0.06951928,\n",
              "        0.02074956,  0.04195297, -0.00440807,  0.06464546,  0.07048048,\n",
              "        0.14175547,  0.07178398,  0.07835122, -0.00601352,  0.19341619,\n",
              "       -0.09007421, -0.01472609,  0.09974431, -0.08422439, -0.04327944,\n",
              "       -0.0194534 , -0.07572509,  0.01419367,  0.10906504,  0.02043504,\n",
              "       -0.08472232, -0.00056576, -0.03738014, -0.07319654, -0.03023236,\n",
              "       -0.06166806, -0.00828567, -0.07228655, -0.16488909, -0.18652882,\n",
              "        0.00780574, -0.23514426, -0.19037054,  0.06067798,  0.05536824,\n",
              "        0.03374863, -0.20588723, -0.03332266, -0.01959801,  0.02227224,\n",
              "        0.00887039, -0.0720216 , -0.03900293, -0.05529963,  0.18484703,\n",
              "       -0.01254698,  0.02527553,  0.12625642, -0.08398486,  0.07844504,\n",
              "       -0.12665298, -0.03836706,  0.06311494,  0.07139913, -0.09845849,\n",
              "       -0.06285536,  0.1473144 ,  0.01602533,  0.19202808,  0.00939513,\n",
              "       -0.0805955 , -0.18687389,  0.21970001, -0.04877052, -0.02450591,\n",
              "        0.05378218,  0.00357894,  0.03559679,  0.01657247, -0.01433835,\n",
              "       -0.01945825,  0.16902955,  0.06214852,  0.1016382 ,  0.14151311,\n",
              "        0.04157691, -0.16861057, -0.07897766, -0.00638304, -0.04080781,\n",
              "       -0.20447318, -0.05214415, -0.04924766, -0.14152726,  0.01122676,\n",
              "       -0.17650577, -0.12650203, -0.12584299, -0.13439797,  0.0926805 ,\n",
              "        0.35298029, -0.08929109,  0.02701696, -0.01172552, -0.01127645,\n",
              "       -0.11254953,  0.00707273, -0.09607056,  0.16081175,  0.11010135,\n",
              "        0.19347617, -0.00811483,  0.0302089 , -0.14947431,  0.19971277,\n",
              "       -0.02495028, -0.05326425, -0.10947814,  0.19869022,  0.03340892,\n",
              "       -0.03250568, -0.00856225, -0.16534597,  0.04015134,  0.03373481,\n",
              "        0.03973729, -0.07172625, -0.09857984,  0.07568874, -0.12997742,\n",
              "       -0.02690098,  0.02940956,  0.07350929, -0.15410014, -0.07432168,\n",
              "        0.1456286 , -0.0404629 , -0.0293776 , -0.01767035, -0.03741401,\n",
              "       -0.09349199,  0.04855367,  0.1392178 , -0.13496355, -0.01368748,\n",
              "       -0.07368589, -0.08925278, -0.00872151,  0.05873782,  0.09508897,\n",
              "       -0.00287963,  0.01174617,  0.18781279, -0.15770091,  0.01644065,\n",
              "        0.05012268, -0.13734327,  0.28594093,  0.02635587, -0.17838484,\n",
              "       -0.13938092, -0.00403517,  0.14587397, -0.02158197, -0.03153917,\n",
              "        0.19033329, -0.01008477,  0.1985124 ,  0.06287349, -0.10428673,\n",
              "        0.01619333,  0.12959357, -0.05972937,  0.1098117 ,  0.19133654,\n",
              "        0.08788946, -0.00368653, -0.0372955 , -0.03228019,  0.02423082,\n",
              "        0.01002836, -0.06324895,  0.01389908,  0.05682529, -0.01127417,\n",
              "       -0.03212332, -0.08233665, -0.08452418,  0.01411504, -0.0033489 ,\n",
              "       -0.15864995, -0.03232381, -0.03054559,  0.08841796,  0.0332753 ,\n",
              "        0.05374056, -0.04731978,  0.048942  ,  0.09047512, -0.10619801,\n",
              "        0.00611743, -0.07422183,  0.07190295, -0.06208846, -0.02795803,\n",
              "        0.11050168, -0.03800223, -0.01216877, -0.01495649, -0.10996386,\n",
              "       -0.07881087, -0.05825913,  0.04391039, -0.19202317,  0.10857521,\n",
              "        0.02012224, -0.04125091, -0.06802832, -0.00591109, -0.17883422,\n",
              "        0.05990457, -0.05061688,  0.00104427, -0.06770953, -0.05058969,\n",
              "       -0.01603357, -0.09651297, -0.02538712,  0.08807915,  0.04077034,\n",
              "        0.00977536, -0.16062792, -0.03046225,  0.04059141,  0.24259658,\n",
              "       -0.05778445, -0.0409595 ,  0.09835942, -0.1093009 , -0.01577373,\n",
              "        0.04629472,  0.07497977,  0.08410494,  0.07371516, -0.20081446,\n",
              "        0.04109205,  0.03447842,  0.03974748,  0.03282285,  0.0318098 ,\n",
              "        0.01024774,  0.10683916, -0.10579579,  0.07490376,  0.00525186,\n",
              "        0.20297239,  0.09526285, -0.11312656,  0.10575829,  0.07777966,\n",
              "        0.08424119, -0.06677445,  0.0556095 , -0.01368865, -0.04701636,\n",
              "       -0.15195184, -0.00171172, -0.09496148, -0.15452378, -0.0143836 ,\n",
              "        0.07138577, -0.00173491,  0.00352052, -0.14416735,  0.05410064,\n",
              "        0.17406208,  0.20448818, -0.27623382, -0.00731912, -0.02287636,\n",
              "       -0.09306077, -0.06659869,  0.09667834, -0.12775131,  0.06008663,\n",
              "       -0.17931151, -0.09683768,  0.02001806, -0.24228837, -0.10618022,\n",
              "       -0.11969564,  0.15634446, -0.01281173,  0.13647696, -0.083284  ,\n",
              "       -0.01462278, -0.04748188, -0.05671134, -0.00431482,  0.00057184,\n",
              "        0.1584336 , -0.07945991,  0.07133207,  0.0081331 ,  0.20020783,\n",
              "        0.06829955, -0.07511635,  0.19290269, -0.00732308, -0.002389  ,\n",
              "        0.06131262, -0.03311022,  0.10811916,  0.00981744,  0.01237708,\n",
              "        0.07671757, -0.00263895, -0.02457482, -0.12102398,  0.0151917 ,\n",
              "       -0.02372721, -0.04302992,  0.03606828, -0.01315782, -0.04555359,\n",
              "        0.13049761,  0.01893413, -0.00275219,  0.00325128, -0.11556367,\n",
              "        0.12416969, -0.08908886, -0.20727678,  0.02729981, -0.03575006,\n",
              "       -0.09191325, -0.08772208, -0.06615425,  0.20833556, -0.03850145,\n",
              "        0.0156896 ,  0.0858371 ,  0.06351593, -0.03991655, -0.053071  ,\n",
              "        0.01712395, -0.02433851, -0.10811788, -0.01270319, -0.15360646,\n",
              "        0.15054207,  0.14861889,  0.00486002,  0.05172919,  0.07753757,\n",
              "       -0.09115912,  0.10999479,  0.03350733, -0.05092677, -0.03694336,\n",
              "        0.04951831,  0.02482464, -0.04904333,  0.08558689,  0.12279384,\n",
              "        0.02164969,  0.06198899, -0.00933385, -0.03220342, -0.03923309,\n",
              "       -0.10615099,  0.02038353, -0.0099491 , -0.17294119, -0.28396641,\n",
              "        0.05719164, -0.0274737 , -0.13268496, -0.00066619, -0.03556263,\n",
              "        0.11901321,  0.1109302 ,  0.10495734,  0.04271534,  0.00744524,\n",
              "       -0.08809195,  0.07255166,  0.05915342, -0.06904183, -0.16750109,\n",
              "        0.09096954,  0.06000312, -0.11395993,  0.13546978,  0.11158757,\n",
              "        0.10893755,  0.08072631,  0.06280056,  0.01509721,  0.08257732,\n",
              "        0.12079855,  0.05944367,  0.01093875, -0.07763265,  0.06306322,\n",
              "       -0.03273077,  0.04136204, -0.03106041, -0.05978182,  0.21930977,\n",
              "       -0.04287012,  0.07388561, -0.01008729,  0.24137449, -0.10766611,\n",
              "        0.09686981, -0.06332164,  0.10239533,  0.0082427 , -0.00728393,\n",
              "        0.05115421, -0.08243847,  0.026397  ,  0.03749616, -0.0626568 ,\n",
              "       -0.02408991,  0.04789136, -0.07702599,  0.03938567,  0.07498631,\n",
              "        0.29285001,  0.05069188,  0.21715025, -0.1758444 , -0.01288211,\n",
              "       -0.01598279, -0.02315763,  0.11650058,  0.05677741, -0.00897767,\n",
              "       -0.00169596, -0.06323268,  0.09249717,  0.11341192,  0.04140249,\n",
              "       -0.10365327, -0.15015366, -0.06796144, -0.14237739, -0.03438586,\n",
              "        0.11340589, -0.1274788 ,  0.02361863, -0.0399144 ,  0.00516682,\n",
              "       -0.08930732,  0.10383539,  0.0300143 , -0.05788976, -0.04157628,\n",
              "       -0.05490334,  0.07481392, -0.02232935,  0.11960408,  0.15307676,\n",
              "       -0.10988357, -0.21615694,  0.09668416,  0.23192702, -0.05255973,\n",
              "        0.05743517,  0.12064212, -0.08819161,  0.17368091,  0.10498379,\n",
              "       -0.12055488,  0.09920434, -0.10118899,  0.15007202,  0.00230702,\n",
              "       -0.02741209,  0.09234099, -0.0858665 ,  0.03112997, -0.06762928,\n",
              "        0.05650055,  0.13805032,  0.03321269,  0.09938351, -0.02244733,\n",
              "        0.05375211,  0.0204461 , -0.07530861, -0.05241196, -0.02416042,\n",
              "       -0.1533823 ,  0.00066742,  0.03387651,  0.1815678 , -0.0382058 ,\n",
              "        0.05175441,  0.07121581, -0.19570964,  0.05793138,  0.05189504,\n",
              "       -0.11671362,  0.00588645, -0.04167265, -0.09218238, -0.02849433,\n",
              "        0.15085052, -0.01946328,  0.01608839, -0.13070124, -0.08560598,\n",
              "        0.00364986,  0.07710933, -0.10278621,  0.10571976,  0.02930057,\n",
              "       -0.07621278, -0.00170083, -0.02797322,  0.04987961,  0.19713794,\n",
              "        0.03956781,  0.03446225, -0.1836484 ,  0.02568462, -0.15646581,\n",
              "        0.1452042 , -0.12628283, -0.1956371 , -0.06742239, -0.02120229,\n",
              "        0.03103243, -0.11439781, -0.02825874,  0.06167819, -0.02142299,\n",
              "       -0.02865208,  0.0680665 , -0.08091304, -0.01511079,  0.16472087,\n",
              "       -0.01833928,  0.01472769,  0.07235394, -0.00829951, -0.19156863,\n",
              "        0.07088776,  0.05593872, -0.16799219,  0.00731502, -0.28179781,\n",
              "       -0.01257433,  0.06357053,  0.00796817,  0.12312287, -0.14524769,\n",
              "       -0.08073665, -0.17858141,  0.01372771, -0.16114625,  0.03881437,\n",
              "        0.18834516, -0.22717134,  0.09868746,  0.16694141, -0.04126167,\n",
              "       -0.08680656, -0.08147117, -0.08666078, -0.05825862,  0.13821646,\n",
              "       -0.00766405,  0.03495079, -0.03145015, -0.00266322, -0.20507967,\n",
              "       -0.1477043 ,  0.00796694, -0.12578073,  0.03316128,  0.0544843 ,\n",
              "       -0.15873031,  0.10370948,  0.10320949,  0.11627313,  0.03825499,\n",
              "        0.01553626,  0.04146497,  0.05015295,  0.17834554,  0.15725042,\n",
              "       -0.00498463,  0.09328075, -0.09968171,  0.07991266, -0.0852086 ,\n",
              "       -0.02122158, -0.19514761,  0.06310945, -0.04767443,  0.02996805,\n",
              "       -0.08602235, -0.10820864, -0.06548983,  0.12358586,  0.13132795,\n",
              "       -0.05578335, -0.05797474,  0.0107486 ,  0.01459604,  0.0166403 ,\n",
              "        0.05934694,  0.00482427,  0.09286131, -0.11520027, -0.05297346,\n",
              "       -0.0616393 ,  0.00402865,  0.08332068, -0.06828161, -0.05237791,\n",
              "        0.10988978, -0.00311231,  0.00134656,  0.10093935, -0.01051321,\n",
              "        0.11413559, -0.16653759,  0.05024894, -0.02913062,  0.03856259,\n",
              "        0.05490571,  0.01747921, -0.06009948, -0.07939998, -0.03552682,\n",
              "        0.06257265,  0.03249144,  0.03136546, -0.01347923,  0.08193934,\n",
              "       -0.03128009, -0.17126497, -0.08744525, -0.02868403,  0.1417309 ,\n",
              "       -0.1512249 , -0.06676888, -0.05321691, -0.20228279, -0.02749496,\n",
              "        0.07417302, -0.14980294,  0.03498246,  0.14817191, -0.01100781,\n",
              "        0.06118514, -0.12214155, -0.03072436, -0.04345162,  0.03964779,\n",
              "        0.10471259,  0.28959424,  0.1185259 ,  0.06693169,  0.12219573,\n",
              "        0.02493253,  0.00555265,  0.03388208,  0.12550237,  0.06110447,\n",
              "       -0.10594847, -0.12935936,  0.07258676,  0.04695644, -0.08554847,\n",
              "        0.02028269,  0.12538624,  0.20896969, -0.00040341,  0.02180269,\n",
              "       -0.27191612,  0.11691352, -0.03841169, -0.05675349, -0.01777779,\n",
              "        0.08082403, -0.06977856,  0.04406053, -0.16061409,  0.02262388,\n",
              "        0.08979378,  0.09703038,  0.24861682, -0.07310629,  0.2051175 ,\n",
              "       -0.07537139,  0.20288172,  0.01084726,  0.11263231, -0.05715728,\n",
              "       -0.03289002,  0.07979527,  0.08440913, -0.04836717,  0.04508988,\n",
              "        0.02165358,  0.17517463,  0.03273271, -0.07756105,  0.13517055,\n",
              "        0.01524597,  0.0943062 ,  0.06268589, -0.15835349, -0.03483502,\n",
              "        0.16853863,  0.07238501, -0.01665118, -0.20001786, -0.12457205,\n",
              "       -0.10056554, -0.18187022, -0.13081365, -0.00120529, -0.04946873,\n",
              "        0.10240301, -0.03204062,  0.02245598,  0.01043131, -0.11873191,\n",
              "       -0.01621091, -0.05389606,  0.03812074,  0.08362264, -0.09248427,\n",
              "       -0.01360363,  0.12888673, -0.00665423, -0.12190137,  0.04350069,\n",
              "        0.2294958 , -0.02413414, -0.02112888, -0.04422143,  0.14098564,\n",
              "        0.05055861,  0.01415421,  0.1888496 ,  0.04076074, -0.16232695,\n",
              "       -0.00282637,  0.04576564,  0.03352961,  0.07774157,  0.00812156,\n",
              "       -0.24924584, -0.08623319,  0.06832791, -0.05059748,  0.06942846,\n",
              "        0.02775958, -0.09108748,  0.00042965, -0.01924018,  0.03384212,\n",
              "        0.02848532, -0.09819232, -0.00565933,  0.04970805, -0.10463974,\n",
              "        0.17252085, -0.16545602, -0.0927268 , -0.02648173,  0.09644701,\n",
              "        0.07206321, -0.13036263, -0.15433967, -0.08407776,  0.1395321 ,\n",
              "       -0.13982028, -0.2420625 , -0.05021015,  0.10639754,  0.10508315,\n",
              "        0.36095469,  0.00348426,  0.0686562 ,  0.063604  , -0.26260956,\n",
              "       -0.08299547, -0.03258108,  0.03888479, -0.23665784,  0.03300638,\n",
              "       -0.06176525,  0.05240124, -0.04067686,  0.093447  , -0.10238763,\n",
              "       -0.1481199 ,  0.0534776 ,  0.05417203,  0.10063211,  0.14354683,\n",
              "       -0.05498663,  0.06599876,  0.18793667, -0.00934973, -0.15154637,\n",
              "        0.00728394,  0.0923605 , -0.12769477,  0.0867341 , -0.03546595,\n",
              "       -0.08586495, -0.02871248,  0.0884573 ,  0.07538035,  0.03996709,\n",
              "        0.17481318, -0.07359788,  0.1213315 , -0.03086674, -0.07079769,\n",
              "       -0.02470869,  0.14925182,  0.04236724, -0.1000409 , -0.07586508,\n",
              "       -0.02770316,  0.14352117, -0.02226666, -0.00527231, -0.03089992,\n",
              "       -0.01012354, -0.1359441 , -0.02378656, -0.17143645,  0.0229799 ,\n",
              "       -0.00467261, -0.09223827, -0.07506195,  0.08389539, -0.11398133,\n",
              "       -0.01994253, -0.10629386, -0.11544872, -0.02769936,  0.05614505,\n",
              "        0.02852154, -0.04565276,  0.02107656,  0.15596243,  0.04844462,\n",
              "       -0.04762392,  0.07815748,  0.08832013, -0.12443124, -0.10471887,\n",
              "        0.14433438,  0.06599372, -0.06815204,  0.06947565, -0.14434503,\n",
              "       -0.25393858, -0.17372144, -0.10151078, -0.12387607, -0.14322399])"
            ]
          },
          "metadata": {},
          "execution_count": 64
        }
      ],
      "source": [
        "mu, sigma = 0, 0.1 # mean and standard deviation\n",
        "s = np.random.normal(mu, sigma, 1000)\n",
        "s"
      ]
    },
    {
      "cell_type": "markdown",
      "metadata": {
        "id": "BQQ5QKBpf3vv"
      },
      "source": [
        "### Exercise\n",
        "* Simulate a six-sided dice using numpy.random.choice(), generate a list of values you would obtain from 10 throws.\n",
        "* Simulate a two-sided coin toss that is NOT fair: it is twice as likely to have head than tails.\n"
      ]
    },
    {
      "cell_type": "code",
      "execution_count": 65,
      "metadata": {
        "id": "OSbPqKtLf3vv",
        "outputId": "508bc289-7b5f-4298-a2d7-ec07883d7af0",
        "colab": {
          "base_uri": "https://localhost:8080/"
        }
      },
      "outputs": [
        {
          "output_type": "execute_result",
          "data": {
            "text/plain": [
              "array([5, 1, 3, 4, 6, 2, 1, 4, 2, 1])"
            ]
          },
          "metadata": {},
          "execution_count": 65
        }
      ],
      "source": [
        "dice_throw = np.random.choice([1,2,3,4,5,6],10)\n",
        "dice_throw"
      ]
    },
    {
      "cell_type": "code",
      "source": [
        "coin_throw = np.random.choice(['Head','Head','Tail'],10)\n",
        "coin_throw"
      ],
      "metadata": {
        "id": "s2aEzkggs0b8",
        "outputId": "1a468bf2-05c1-4e8e-b595-1ce244343a4c",
        "colab": {
          "base_uri": "https://localhost:8080/"
        }
      },
      "execution_count": 66,
      "outputs": [
        {
          "output_type": "execute_result",
          "data": {
            "text/plain": [
              "array(['Head', 'Head', 'Head', 'Head', 'Head', 'Head', 'Head', 'Tail',\n",
              "       'Tail', 'Head'], dtype='<U4')"
            ]
          },
          "metadata": {},
          "execution_count": 66
        }
      ]
    }
  ],
  "metadata": {
    "kernelspec": {
      "display_name": "Python 3",
      "language": "python",
      "name": "python3"
    },
    "language_info": {
      "codemirror_mode": {
        "name": "ipython",
        "version": 3
      },
      "file_extension": ".py",
      "mimetype": "text/x-python",
      "name": "python",
      "nbconvert_exporter": "python",
      "pygments_lexer": "ipython3",
      "version": "3.7.4"
    },
    "colab": {
      "name": "01_Python Numpy.ipynb",
      "provenance": [],
      "include_colab_link": true
    }
  },
  "nbformat": 4,
  "nbformat_minor": 0
}