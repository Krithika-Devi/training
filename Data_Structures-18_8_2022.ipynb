{
  "nbformat": 4,
  "nbformat_minor": 0,
  "metadata": {
    "colab": {
      "name": "Data Structures 18/8/2022.ipynb",
      "provenance": [],
      "authorship_tag": "ABX9TyM9OTvb5OjANCcAh7lzDKVI",
      "include_colab_link": true
    },
    "kernelspec": {
      "name": "python3",
      "display_name": "Python 3"
    },
    "language_info": {
      "name": "python"
    }
  },
  "cells": [
    {
      "cell_type": "markdown",
      "metadata": {
        "id": "view-in-github",
        "colab_type": "text"
      },
      "source": [
        "<a href=\"https://colab.research.google.com/github/Krithika-Devi/training/blob/main/Data_Structures-18_8_2022.ipynb\" target=\"_parent\"><img src=\"https://colab.research.google.com/assets/colab-badge.svg\" alt=\"Open In Colab\"/></a>"
      ]
    },
    {
      "cell_type": "markdown",
      "source": [
        "## DATA STRUCTURES"
      ],
      "metadata": {
        "id": "sRvt_OGbnf65"
      }
    },
    {
      "cell_type": "markdown",
      "source": [
        "## **LISTS**\n",
        "\n",
        "\n",
        "1.   List is a collection which is Ordered and Changeable.\n",
        "2.   List Allows Duplicate numbers.\n",
        "\n"
      ],
      "metadata": {
        "id": "B5yvtWepoDqT"
      }
    },
    {
      "cell_type": "code",
      "source": [
        "dir(list)"
      ],
      "metadata": {
        "colab": {
          "base_uri": "https://localhost:8080/"
        },
        "id": "HlT8lFOFUOgO",
        "outputId": "d0ae3457-b515-404f-c210-fc09f0922ca4"
      },
      "execution_count": 1,
      "outputs": [
        {
          "output_type": "execute_result",
          "data": {
            "text/plain": [
              "['__add__',\n",
              " '__class__',\n",
              " '__contains__',\n",
              " '__delattr__',\n",
              " '__delitem__',\n",
              " '__dir__',\n",
              " '__doc__',\n",
              " '__eq__',\n",
              " '__format__',\n",
              " '__ge__',\n",
              " '__getattribute__',\n",
              " '__getitem__',\n",
              " '__gt__',\n",
              " '__hash__',\n",
              " '__iadd__',\n",
              " '__imul__',\n",
              " '__init__',\n",
              " '__init_subclass__',\n",
              " '__iter__',\n",
              " '__le__',\n",
              " '__len__',\n",
              " '__lt__',\n",
              " '__mul__',\n",
              " '__ne__',\n",
              " '__new__',\n",
              " '__reduce__',\n",
              " '__reduce_ex__',\n",
              " '__repr__',\n",
              " '__reversed__',\n",
              " '__rmul__',\n",
              " '__setattr__',\n",
              " '__setitem__',\n",
              " '__sizeof__',\n",
              " '__str__',\n",
              " '__subclasshook__',\n",
              " 'append',\n",
              " 'clear',\n",
              " 'copy',\n",
              " 'count',\n",
              " 'extend',\n",
              " 'index',\n",
              " 'insert',\n",
              " 'pop',\n",
              " 'remove',\n",
              " 'reverse',\n",
              " 'sort']"
            ]
          },
          "metadata": {},
          "execution_count": 1
        }
      ]
    },
    {
      "cell_type": "code",
      "source": [
        "mylist = ['C','C++','Python','Java','Machine Learning','Computer Vision']\n",
        "mylist"
      ],
      "metadata": {
        "colab": {
          "base_uri": "https://localhost:8080/"
        },
        "id": "dqEHJLUbnmk7",
        "outputId": "194afca4-ad27-4b20-81f7-bdf5cadec323"
      },
      "execution_count": 2,
      "outputs": [
        {
          "output_type": "execute_result",
          "data": {
            "text/plain": [
              "['C', 'C++', 'Python', 'Java', 'Machine Learning', 'Computer Vision']"
            ]
          },
          "metadata": {},
          "execution_count": 2
        }
      ]
    },
    {
      "cell_type": "markdown",
      "source": [
        "* The following list indexes first and last element in a list."
      ],
      "metadata": {
        "id": "FoTy3xMApcAw"
      }
    },
    {
      "cell_type": "code",
      "source": [
        "mylist[0],mylist[-1]"
      ],
      "metadata": {
        "colab": {
          "base_uri": "https://localhost:8080/"
        },
        "id": "pj2Fs42wpBVv",
        "outputId": "cecff777-9160-4356-c1b0-86344505f25c"
      },
      "execution_count": 3,
      "outputs": [
        {
          "output_type": "execute_result",
          "data": {
            "text/plain": [
              "('C', 'Computer Vision')"
            ]
          },
          "metadata": {},
          "execution_count": 3
        }
      ]
    },
    {
      "cell_type": "markdown",
      "source": [
        "* The following list indexes first 3 elements in 'mylist' by ignoring last three elements."
      ],
      "metadata": {
        "id": "Bj29FOJopROS"
      }
    },
    {
      "cell_type": "code",
      "source": [
        "mylist[:-3] "
      ],
      "metadata": {
        "colab": {
          "base_uri": "https://localhost:8080/"
        },
        "id": "4KkVv_j8pD6U",
        "outputId": "cd34ce38-2e51-4607-9083-4cb166a214c5"
      },
      "execution_count": 4,
      "outputs": [
        {
          "output_type": "execute_result",
          "data": {
            "text/plain": [
              "['C', 'C++', 'Python']"
            ]
          },
          "metadata": {},
          "execution_count": 4
        }
      ]
    },
    {
      "cell_type": "markdown",
      "source": [
        "* The following list indexes element 1 and 2 in 'mylist'. The last element 3 in a range is not considered."
      ],
      "metadata": {
        "id": "VF-5oCDDpwBP"
      }
    },
    {
      "cell_type": "code",
      "source": [
        "mylist[1:3]"
      ],
      "metadata": {
        "colab": {
          "base_uri": "https://localhost:8080/"
        },
        "id": "7d8yeAttpFKz",
        "outputId": "abf26f1e-5f63-4938-8ffe-3a94192fd097"
      },
      "execution_count": 5,
      "outputs": [
        {
          "output_type": "execute_result",
          "data": {
            "text/plain": [
              "['C++', 'Python']"
            ]
          },
          "metadata": {},
          "execution_count": 5
        }
      ]
    },
    {
      "cell_type": "markdown",
      "source": [
        "\n",
        "> * Indexing multiple lists\n",
        "\n"
      ],
      "metadata": {
        "id": "pq9lsbC69Qtv"
      }
    },
    {
      "cell_type": "code",
      "source": [
        "x = [10,20,[20,30,[20,10,60],[80,90]],[90,10]]"
      ],
      "metadata": {
        "id": "XWuADaqKpuGC"
      },
      "execution_count": 6,
      "outputs": []
    },
    {
      "cell_type": "code",
      "source": [
        "x[2][2][2] #getting element 60 from third element in list 'x'"
      ],
      "metadata": {
        "colab": {
          "base_uri": "https://localhost:8080/"
        },
        "id": "OJGhFSW_85e9",
        "outputId": "e40f3ae9-1856-474f-e257-573b51b37cc1"
      },
      "execution_count": 7,
      "outputs": [
        {
          "output_type": "execute_result",
          "data": {
            "text/plain": [
              "60"
            ]
          },
          "metadata": {},
          "execution_count": 7
        }
      ]
    },
    {
      "cell_type": "code",
      "source": [
        "print(type(x)) #getting type of 'x' variable"
      ],
      "metadata": {
        "colab": {
          "base_uri": "https://localhost:8080/"
        },
        "id": "e6iVT6wi9orh",
        "outputId": "8bea2114-95b4-4a13-ee18-f2f2779f6fdc"
      },
      "execution_count": 8,
      "outputs": [
        {
          "output_type": "stream",
          "name": "stdout",
          "text": [
            "<class 'list'>\n"
          ]
        }
      ]
    },
    {
      "cell_type": "markdown",
      "source": [
        "* **index()** - Indexing the element "
      ],
      "metadata": {
        "id": "_XldeQUEwlfy"
      }
    },
    {
      "cell_type": "markdown",
      "source": [
        "\n",
        "> The following 'ind' assignment variable finds the index number of the value '50'.\n",
        "\n"
      ],
      "metadata": {
        "id": "TwBDUhV0qaTQ"
      }
    },
    {
      "cell_type": "code",
      "source": [
        "lst = [10,20,30,40,50,40,60,70,80,90,40]\n",
        "ind = lst.index(50)\n",
        "ind"
      ],
      "metadata": {
        "colab": {
          "base_uri": "https://localhost:8080/"
        },
        "id": "a31nRJclqTnI",
        "outputId": "a31da5bc-33bf-43e7-b073-9071ed37183a"
      },
      "execution_count": 9,
      "outputs": [
        {
          "output_type": "execute_result",
          "data": {
            "text/plain": [
              "4"
            ]
          },
          "metadata": {},
          "execution_count": 9
        }
      ]
    },
    {
      "cell_type": "markdown",
      "source": [
        "\n",
        "> Now, changing the element of this 'index 4' as '200'.\n",
        "\n"
      ],
      "metadata": {
        "id": "QbqEhGcmq6Y7"
      }
    },
    {
      "cell_type": "code",
      "source": [
        "lst[ind]=200\n",
        "print(lst)"
      ],
      "metadata": {
        "colab": {
          "base_uri": "https://localhost:8080/"
        },
        "id": "Yk1PGwEpqY_Y",
        "outputId": "d231d1a6-8f1e-4bb5-a235-8b3ee73ff641"
      },
      "execution_count": 10,
      "outputs": [
        {
          "output_type": "stream",
          "name": "stdout",
          "text": [
            "[10, 20, 30, 40, 200, 40, 60, 70, 80, 90, 40]\n"
          ]
        }
      ]
    },
    {
      "cell_type": "markdown",
      "source": [
        "* **sort()** - Sorting the list."
      ],
      "metadata": {
        "id": "pcnuSl-NrKYa"
      }
    },
    {
      "cell_type": "code",
      "source": [
        "lst1 = [34,65,76,23,12,87,97,23,22,76,88,11,10,9,4,102]\n",
        "sortedlist = sorted(lst1)\n",
        "sortedlist"
      ],
      "metadata": {
        "colab": {
          "base_uri": "https://localhost:8080/"
        },
        "id": "ugDrgthzqzV0",
        "outputId": "06732617-b671-4ca3-9638-ec9e955daa62"
      },
      "execution_count": 11,
      "outputs": [
        {
          "output_type": "execute_result",
          "data": {
            "text/plain": [
              "[4, 9, 10, 11, 12, 22, 23, 23, 34, 65, 76, 76, 87, 88, 97, 102]"
            ]
          },
          "metadata": {},
          "execution_count": 11
        }
      ]
    },
    {
      "cell_type": "code",
      "source": [
        "# Aliter:\n",
        "lst1.sort()\n",
        "lst1"
      ],
      "metadata": {
        "colab": {
          "base_uri": "https://localhost:8080/"
        },
        "id": "4_8G5-hxrkHK",
        "outputId": "96647c94-57dd-4afc-ac5d-116eb26eb0c1"
      },
      "execution_count": 12,
      "outputs": [
        {
          "output_type": "execute_result",
          "data": {
            "text/plain": [
              "[4, 9, 10, 11, 12, 22, 23, 23, 34, 65, 76, 76, 87, 88, 97, 102]"
            ]
          },
          "metadata": {},
          "execution_count": 12
        }
      ]
    },
    {
      "cell_type": "markdown",
      "source": [
        "* append() - Appending in the list -- 'mylist'"
      ],
      "metadata": {
        "id": "El1G4gE3r9pi"
      }
    },
    {
      "cell_type": "code",
      "source": [
        "mylist"
      ],
      "metadata": {
        "colab": {
          "base_uri": "https://localhost:8080/"
        },
        "id": "gE-_QjODr00h",
        "outputId": "bbdaa741-b5a8-4503-ef82-b52d4395ef2f"
      },
      "execution_count": 13,
      "outputs": [
        {
          "output_type": "execute_result",
          "data": {
            "text/plain": [
              "['C', 'C++', 'Python', 'Java', 'Machine Learning', 'Computer Vision']"
            ]
          },
          "metadata": {},
          "execution_count": 13
        }
      ]
    },
    {
      "cell_type": "code",
      "source": [
        "mylist.append('Deep Learning')\n",
        "mylist"
      ],
      "metadata": {
        "colab": {
          "base_uri": "https://localhost:8080/"
        },
        "id": "V0gmRmvisMqk",
        "outputId": "97d229d7-c269-4058-b043-7fbf56761751"
      },
      "execution_count": 14,
      "outputs": [
        {
          "output_type": "execute_result",
          "data": {
            "text/plain": [
              "['C',\n",
              " 'C++',\n",
              " 'Python',\n",
              " 'Java',\n",
              " 'Machine Learning',\n",
              " 'Computer Vision',\n",
              " 'Deep Learning']"
            ]
          },
          "metadata": {},
          "execution_count": 14
        }
      ]
    },
    {
      "cell_type": "markdown",
      "source": [
        "* **insert()** - Inserting in the list "
      ],
      "metadata": {
        "id": "wjnxOOGisdQQ"
      }
    },
    {
      "cell_type": "code",
      "source": [
        "mylist.insert(3,'MS Azure')\n",
        "mylist"
      ],
      "metadata": {
        "colab": {
          "base_uri": "https://localhost:8080/"
        },
        "id": "QUYWi7UisR5r",
        "outputId": "b3a6e6dd-0bdc-4f4b-c398-e8d695f0a3e7"
      },
      "execution_count": 15,
      "outputs": [
        {
          "output_type": "execute_result",
          "data": {
            "text/plain": [
              "['C',\n",
              " 'C++',\n",
              " 'Python',\n",
              " 'MS Azure',\n",
              " 'Java',\n",
              " 'Machine Learning',\n",
              " 'Computer Vision',\n",
              " 'Deep Learning']"
            ]
          },
          "metadata": {},
          "execution_count": 15
        }
      ]
    },
    {
      "cell_type": "markdown",
      "source": [
        "* remove() - Removing particular element in the list.\n"
      ],
      "metadata": {
        "id": "mgg6sar_s2i2"
      }
    },
    {
      "cell_type": "code",
      "source": [
        "mylist.remove(\"Java\")\n",
        "mylist"
      ],
      "metadata": {
        "colab": {
          "base_uri": "https://localhost:8080/"
        },
        "id": "6udpJC2ysrN_",
        "outputId": "33b58f02-1e31-4831-e7a3-8ee6e7c003e8"
      },
      "execution_count": 16,
      "outputs": [
        {
          "output_type": "execute_result",
          "data": {
            "text/plain": [
              "['C',\n",
              " 'C++',\n",
              " 'Python',\n",
              " 'MS Azure',\n",
              " 'Machine Learning',\n",
              " 'Computer Vision',\n",
              " 'Deep Learning']"
            ]
          },
          "metadata": {},
          "execution_count": 16
        }
      ]
    },
    {
      "cell_type": "markdown",
      "source": [
        "* **clear()** - Clearing the list\n",
        "\n",
        "\n",
        "\n",
        "> Using function clear() to remove all the elements in the list.\n"
      ],
      "metadata": {
        "id": "EAebPIg2tOor"
      }
    },
    {
      "cell_type": "code",
      "source": [
        "mylist.clear()\n",
        "mylist"
      ],
      "metadata": {
        "colab": {
          "base_uri": "https://localhost:8080/"
        },
        "id": "sPuABrAqs_MH",
        "outputId": "03fd7033-d406-46ad-ab75-b6557c281002"
      },
      "execution_count": 17,
      "outputs": [
        {
          "output_type": "execute_result",
          "data": {
            "text/plain": [
              "[]"
            ]
          },
          "metadata": {},
          "execution_count": 17
        }
      ]
    },
    {
      "cell_type": "markdown",
      "source": [
        " * **copy()** - Copying the list"
      ],
      "metadata": {
        "id": "TkvpiTavtwTN"
      }
    },
    {
      "cell_type": "code",
      "source": [
        "lst"
      ],
      "metadata": {
        "colab": {
          "base_uri": "https://localhost:8080/"
        },
        "id": "bMUvccqntan4",
        "outputId": "f1d2f87b-2ab8-49e2-fef8-892c1dba92fc"
      },
      "execution_count": 18,
      "outputs": [
        {
          "output_type": "execute_result",
          "data": {
            "text/plain": [
              "[10, 20, 30, 40, 200, 40, 60, 70, 80, 90, 40]"
            ]
          },
          "metadata": {},
          "execution_count": 18
        }
      ]
    },
    {
      "cell_type": "code",
      "source": [
        "mylist = lst.copy()\n",
        "mylist"
      ],
      "metadata": {
        "colab": {
          "base_uri": "https://localhost:8080/"
        },
        "id": "EsiEI-W2t088",
        "outputId": "d75f04de-5519-481f-c304-7d4ae8827ee1"
      },
      "execution_count": 19,
      "outputs": [
        {
          "output_type": "execute_result",
          "data": {
            "text/plain": [
              "[10, 20, 30, 40, 200, 40, 60, 70, 80, 90, 40]"
            ]
          },
          "metadata": {},
          "execution_count": 19
        }
      ]
    },
    {
      "cell_type": "markdown",
      "source": [
        "* **count()** - Counting the elements in the list."
      ],
      "metadata": {
        "id": "q7k4nhPwuCHJ"
      }
    },
    {
      "cell_type": "markdown",
      "source": [
        "\n",
        "> count() returns the number of times the specified value occurs.\n",
        "\n"
      ],
      "metadata": {
        "id": "xZwTS11-23Cf"
      }
    },
    {
      "cell_type": "code",
      "source": [
        "l = mylist.count(40)\n",
        "l"
      ],
      "metadata": {
        "colab": {
          "base_uri": "https://localhost:8080/"
        },
        "id": "ZHOrU8jct5oK",
        "outputId": "62ca70e1-67d5-4aec-cdd5-cba4f072b52b"
      },
      "execution_count": 20,
      "outputs": [
        {
          "output_type": "execute_result",
          "data": {
            "text/plain": [
              "3"
            ]
          },
          "metadata": {},
          "execution_count": 20
        }
      ]
    },
    {
      "cell_type": "markdown",
      "source": [
        "\n",
        "\n",
        "> * Appending multiple values including string to a list and counting that element in 'mylist'\n"
      ],
      "metadata": {
        "id": "51FxsvHsuXb7"
      }
    },
    {
      "cell_type": "code",
      "source": [
        "mylist.extend(['Mexico', 22,'UK',78,'London',102])"
      ],
      "metadata": {
        "id": "GrYVCGkxuURd"
      },
      "execution_count": 21,
      "outputs": []
    },
    {
      "cell_type": "code",
      "source": [
        "print(mylist)"
      ],
      "metadata": {
        "colab": {
          "base_uri": "https://localhost:8080/"
        },
        "id": "FMrjJUcBu13d",
        "outputId": "3214fad7-6080-480e-9450-332f4c6c6b5d"
      },
      "execution_count": 22,
      "outputs": [
        {
          "output_type": "stream",
          "name": "stdout",
          "text": [
            "[10, 20, 30, 40, 200, 40, 60, 70, 80, 90, 40, 'Mexico', 22, 'UK', 78, 'London', 102]\n"
          ]
        }
      ]
    },
    {
      "cell_type": "code",
      "source": [
        "c = mylist.count('Mexico')\n",
        "c"
      ],
      "metadata": {
        "colab": {
          "base_uri": "https://localhost:8080/"
        },
        "id": "0u38p55mvx7q",
        "outputId": "ddc7cfde-4083-45a3-ded6-099379a78f09"
      },
      "execution_count": 23,
      "outputs": [
        {
          "output_type": "execute_result",
          "data": {
            "text/plain": [
              "1"
            ]
          },
          "metadata": {},
          "execution_count": 23
        }
      ]
    },
    {
      "cell_type": "markdown",
      "source": [
        "* pop() - Removes the element "
      ],
      "metadata": {
        "id": "oWI9uRQ-w1gW"
      }
    },
    {
      "cell_type": "markdown",
      "source": [
        "\n",
        "\n",
        "> Removing the 4th index value from the list. That is, removing 5th value '200'\n"
      ],
      "metadata": {
        "id": "N7gciLCQyDR7"
      }
    },
    {
      "cell_type": "code",
      "source": [
        "mylist.pop(4)"
      ],
      "metadata": {
        "colab": {
          "base_uri": "https://localhost:8080/"
        },
        "id": "G1uK4DYbwDF_",
        "outputId": "9cea35f4-7605-43ad-c3a3-9b0c03f89092"
      },
      "execution_count": 24,
      "outputs": [
        {
          "output_type": "execute_result",
          "data": {
            "text/plain": [
              "200"
            ]
          },
          "metadata": {},
          "execution_count": 24
        }
      ]
    },
    {
      "cell_type": "markdown",
      "source": [
        "\n",
        "\n",
        "> Without mentioning index value under pop() function, removes the last element from a list. That is, at index '-1'Indented block\n",
        "\n"
      ],
      "metadata": {
        "id": "KVizClzWyT_K"
      }
    },
    {
      "cell_type": "code",
      "source": [
        "mylist.pop()"
      ],
      "metadata": {
        "colab": {
          "base_uri": "https://localhost:8080/"
        },
        "id": "32mIQHSmxDk3",
        "outputId": "bc541a0a-b527-4bda-b708-a2f72df39a98"
      },
      "execution_count": 25,
      "outputs": [
        {
          "output_type": "execute_result",
          "data": {
            "text/plain": [
              "102"
            ]
          },
          "metadata": {},
          "execution_count": 25
        }
      ]
    },
    {
      "cell_type": "code",
      "source": [
        "print(mylist)"
      ],
      "metadata": {
        "colab": {
          "base_uri": "https://localhost:8080/"
        },
        "id": "AtSRM_EzxrP8",
        "outputId": "759d12e4-b348-4743-905f-60938162f56c"
      },
      "execution_count": 26,
      "outputs": [
        {
          "output_type": "stream",
          "name": "stdout",
          "text": [
            "[10, 20, 30, 40, 40, 60, 70, 80, 90, 40, 'Mexico', 22, 'UK', 78, 'London']\n"
          ]
        }
      ]
    },
    {
      "cell_type": "markdown",
      "source": [
        "\n",
        "***Appending and removing the element at the same time using loop condition***"
      ],
      "metadata": {
        "id": "7I1gFPgjyzQC"
      }
    },
    {
      "cell_type": "code",
      "source": [
        "lst_ = []\n",
        "for i in range(0,10): #The range 0 to 10 specifies that list contains 10 elements\n",
        "  a = int(input(\"Enter element of list \"))\n",
        "  lst_.append(a)"
      ],
      "metadata": {
        "colab": {
          "base_uri": "https://localhost:8080/"
        },
        "id": "INEu6QcaynzE",
        "outputId": "b28307da-3af8-4deb-ff3a-8d5fa5e0ce85"
      },
      "execution_count": 27,
      "outputs": [
        {
          "name": "stdout",
          "output_type": "stream",
          "text": [
            "Enter element of list 4\n",
            "Enter element of list 9\n",
            "Enter element of list 8\n",
            "Enter element of list 10\n",
            "Enter element of list 5\n",
            "Enter element of list 3\n",
            "Enter element of list 2\n",
            "Enter element of list 7\n",
            "Enter element of list 11\n",
            "Enter element of list 15\n"
          ]
        }
      ]
    },
    {
      "cell_type": "code",
      "source": [
        "print(lst_)"
      ],
      "metadata": {
        "colab": {
          "base_uri": "https://localhost:8080/"
        },
        "id": "imIrLG_Lz3EC",
        "outputId": "a5e966f5-f298-430b-cc2f-a11728328681"
      },
      "execution_count": 28,
      "outputs": [
        {
          "output_type": "stream",
          "name": "stdout",
          "text": [
            "[4, 9, 8, 10, 5, 3, 2, 7, 11, 15]\n"
          ]
        }
      ]
    },
    {
      "cell_type": "markdown",
      "source": [
        "Getting only even numbers from a list by removing odd numbers."
      ],
      "metadata": {
        "id": "DNWU6iZG0owf"
      }
    },
    {
      "cell_type": "code",
      "source": [
        "lst_ = [num for num in lst_ if num%2==0] #List comprehension of even numbers.\n",
        "\n",
        "print(lst_)\n"
      ],
      "metadata": {
        "colab": {
          "base_uri": "https://localhost:8080/"
        },
        "id": "mtEAZrCf0DA2",
        "outputId": "221a7788-485b-40a1-e5c8-9630b1279a17"
      },
      "execution_count": 29,
      "outputs": [
        {
          "output_type": "stream",
          "name": "stdout",
          "text": [
            "[4, 8, 10, 2]\n"
          ]
        }
      ]
    },
    {
      "cell_type": "markdown",
      "source": [
        "* **reverse()** - Reverses the list ('lst_')"
      ],
      "metadata": {
        "id": "eCh0CLF408Cs"
      }
    },
    {
      "cell_type": "code",
      "source": [
        "lst_.reverse()\n",
        "print(lst_)"
      ],
      "metadata": {
        "colab": {
          "base_uri": "https://localhost:8080/"
        },
        "id": "v1Y8ByNY0gf9",
        "outputId": "1ebbc6ed-6b2a-4eeb-e11d-369f5057b739"
      },
      "execution_count": 30,
      "outputs": [
        {
          "output_type": "stream",
          "name": "stdout",
          "text": [
            "[2, 10, 8, 4]\n"
          ]
        }
      ]
    },
    {
      "cell_type": "code",
      "source": [
        "len(lst_) #getting a length of list"
      ],
      "metadata": {
        "colab": {
          "base_uri": "https://localhost:8080/"
        },
        "id": "d2-jqSY02Hsw",
        "outputId": "fde36e2e-c713-44c6-d7ef-24194fe09ab4"
      },
      "execution_count": 31,
      "outputs": [
        {
          "output_type": "execute_result",
          "data": {
            "text/plain": [
              "4"
            ]
          },
          "metadata": {},
          "execution_count": 31
        }
      ]
    },
    {
      "cell_type": "markdown",
      "source": [
        "## **TUPLES**\n",
        "\n",
        "\n",
        "1.   Tuple is a collection which is Ordered and UnChangeable,\n",
        "     i.e., in Tuple, We cannot append, change or remove element.\n",
        "2.   Tuple Allows Duplicate numbers.\n",
        "\n"
      ],
      "metadata": {
        "id": "3vYROyK61UlA"
      }
    },
    {
      "cell_type": "code",
      "source": [
        "dir(tuple)"
      ],
      "metadata": {
        "colab": {
          "base_uri": "https://localhost:8080/"
        },
        "id": "-BSW8ckmUcE7",
        "outputId": "9294bdf2-d4be-45de-907d-4006e216f6eb"
      },
      "execution_count": 32,
      "outputs": [
        {
          "output_type": "execute_result",
          "data": {
            "text/plain": [
              "['__add__',\n",
              " '__class__',\n",
              " '__contains__',\n",
              " '__delattr__',\n",
              " '__dir__',\n",
              " '__doc__',\n",
              " '__eq__',\n",
              " '__format__',\n",
              " '__ge__',\n",
              " '__getattribute__',\n",
              " '__getitem__',\n",
              " '__getnewargs__',\n",
              " '__gt__',\n",
              " '__hash__',\n",
              " '__init__',\n",
              " '__init_subclass__',\n",
              " '__iter__',\n",
              " '__le__',\n",
              " '__len__',\n",
              " '__lt__',\n",
              " '__mul__',\n",
              " '__ne__',\n",
              " '__new__',\n",
              " '__reduce__',\n",
              " '__reduce_ex__',\n",
              " '__repr__',\n",
              " '__rmul__',\n",
              " '__setattr__',\n",
              " '__sizeof__',\n",
              " '__str__',\n",
              " '__subclasshook__',\n",
              " 'count',\n",
              " 'index']"
            ]
          },
          "metadata": {},
          "execution_count": 32
        }
      ]
    },
    {
      "cell_type": "code",
      "source": [
        "tupl = (23,'Sam',\"Sam@gmail.com\",'Washington, United States', 24,2.5,24,26,2.8)"
      ],
      "metadata": {
        "id": "7_HxfICW1H4m"
      },
      "execution_count": 33,
      "outputs": []
    },
    {
      "cell_type": "markdown",
      "source": [
        "* Length of tuple - Getsting a length of 'tupl'"
      ],
      "metadata": {
        "id": "1EqmzWIy1-gd"
      }
    },
    {
      "cell_type": "code",
      "source": [
        "len(tupl)"
      ],
      "metadata": {
        "colab": {
          "base_uri": "https://localhost:8080/"
        },
        "id": "9sex2T3v14-W",
        "outputId": "3705b90b-967c-467f-d7d4-04731ab80f70"
      },
      "execution_count": 34,
      "outputs": [
        {
          "output_type": "execute_result",
          "data": {
            "text/plain": [
              "9"
            ]
          },
          "metadata": {},
          "execution_count": 34
        }
      ]
    },
    {
      "cell_type": "markdown",
      "source": [
        "* **count()** - Counts the number of elements in tuple"
      ],
      "metadata": {
        "id": "r-KMwzlq3lcl"
      }
    },
    {
      "cell_type": "code",
      "source": [
        "tupl.count('Washington, United States')"
      ],
      "metadata": {
        "colab": {
          "base_uri": "https://localhost:8080/"
        },
        "id": "xwrBsrh22Ffq",
        "outputId": "e410375b-c2be-42f3-8719-968563073f62"
      },
      "execution_count": 35,
      "outputs": [
        {
          "output_type": "execute_result",
          "data": {
            "text/plain": [
              "1"
            ]
          },
          "metadata": {},
          "execution_count": 35
        }
      ]
    },
    {
      "cell_type": "code",
      "source": [
        "tupl.count(24)"
      ],
      "metadata": {
        "colab": {
          "base_uri": "https://localhost:8080/"
        },
        "id": "LaCQdtNd2OJ9",
        "outputId": "7a6cd0c8-690e-404b-8ac4-72bb747f9730"
      },
      "execution_count": 36,
      "outputs": [
        {
          "output_type": "execute_result",
          "data": {
            "text/plain": [
              "2"
            ]
          },
          "metadata": {},
          "execution_count": 36
        }
      ]
    },
    {
      "cell_type": "markdown",
      "source": [
        "\n",
        "> *Since, tuple cannot be appended to a new element, I'm appending the new elements by creating another tuple and adding these two tuples to one more new (third) tuple.*\n",
        "\n"
      ],
      "metadata": {
        "id": "vkA2kCl64cpg"
      }
    },
    {
      "cell_type": "code",
      "source": [
        "print(tupl)"
      ],
      "metadata": {
        "colab": {
          "base_uri": "https://localhost:8080/"
        },
        "id": "B8pnlHin3j4L",
        "outputId": "2040478a-cb44-4f84-8b6a-b2e89fcf8058"
      },
      "execution_count": 37,
      "outputs": [
        {
          "output_type": "stream",
          "name": "stdout",
          "text": [
            "(23, 'Sam', 'Sam@gmail.com', 'Washington, United States', 24, 2.5, 24, 26, 2.8)\n"
          ]
        }
      ]
    },
    {
      "cell_type": "code",
      "source": [
        "tupl2 = (28, 'Krithika', 'krithika@cognizant.com', 'Chennai, India')\n",
        "\n",
        "tupl3 = tupl + tupl2\n",
        "print(tupl3)"
      ],
      "metadata": {
        "colab": {
          "base_uri": "https://localhost:8080/"
        },
        "id": "MGXI-H005B1L",
        "outputId": "fd8f9505-5744-451e-883f-ee94ad72ffd8"
      },
      "execution_count": 38,
      "outputs": [
        {
          "output_type": "stream",
          "name": "stdout",
          "text": [
            "(23, 'Sam', 'Sam@gmail.com', 'Washington, United States', 24, 2.5, 24, 26, 2.8, 28, 'Krithika', 'krithika@cognizant.com', 'Chennai, India')\n"
          ]
        }
      ]
    },
    {
      "cell_type": "markdown",
      "source": [
        "* **del** function is to delete the created tuple."
      ],
      "metadata": {
        "id": "JQgSXl646dE9"
      }
    },
    {
      "cell_type": "code",
      "source": [
        "del tupl2"
      ],
      "metadata": {
        "id": "0LsvYp8L6lUq"
      },
      "execution_count": 39,
      "outputs": []
    },
    {
      "cell_type": "code",
      "source": [
        "print(tupl2)"
      ],
      "metadata": {
        "colab": {
          "base_uri": "https://localhost:8080/",
          "height": 166
        },
        "id": "QCkvpi6F6qLD",
        "outputId": "6e33a4a3-8ff1-4ebd-8366-5b494e78dc9f"
      },
      "execution_count": 40,
      "outputs": [
        {
          "output_type": "error",
          "ename": "NameError",
          "evalue": "ignored",
          "traceback": [
            "\u001b[0;31m---------------------------------------------------------------------------\u001b[0m",
            "\u001b[0;31mNameError\u001b[0m                                 Traceback (most recent call last)",
            "\u001b[0;32m<ipython-input-40-0d13514a562a>\u001b[0m in \u001b[0;36m<module>\u001b[0;34m\u001b[0m\n\u001b[0;32m----> 1\u001b[0;31m \u001b[0mprint\u001b[0m\u001b[0;34m(\u001b[0m\u001b[0mtupl2\u001b[0m\u001b[0;34m)\u001b[0m\u001b[0;34m\u001b[0m\u001b[0;34m\u001b[0m\u001b[0m\n\u001b[0m",
            "\u001b[0;31mNameError\u001b[0m: name 'tupl2' is not defined"
          ]
        }
      ]
    },
    {
      "cell_type": "markdown",
      "source": [
        "* Getting maximum and minimum value in tuple\n",
        "\n",
        "> Using **max()** and **min()** functions to get maximum and minimum value in tuple.\n",
        "\n"
      ],
      "metadata": {
        "id": "tchrHxNm6Acn"
      }
    },
    {
      "cell_type": "code",
      "source": [
        "newtupl = (1,3,8,2,6,4,9,5,10,7)\n",
        "max(newtupl)"
      ],
      "metadata": {
        "colab": {
          "base_uri": "https://localhost:8080/"
        },
        "id": "vqIrIxpt5ixs",
        "outputId": "e6624b33-8531-43d1-9c1b-806e68524eb5"
      },
      "execution_count": 41,
      "outputs": [
        {
          "output_type": "execute_result",
          "data": {
            "text/plain": [
              "10"
            ]
          },
          "metadata": {},
          "execution_count": 41
        }
      ]
    },
    {
      "cell_type": "code",
      "source": [
        "min(newtupl)"
      ],
      "metadata": {
        "colab": {
          "base_uri": "https://localhost:8080/"
        },
        "id": "vxz1qMMV6RzA",
        "outputId": "7e33f121-e43a-40ce-e6da-a223f157a50d"
      },
      "execution_count": 42,
      "outputs": [
        {
          "output_type": "execute_result",
          "data": {
            "text/plain": [
              "1"
            ]
          },
          "metadata": {},
          "execution_count": 42
        }
      ]
    },
    {
      "cell_type": "markdown",
      "source": [
        "* Sorting the tuple \n",
        "\n",
        "> *   Tuple sorts in ascending order in a default way.\n",
        "\n",
        "\n",
        "> *   To sort in descending order, I'm using ***reverse*** function inside ***sorted*** function.\n",
        "\n",
        "\n",
        "\n",
        "\n"
      ],
      "metadata": {
        "id": "a55S_SzL6-MN"
      }
    },
    {
      "cell_type": "code",
      "source": [
        "asc_tupl = sorted(newtupl)\n",
        "asc_tupl"
      ],
      "metadata": {
        "colab": {
          "base_uri": "https://localhost:8080/"
        },
        "id": "FWRrfuJ76XLA",
        "outputId": "613c8d9b-7609-4444-cb27-1996fbb11c76"
      },
      "execution_count": 43,
      "outputs": [
        {
          "output_type": "execute_result",
          "data": {
            "text/plain": [
              "[1, 2, 3, 4, 5, 6, 7, 8, 9, 10]"
            ]
          },
          "metadata": {},
          "execution_count": 43
        }
      ]
    },
    {
      "cell_type": "code",
      "source": [
        "desc_tupl = sorted(newtupl,reverse=True)\n",
        "desc_tupl"
      ],
      "metadata": {
        "colab": {
          "base_uri": "https://localhost:8080/"
        },
        "id": "lvOeIQcp7rDK",
        "outputId": "6ad8919f-bf25-48fd-fb17-f51b4d891807"
      },
      "execution_count": 44,
      "outputs": [
        {
          "output_type": "execute_result",
          "data": {
            "text/plain": [
              "[10, 9, 8, 7, 6, 5, 4, 3, 2, 1]"
            ]
          },
          "metadata": {},
          "execution_count": 44
        }
      ]
    },
    {
      "cell_type": "code",
      "source": [
        "print(type(newtupl)) # getting type of 'newtupl' assignment operator"
      ],
      "metadata": {
        "colab": {
          "base_uri": "https://localhost:8080/"
        },
        "id": "htXugBeG8Cet",
        "outputId": "c06b4d6a-7ddf-4a9b-ee4e-627c4a4823b1"
      },
      "execution_count": 45,
      "outputs": [
        {
          "output_type": "stream",
          "name": "stdout",
          "text": [
            "<class 'tuple'>\n"
          ]
        }
      ]
    },
    {
      "cell_type": "markdown",
      "source": [
        "## **Sets**\n",
        "\n",
        "\n",
        "1.   Set is a collection of which is Unordered and Unindexed. It is a collection of Unique elements.\n",
        "2.   Set does not allow Duplicate numbers. \n",
        "\n"
      ],
      "metadata": {
        "id": "7AzYeM2l-j0v"
      }
    },
    {
      "cell_type": "code",
      "source": [
        "dir(set)"
      ],
      "metadata": {
        "colab": {
          "base_uri": "https://localhost:8080/"
        },
        "id": "oT3YoFN8UhYQ",
        "outputId": "6ae3eee8-2fbe-4ec0-a9d1-39b35bdcd048"
      },
      "execution_count": 46,
      "outputs": [
        {
          "output_type": "execute_result",
          "data": {
            "text/plain": [
              "['__and__',\n",
              " '__class__',\n",
              " '__contains__',\n",
              " '__delattr__',\n",
              " '__dir__',\n",
              " '__doc__',\n",
              " '__eq__',\n",
              " '__format__',\n",
              " '__ge__',\n",
              " '__getattribute__',\n",
              " '__gt__',\n",
              " '__hash__',\n",
              " '__iand__',\n",
              " '__init__',\n",
              " '__init_subclass__',\n",
              " '__ior__',\n",
              " '__isub__',\n",
              " '__iter__',\n",
              " '__ixor__',\n",
              " '__le__',\n",
              " '__len__',\n",
              " '__lt__',\n",
              " '__ne__',\n",
              " '__new__',\n",
              " '__or__',\n",
              " '__rand__',\n",
              " '__reduce__',\n",
              " '__reduce_ex__',\n",
              " '__repr__',\n",
              " '__ror__',\n",
              " '__rsub__',\n",
              " '__rxor__',\n",
              " '__setattr__',\n",
              " '__sizeof__',\n",
              " '__str__',\n",
              " '__sub__',\n",
              " '__subclasshook__',\n",
              " '__xor__',\n",
              " 'add',\n",
              " 'clear',\n",
              " 'copy',\n",
              " 'difference',\n",
              " 'difference_update',\n",
              " 'discard',\n",
              " 'intersection',\n",
              " 'intersection_update',\n",
              " 'isdisjoint',\n",
              " 'issubset',\n",
              " 'issuperset',\n",
              " 'pop',\n",
              " 'remove',\n",
              " 'symmetric_difference',\n",
              " 'symmetric_difference_update',\n",
              " 'union',\n",
              " 'update']"
            ]
          },
          "metadata": {},
          "execution_count": 46
        }
      ]
    },
    {
      "cell_type": "code",
      "source": [
        "st = {'Germany', 1.64, 'Japan', 2890, 'India','Phillipines','Japan','Europe',2890,1.64,1.64,62,'Europe','India'}"
      ],
      "metadata": {
        "id": "I3Y3iq5n-Quc"
      },
      "execution_count": 47,
      "outputs": []
    },
    {
      "cell_type": "code",
      "source": [
        "st"
      ],
      "metadata": {
        "colab": {
          "base_uri": "https://localhost:8080/"
        },
        "id": "-pTmeA4gAHAN",
        "outputId": "db7c67cb-832f-4e3f-e4b5-afd44e9b7f83"
      },
      "execution_count": 48,
      "outputs": [
        {
          "output_type": "execute_result",
          "data": {
            "text/plain": [
              "{1.64, 2890, 62, 'Europe', 'Germany', 'India', 'Japan', 'Phillipines'}"
            ]
          },
          "metadata": {},
          "execution_count": 48
        }
      ]
    },
    {
      "cell_type": "markdown",
      "source": [
        "* Adding the element using **add()** function. This helps to add only single element in a set."
      ],
      "metadata": {
        "id": "SnMu5BDYBw4D"
      }
    },
    {
      "cell_type": "code",
      "source": [
        "st.add('Business')"
      ],
      "metadata": {
        "id": "ZUqnDRsLAckK"
      },
      "execution_count": 49,
      "outputs": []
    },
    {
      "cell_type": "code",
      "source": [
        "print(st)"
      ],
      "metadata": {
        "colab": {
          "base_uri": "https://localhost:8080/"
        },
        "id": "C_deSQWtAn8s",
        "outputId": "4a1b1670-372c-47e3-c686-c5cfcb835efb"
      },
      "execution_count": 50,
      "outputs": [
        {
          "output_type": "stream",
          "name": "stdout",
          "text": [
            "{1.64, 'Business', 2890, 'Phillipines', 'Japan', 'India', 'Europe', 'Germany', 62}\n"
          ]
        }
      ]
    },
    {
      "cell_type": "markdown",
      "source": [
        "* Adding the multiple elements using **update()** function. This helps to add multiple elements in a set."
      ],
      "metadata": {
        "id": "8p6GsGbjCAIx"
      }
    },
    {
      "cell_type": "code",
      "source": [
        "st1=['Cognizant','Google',108,'Google'] \n",
        "st2=[(22,'maths'),(23,'statistics')] \n",
        "st.update(st1,st2) #adding list 'st1' and list containing tuples 'st2'\n",
        "print(st)"
      ],
      "metadata": {
        "colab": {
          "base_uri": "https://localhost:8080/"
        },
        "id": "-Bb9YIGbAspu",
        "outputId": "4c0bda4c-2a76-494a-8e4c-dda7354fa5c9"
      },
      "execution_count": 51,
      "outputs": [
        {
          "output_type": "stream",
          "name": "stdout",
          "text": [
            "{1.64, 'Business', 'Cognizant', 2890, 'Phillipines', 108, 'Japan', 'India', (23, 'statistics'), (22, 'maths'), 'Europe', 'Germany', 'Google', 62}\n"
          ]
        }
      ]
    },
    {
      "cell_type": "markdown",
      "source": [
        "* **Union()** method, returns a set that contains all items from the original set, and all items from the specified set(s)."
      ],
      "metadata": {
        "id": "s_ZdlooDErmg"
      }
    },
    {
      "cell_type": "code",
      "source": [
        "s1 = {'a','b',2,'c','d','e','f'}\n",
        "s2 = {'d',4,'e',2,1.14}\n",
        "s3 = s1.union(s2)\n",
        "s3"
      ],
      "metadata": {
        "colab": {
          "base_uri": "https://localhost:8080/"
        },
        "id": "y2yb5oU4CSIs",
        "outputId": "ae7e210b-9025-421f-b3e6-da26754b8054"
      },
      "execution_count": 52,
      "outputs": [
        {
          "output_type": "execute_result",
          "data": {
            "text/plain": [
              "{1.14, 2, 4, 'a', 'b', 'c', 'd', 'e', 'f'}"
            ]
          },
          "metadata": {},
          "execution_count": 52
        }
      ]
    },
    {
      "cell_type": "markdown",
      "source": [
        "* **symmetric_difference()** method, returns a set that contains all items from both set, but not the items that are present in both sets."
      ],
      "metadata": {
        "id": "-b9wTtx7G8rb"
      }
    },
    {
      "cell_type": "code",
      "source": [
        "s1 = {'a','b',2,'c','d','e','f'}\n",
        "s2 = {'d',4,'e',2,1.14}\n",
        "s1.symmetric_difference(s2)"
      ],
      "metadata": {
        "colab": {
          "base_uri": "https://localhost:8080/"
        },
        "id": "l3PY7RznG7sa",
        "outputId": "56a48092-af42-4ac7-8b77-cffc6acc3b9b"
      },
      "execution_count": 53,
      "outputs": [
        {
          "output_type": "execute_result",
          "data": {
            "text/plain": [
              "{1.14, 4, 'a', 'b', 'c', 'f'}"
            ]
          },
          "metadata": {},
          "execution_count": 53
        }
      ]
    },
    {
      "cell_type": "markdown",
      "source": [
        "* **symmetric_difference_update()** method, updates the original set by removing items that are present in both sets, and inserting the other items."
      ],
      "metadata": {
        "id": "IU30GZ3BFU36"
      }
    },
    {
      "cell_type": "code",
      "source": [
        "s1 = {'a','b',2,'c','d','e','f'}\n",
        "s2 = {'d',4,'e',2,1.14}\n",
        "s1.symmetric_difference_update(s2)\n",
        "s1"
      ],
      "metadata": {
        "colab": {
          "base_uri": "https://localhost:8080/"
        },
        "id": "ucqJmtdJFJcE",
        "outputId": "aa753260-56e9-4206-c4a5-10cc6e5750ff"
      },
      "execution_count": 54,
      "outputs": [
        {
          "output_type": "execute_result",
          "data": {
            "text/plain": [
              "{1.14, 4, 'a', 'b', 'c', 'f'}"
            ]
          },
          "metadata": {},
          "execution_count": 54
        }
      ]
    },
    {
      "cell_type": "markdown",
      "source": [
        "* **remove()** method, removes the specified element from the set."
      ],
      "metadata": {
        "id": "OhsTxW9KHmXf"
      }
    },
    {
      "cell_type": "code",
      "source": [
        "st1={'Cognizant','Google',108,'Google'}\n",
        "st1.remove('Google')\n",
        "st1"
      ],
      "metadata": {
        "colab": {
          "base_uri": "https://localhost:8080/"
        },
        "id": "0VxeXEACG4ay",
        "outputId": "b0ffb26a-8565-43a2-d512-63f1bc90e2bc"
      },
      "execution_count": 55,
      "outputs": [
        {
          "output_type": "execute_result",
          "data": {
            "text/plain": [
              "{108, 'Cognizant'}"
            ]
          },
          "metadata": {},
          "execution_count": 55
        }
      ]
    },
    {
      "cell_type": "code",
      "source": [
        "st2=[(22,'maths'),(23,'statistics')] #list contatins tuple element.\n",
        "                                     #Thus, removing specified tuple element in a list.\n",
        "st2.remove((22,'maths'))\n",
        "st2"
      ],
      "metadata": {
        "colab": {
          "base_uri": "https://localhost:8080/"
        },
        "id": "sup7IMB0IJrb",
        "outputId": "db2fb12f-27a2-44ac-a414-a1b385609ac9"
      },
      "execution_count": 56,
      "outputs": [
        {
          "output_type": "execute_result",
          "data": {
            "text/plain": [
              "[(23, 'statistics')]"
            ]
          },
          "metadata": {},
          "execution_count": 56
        }
      ]
    },
    {
      "cell_type": "markdown",
      "source": [
        "* Using **discard()** method, we remove the specified item from the set.\n",
        "\n",
        "*This method is different from the **remove()** method, because the **remove()** method will raise an error if the specified item does not exist, and the **discard()** method will not.*"
      ],
      "metadata": {
        "id": "NdS0j8zHK3Dt"
      }
    },
    {
      "cell_type": "code",
      "source": [
        "st1={'Cognizant','Google',108,'Google'}\n",
        "st1.discard('Google')\n",
        "st1"
      ],
      "metadata": {
        "colab": {
          "base_uri": "https://localhost:8080/"
        },
        "id": "DvTIIyqALJ0a",
        "outputId": "ab510124-e369-4747-927d-b2c0bc9972f3"
      },
      "execution_count": 57,
      "outputs": [
        {
          "output_type": "execute_result",
          "data": {
            "text/plain": [
              "{108, 'Cognizant'}"
            ]
          },
          "metadata": {},
          "execution_count": 57
        }
      ]
    },
    {
      "cell_type": "code",
      "source": [
        "st1.discard(128)\n",
        "st1"
      ],
      "metadata": {
        "colab": {
          "base_uri": "https://localhost:8080/"
        },
        "id": "v-Kl_2LXLcz1",
        "outputId": "e3417ced-a725-4c20-86c3-536de199f1fe"
      },
      "execution_count": 58,
      "outputs": [
        {
          "output_type": "execute_result",
          "data": {
            "text/plain": [
              "{108, 'Cognizant'}"
            ]
          },
          "metadata": {},
          "execution_count": 58
        }
      ]
    },
    {
      "cell_type": "code",
      "source": [
        "st1.remove(128)"
      ],
      "metadata": {
        "colab": {
          "base_uri": "https://localhost:8080/",
          "height": 166
        },
        "id": "XuxPp8iTLkkK",
        "outputId": "adc3b260-3ad6-497c-8f6a-b19979c3210e"
      },
      "execution_count": 59,
      "outputs": [
        {
          "output_type": "error",
          "ename": "KeyError",
          "evalue": "ignored",
          "traceback": [
            "\u001b[0;31m---------------------------------------------------------------------------\u001b[0m",
            "\u001b[0;31mKeyError\u001b[0m                                  Traceback (most recent call last)",
            "\u001b[0;32m<ipython-input-59-824c808e2d64>\u001b[0m in \u001b[0;36m<module>\u001b[0;34m\u001b[0m\n\u001b[0;32m----> 1\u001b[0;31m \u001b[0mst1\u001b[0m\u001b[0;34m.\u001b[0m\u001b[0mremove\u001b[0m\u001b[0;34m(\u001b[0m\u001b[0;36m128\u001b[0m\u001b[0;34m)\u001b[0m\u001b[0;34m\u001b[0m\u001b[0;34m\u001b[0m\u001b[0m\n\u001b[0m",
            "\u001b[0;31mKeyError\u001b[0m: 128"
          ]
        }
      ]
    },
    {
      "cell_type": "markdown",
      "source": [
        "*In below cell, we cannot able to call specified index to get element in a set, since set is a collection of unindexed elements.*"
      ],
      "metadata": {
        "id": "MV2y-tApJOcV"
      }
    },
    {
      "cell_type": "code",
      "source": [
        "s1 = {'a','b',2,'c','d','e','f'}\n",
        "s1[2]"
      ],
      "metadata": {
        "colab": {
          "base_uri": "https://localhost:8080/",
          "height": 183
        },
        "id": "RvgYaa2wIgDJ",
        "outputId": "4d7fa93d-ab6c-4fe6-8de5-b9cbb708ab15"
      },
      "execution_count": 60,
      "outputs": [
        {
          "output_type": "error",
          "ename": "TypeError",
          "evalue": "ignored",
          "traceback": [
            "\u001b[0;31m---------------------------------------------------------------------------\u001b[0m",
            "\u001b[0;31mTypeError\u001b[0m                                 Traceback (most recent call last)",
            "\u001b[0;32m<ipython-input-60-d0a2cb98d924>\u001b[0m in \u001b[0;36m<module>\u001b[0;34m\u001b[0m\n\u001b[1;32m      1\u001b[0m \u001b[0ms1\u001b[0m \u001b[0;34m=\u001b[0m \u001b[0;34m{\u001b[0m\u001b[0;34m'a'\u001b[0m\u001b[0;34m,\u001b[0m\u001b[0;34m'b'\u001b[0m\u001b[0;34m,\u001b[0m\u001b[0;36m2\u001b[0m\u001b[0;34m,\u001b[0m\u001b[0;34m'c'\u001b[0m\u001b[0;34m,\u001b[0m\u001b[0;34m'd'\u001b[0m\u001b[0;34m,\u001b[0m\u001b[0;34m'e'\u001b[0m\u001b[0;34m,\u001b[0m\u001b[0;34m'f'\u001b[0m\u001b[0;34m}\u001b[0m\u001b[0;34m\u001b[0m\u001b[0;34m\u001b[0m\u001b[0m\n\u001b[0;32m----> 2\u001b[0;31m \u001b[0ms1\u001b[0m\u001b[0;34m[\u001b[0m\u001b[0;36m2\u001b[0m\u001b[0;34m]\u001b[0m\u001b[0;34m\u001b[0m\u001b[0;34m\u001b[0m\u001b[0m\n\u001b[0m",
            "\u001b[0;31mTypeError\u001b[0m: 'set' object is not subscriptable"
          ]
        }
      ]
    },
    {
      "cell_type": "markdown",
      "source": [
        "* In set, **pop()** method removes a random item from the set. This method removes the removed item."
      ],
      "metadata": {
        "id": "RR1feuf1Jtnj"
      }
    },
    {
      "cell_type": "code",
      "source": [
        "s1 = {('a',4),'b','c','d','e',('f',8)}\n",
        "s1.pop()"
      ],
      "metadata": {
        "colab": {
          "base_uri": "https://localhost:8080/"
        },
        "id": "Pati0UNiJHub",
        "outputId": "a8d9b0c6-6071-492b-f641-499e82bba5a8"
      },
      "execution_count": 61,
      "outputs": [
        {
          "output_type": "execute_result",
          "data": {
            "text/plain": [
              "('f', 8)"
            ]
          },
          "metadata": {},
          "execution_count": 61
        }
      ]
    },
    {
      "cell_type": "code",
      "source": [
        "s1"
      ],
      "metadata": {
        "colab": {
          "base_uri": "https://localhost:8080/"
        },
        "id": "kYpCzTeLJ7b3",
        "outputId": "320e3cba-3498-495e-ee51-e125034d6135"
      },
      "execution_count": 62,
      "outputs": [
        {
          "output_type": "execute_result",
          "data": {
            "text/plain": [
              "{('a', 4), 'b', 'c', 'd', 'e'}"
            ]
          },
          "metadata": {},
          "execution_count": 62
        }
      ]
    },
    {
      "cell_type": "markdown",
      "source": [
        "* The **copy()** method copies the set."
      ],
      "metadata": {
        "id": "RtoXmYAVMAlL"
      }
    },
    {
      "cell_type": "code",
      "source": [
        "s1 = {('a',4),'b','c','d','e',('f',8)}\n",
        "s1"
      ],
      "metadata": {
        "colab": {
          "base_uri": "https://localhost:8080/"
        },
        "id": "rLf-87egKE7F",
        "outputId": "6bcad43d-2c2b-4716-ffa2-b56182d14f98"
      },
      "execution_count": 63,
      "outputs": [
        {
          "output_type": "execute_result",
          "data": {
            "text/plain": [
              "{('a', 4), ('f', 8), 'b', 'c', 'd', 'e'}"
            ]
          },
          "metadata": {},
          "execution_count": 63
        }
      ]
    },
    {
      "cell_type": "code",
      "source": [
        "record = s1.copy()\n",
        "record"
      ],
      "metadata": {
        "colab": {
          "base_uri": "https://localhost:8080/"
        },
        "id": "ncVb8Rg9MPKl",
        "outputId": "df4dccad-c832-42a3-e421-85c25e024c19"
      },
      "execution_count": 64,
      "outputs": [
        {
          "output_type": "execute_result",
          "data": {
            "text/plain": [
              "{('a', 4), ('f', 8), 'b', 'c', 'd', 'e'}"
            ]
          },
          "metadata": {},
          "execution_count": 64
        }
      ]
    },
    {
      "cell_type": "markdown",
      "source": [
        "* The **difference()** method returns a set that contains the difference between two sets. "
      ],
      "metadata": {
        "id": "CFVoRoRlMvJC"
      }
    },
    {
      "cell_type": "code",
      "source": [
        "s1 = {'a','b',2,'c','d','e','f'}\n",
        "s2 = {'d',4,'e',2,1.14}\n",
        "z = s2.difference(s1) # returns 's2' value that are not in 's1'\n",
        "z"
      ],
      "metadata": {
        "colab": {
          "base_uri": "https://localhost:8080/"
        },
        "id": "f0r5yAXgMfzZ",
        "outputId": "d6fcfcba-42f7-4d14-d239-601b6720998a"
      },
      "execution_count": 65,
      "outputs": [
        {
          "output_type": "execute_result",
          "data": {
            "text/plain": [
              "{1.14, 4}"
            ]
          },
          "metadata": {},
          "execution_count": 65
        }
      ]
    },
    {
      "cell_type": "markdown",
      "source": [
        "* The **difference_update()** method removes the items that exist in both sets.\n",
        "\n",
        "*The **difference_update()** method is different from the **difference() method**, because the **difference()** method returns a new set, without the unwanted items, and the **difference_update()** method removes the unwanted items from the original set.*"
      ],
      "metadata": {
        "id": "pZaUd8yYNYA8"
      }
    },
    {
      "cell_type": "code",
      "source": [
        "x = {'a','b','c'}\n",
        "y = {'c','d','e','f'}\n",
        "x.difference_update(y) # returns 's2' value that are not in 's1'\n",
        "print(x)"
      ],
      "metadata": {
        "colab": {
          "base_uri": "https://localhost:8080/"
        },
        "id": "7h7pIAXBNI_b",
        "outputId": "a304873d-e46d-4c5a-af78-b020a4de8029"
      },
      "execution_count": 66,
      "outputs": [
        {
          "output_type": "stream",
          "name": "stdout",
          "text": [
            "{'b', 'a'}\n"
          ]
        }
      ]
    },
    {
      "cell_type": "markdown",
      "source": [
        "* The **intersection()** method returns a set that contains only items that exist in both sets, or in all sets if the comparison is done with more than two sets.\n",
        "\n"
      ],
      "metadata": {
        "id": "QAfz3ZTCO7m-"
      }
    },
    {
      "cell_type": "code",
      "source": [
        "s1 = {'a','b',2,'c','d','e','f'}\n",
        "s2 = {'d',4,'e',2,1.14}\n",
        "s3 = {'a',2,'c','e'}\n",
        "result = s1.intersection(s2, s3)\n",
        "\n",
        "print(result)"
      ],
      "metadata": {
        "colab": {
          "base_uri": "https://localhost:8080/"
        },
        "id": "JaWJJ5qWNhIS",
        "outputId": "c8eee48a-acd8-416d-dc07-5b4263c42ca5"
      },
      "execution_count": 67,
      "outputs": [
        {
          "output_type": "stream",
          "name": "stdout",
          "text": [
            "{'e', 2}\n"
          ]
        }
      ]
    },
    {
      "cell_type": "markdown",
      "source": [
        "* The **intersection_update()** method removes the items that is not present in both sets (or in all sets if the comparison is done between more than two sets).\n",
        "\n",
        "*The **intersection_update()** method is different from the **intersection() method**, because the **intersection()** method returns a new set, without the unwanted items, and the **intersection_update()** method removes the unwanted items from the original set.*"
      ],
      "metadata": {
        "id": "t30dewZqPnBm"
      }
    },
    {
      "cell_type": "code",
      "source": [
        "s1 = {'a','b',2}\n",
        "s3 = {'a',2,'z'}\n",
        "s1.intersection_update(s3)\n",
        "s1"
      ],
      "metadata": {
        "colab": {
          "base_uri": "https://localhost:8080/"
        },
        "id": "VDaoXynyPWeD",
        "outputId": "a08e1750-04c4-453d-cc42-952cedc31671"
      },
      "execution_count": 68,
      "outputs": [
        {
          "output_type": "execute_result",
          "data": {
            "text/plain": [
              "{2, 'a'}"
            ]
          },
          "metadata": {},
          "execution_count": 68
        }
      ]
    },
    {
      "cell_type": "markdown",
      "source": [
        "* The **isdisjoint()** method returns True if none of the items are present in both sets, otherwise it returns False."
      ],
      "metadata": {
        "id": "JDk_GZGgRZRM"
      }
    },
    {
      "cell_type": "code",
      "source": [
        "st1 = {'Cognizant','Infosys','The Math Company'}\n",
        "st2 = {'Google','Microsoft','Amazon'}\n",
        "st1.isdisjoint(st2)"
      ],
      "metadata": {
        "colab": {
          "base_uri": "https://localhost:8080/"
        },
        "id": "zUyg21gVP9sf",
        "outputId": "3ccb98a8-2f84-4a30-e760-09a2d19b6104"
      },
      "execution_count": 69,
      "outputs": [
        {
          "output_type": "execute_result",
          "data": {
            "text/plain": [
              "True"
            ]
          },
          "metadata": {},
          "execution_count": 69
        }
      ]
    },
    {
      "cell_type": "code",
      "source": [
        "st1 = {'Cognizant','Google','The Math Company'}\n",
        "st2 = {'Google','Microsoft','Amazon'}\n",
        "st1.isdisjoint(st2)"
      ],
      "metadata": {
        "colab": {
          "base_uri": "https://localhost:8080/"
        },
        "id": "eRH__zAfR1dN",
        "outputId": "6d88306f-2242-4443-ebec-175fa2ba4294"
      },
      "execution_count": 70,
      "outputs": [
        {
          "output_type": "execute_result",
          "data": {
            "text/plain": [
              "False"
            ]
          },
          "metadata": {},
          "execution_count": 70
        }
      ]
    },
    {
      "cell_type": "markdown",
      "source": [
        "* The **issubset()** method returns True if all items in the set exists in the specified set, otherwise it retuns False."
      ],
      "metadata": {
        "id": "JdsRLFr7SG3p"
      }
    },
    {
      "cell_type": "code",
      "source": [
        "st1 = {'Cognizant','Infosys','The Math Company'}\n",
        "st2 = {'Google','Microsoft','Amazon','Cognizant','Infosys','The Math Company'}\n",
        "st1.issubset(st2)"
      ],
      "metadata": {
        "colab": {
          "base_uri": "https://localhost:8080/"
        },
        "id": "kHm5IgZbR9Q-",
        "outputId": "2f721de3-ae53-4bcf-f32e-2bb4dc75ce2e"
      },
      "execution_count": 71,
      "outputs": [
        {
          "output_type": "execute_result",
          "data": {
            "text/plain": [
              "True"
            ]
          },
          "metadata": {},
          "execution_count": 71
        }
      ]
    },
    {
      "cell_type": "markdown",
      "source": [
        "* The **issuperset()** method returns True if all items in the specified set exists in the original set, otherwise it retuns False."
      ],
      "metadata": {
        "id": "l-fs9fKvS7Cb"
      }
    },
    {
      "cell_type": "code",
      "source": [
        "st1 = {'Cognizant','Infosys','The Math Company','Google','Microsoft','Amazon'}\n",
        "st2 = {'Google','Microsoft','Amazon'}\n",
        "st1.issuperset(st2)"
      ],
      "metadata": {
        "colab": {
          "base_uri": "https://localhost:8080/"
        },
        "id": "Q5_TxaDtSSCH",
        "outputId": "0487001e-9618-4cfa-fc88-ae513d0cccd6"
      },
      "execution_count": 72,
      "outputs": [
        {
          "output_type": "execute_result",
          "data": {
            "text/plain": [
              "True"
            ]
          },
          "metadata": {},
          "execution_count": 72
        }
      ]
    },
    {
      "cell_type": "markdown",
      "source": [
        "\n",
        "*   Using **clear()** method to delete/clear all the items in the set.\n",
        "\n",
        "\n"
      ],
      "metadata": {
        "id": "wN5qD_zhXO1z"
      }
    },
    {
      "cell_type": "code",
      "source": [
        "st2 = {'Google','Microsoft','Amazon'}\n",
        "st2.clear()\n",
        "st2"
      ],
      "metadata": {
        "colab": {
          "base_uri": "https://localhost:8080/"
        },
        "id": "qlh6F8GSXIsP",
        "outputId": "ad7a50ef-4768-4641-dc30-12fdcbeb605e"
      },
      "execution_count": 73,
      "outputs": [
        {
          "output_type": "execute_result",
          "data": {
            "text/plain": [
              "set()"
            ]
          },
          "metadata": {},
          "execution_count": 73
        }
      ]
    },
    {
      "cell_type": "markdown",
      "source": [
        "## **Dictionaries**\n",
        "\n",
        "\n",
        "1.   Dictionary is a collection of which is Unordered, Changeable and indexed.\n",
        "2.   Dictionary does not allow Duplicate numbers. \n",
        "\n"
      ],
      "metadata": {
        "id": "ZF4zq4b8TZ-D"
      }
    },
    {
      "cell_type": "code",
      "source": [
        "dir(dict)"
      ],
      "metadata": {
        "colab": {
          "base_uri": "https://localhost:8080/"
        },
        "id": "XALo7XuqTBj4",
        "outputId": "a8ee151a-adbd-44c0-9c52-a53a39b3cddf"
      },
      "execution_count": 74,
      "outputs": [
        {
          "output_type": "execute_result",
          "data": {
            "text/plain": [
              "['__class__',\n",
              " '__contains__',\n",
              " '__delattr__',\n",
              " '__delitem__',\n",
              " '__dir__',\n",
              " '__doc__',\n",
              " '__eq__',\n",
              " '__format__',\n",
              " '__ge__',\n",
              " '__getattribute__',\n",
              " '__getitem__',\n",
              " '__gt__',\n",
              " '__hash__',\n",
              " '__init__',\n",
              " '__init_subclass__',\n",
              " '__iter__',\n",
              " '__le__',\n",
              " '__len__',\n",
              " '__lt__',\n",
              " '__ne__',\n",
              " '__new__',\n",
              " '__reduce__',\n",
              " '__reduce_ex__',\n",
              " '__repr__',\n",
              " '__setattr__',\n",
              " '__setitem__',\n",
              " '__sizeof__',\n",
              " '__str__',\n",
              " '__subclasshook__',\n",
              " 'clear',\n",
              " 'copy',\n",
              " 'fromkeys',\n",
              " 'get',\n",
              " 'items',\n",
              " 'keys',\n",
              " 'pop',\n",
              " 'popitem',\n",
              " 'setdefault',\n",
              " 'update',\n",
              " 'values']"
            ]
          },
          "metadata": {},
          "execution_count": 74
        }
      ]
    },
    {
      "cell_type": "markdown",
      "source": [
        "* Indexing"
      ],
      "metadata": {
        "id": "ygd1f43sXpql"
      }
    },
    {
      "cell_type": "code",
      "source": [
        "d = {'Maths':98,'Statistics':89, 9.5:'Soft Skill'}\n",
        "d['Maths']"
      ],
      "metadata": {
        "colab": {
          "base_uri": "https://localhost:8080/"
        },
        "id": "_ZlfCTDXUlXX",
        "outputId": "0aff22a9-7ea6-45ba-f597-a8a3acd18295"
      },
      "execution_count": 75,
      "outputs": [
        {
          "output_type": "execute_result",
          "data": {
            "text/plain": [
              "98"
            ]
          },
          "metadata": {},
          "execution_count": 75
        }
      ]
    },
    {
      "cell_type": "code",
      "source": [
        "d['Maths']=85\n",
        "d"
      ],
      "metadata": {
        "colab": {
          "base_uri": "https://localhost:8080/"
        },
        "id": "O13hqntcet7L",
        "outputId": "d17f2cd7-527a-4543-d022-f683bbd564b6"
      },
      "execution_count": 76,
      "outputs": [
        {
          "output_type": "execute_result",
          "data": {
            "text/plain": [
              "{'Maths': 85, 'Statistics': 89, 9.5: 'Soft Skill'}"
            ]
          },
          "metadata": {},
          "execution_count": 76
        }
      ]
    },
    {
      "cell_type": "code",
      "source": [
        "d1 = {'Class_1':{'Maths':[98,80,67]},'Class_2':{'Statistics':[89,43,56]}} #getting mark '43' in statistics under Class_2  by indexing.\n",
        "d1['Class_2']['Statistics'][1]"
      ],
      "metadata": {
        "colab": {
          "base_uri": "https://localhost:8080/"
        },
        "id": "lSN6cKTIVUM8",
        "outputId": "9dd499d7-d4c0-4d6b-fbae-74df6e13227e"
      },
      "execution_count": 77,
      "outputs": [
        {
          "output_type": "execute_result",
          "data": {
            "text/plain": [
              "43"
            ]
          },
          "metadata": {},
          "execution_count": 77
        }
      ]
    },
    {
      "cell_type": "markdown",
      "source": [
        "* **keys()** - returns a list containing dictionary's keys."
      ],
      "metadata": {
        "id": "BoeOiwGvX7oH"
      }
    },
    {
      "cell_type": "code",
      "source": [
        "d1.keys()"
      ],
      "metadata": {
        "colab": {
          "base_uri": "https://localhost:8080/"
        },
        "id": "izxZDyAzWS7v",
        "outputId": "3a6bdb0f-1d45-4d40-e081-d1cba968c13e"
      },
      "execution_count": 78,
      "outputs": [
        {
          "output_type": "execute_result",
          "data": {
            "text/plain": [
              "dict_keys(['Class_1', 'Class_2'])"
            ]
          },
          "metadata": {},
          "execution_count": 78
        }
      ]
    },
    {
      "cell_type": "code",
      "source": [
        "d1.values()"
      ],
      "metadata": {
        "colab": {
          "base_uri": "https://localhost:8080/"
        },
        "id": "GgtgvbxFYKDp",
        "outputId": "0fce4545-2475-46ff-8472-3b7ef99a0424"
      },
      "execution_count": 79,
      "outputs": [
        {
          "output_type": "execute_result",
          "data": {
            "text/plain": [
              "dict_values([{'Maths': [98, 80, 67]}, {'Statistics': [89, 43, 56]}])"
            ]
          },
          "metadata": {},
          "execution_count": 79
        }
      ]
    },
    {
      "cell_type": "markdown",
      "source": [
        "* **update()** - inserts the specified items into the dictionary."
      ],
      "metadata": {
        "id": "Vb5SqPpYaeez"
      }
    },
    {
      "cell_type": "code",
      "source": [
        "d = {'Maths':85,'Statistics':89, 9.5:'Soft Skill'}\n",
        "d.update({'Python':95,'Machine Learning':89})\n",
        "print(d)"
      ],
      "metadata": {
        "colab": {
          "base_uri": "https://localhost:8080/"
        },
        "id": "LPpoMY5eYVUE",
        "outputId": "0dcae320-68c8-46dd-a811-c55e27e6a447"
      },
      "execution_count": 80,
      "outputs": [
        {
          "output_type": "stream",
          "name": "stdout",
          "text": [
            "{'Maths': 85, 'Statistics': 89, 9.5: 'Soft Skill', 'Python': 95, 'Machine Learning': 89}\n"
          ]
        }
      ]
    },
    {
      "cell_type": "markdown",
      "source": [
        "* **setdefault()** - returns the value of the item with the specified key."
      ],
      "metadata": {
        "id": "YWPYYScwa0lY"
      }
    },
    {
      "cell_type": "code",
      "source": [
        "d.setdefault(9.5,'Python')"
      ],
      "metadata": {
        "colab": {
          "base_uri": "https://localhost:8080/",
          "height": 35
        },
        "id": "kdDYjABkaJ2H",
        "outputId": "f5d04949-95cf-4e91-93ac-0a401964577d"
      },
      "execution_count": 81,
      "outputs": [
        {
          "output_type": "execute_result",
          "data": {
            "text/plain": [
              "'Soft Skill'"
            ],
            "application/vnd.google.colaboratory.intrinsic+json": {
              "type": "string"
            }
          },
          "metadata": {},
          "execution_count": 81
        }
      ]
    },
    {
      "cell_type": "markdown",
      "source": [
        "*Since key does not exist in the below cell,it inserts the key, with the specified value.*"
      ],
      "metadata": {
        "id": "nS-ixSGRcfXy"
      }
    },
    {
      "cell_type": "code",
      "source": [
        "d.setdefault('practical',92)"
      ],
      "metadata": {
        "colab": {
          "base_uri": "https://localhost:8080/"
        },
        "id": "jJ0bAi7qbK1J",
        "outputId": "ba4f41a7-6bbb-47e6-f299-94291fbe3bc3"
      },
      "execution_count": 82,
      "outputs": [
        {
          "output_type": "execute_result",
          "data": {
            "text/plain": [
              "92"
            ]
          },
          "metadata": {},
          "execution_count": 82
        }
      ]
    },
    {
      "cell_type": "code",
      "source": [
        "print(d)"
      ],
      "metadata": {
        "colab": {
          "base_uri": "https://localhost:8080/"
        },
        "id": "a48WW60wbl_c",
        "outputId": "ae81eb2d-6ccc-4f92-ecb5-480d667e755a"
      },
      "execution_count": 83,
      "outputs": [
        {
          "output_type": "stream",
          "name": "stdout",
          "text": [
            "{'Maths': 85, 'Statistics': 89, 9.5: 'Soft Skill', 'Python': 95, 'Machine Learning': 89, 'practical': 92}\n"
          ]
        }
      ]
    },
    {
      "cell_type": "markdown",
      "source": [
        "* **popitem()** - removes the item that was last inserted into the dictionary."
      ],
      "metadata": {
        "id": "UZzLt5T-dIWO"
      }
    },
    {
      "cell_type": "code",
      "source": [
        "d.popitem()"
      ],
      "metadata": {
        "colab": {
          "base_uri": "https://localhost:8080/"
        },
        "id": "iTrTBlnic7sq",
        "outputId": "5f648389-e5e2-4186-f421-980b4172b583"
      },
      "execution_count": 84,
      "outputs": [
        {
          "output_type": "execute_result",
          "data": {
            "text/plain": [
              "('practical', 92)"
            ]
          },
          "metadata": {},
          "execution_count": 84
        }
      ]
    },
    {
      "cell_type": "code",
      "source": [
        "print(d)"
      ],
      "metadata": {
        "colab": {
          "base_uri": "https://localhost:8080/"
        },
        "id": "Ag4AifI9dMrV",
        "outputId": "08f39714-b72d-4626-cc9b-11184ab66671"
      },
      "execution_count": 85,
      "outputs": [
        {
          "output_type": "stream",
          "name": "stdout",
          "text": [
            "{'Maths': 85, 'Statistics': 89, 9.5: 'Soft Skill', 'Python': 95, 'Machine Learning': 89}\n"
          ]
        }
      ]
    },
    {
      "cell_type": "markdown",
      "source": [
        "* **pop()** removes the specified key item from the dictionary."
      ],
      "metadata": {
        "id": "BNvN5Gf_dfvj"
      }
    },
    {
      "cell_type": "code",
      "source": [
        "d.pop(9.5)\n",
        "print(d)"
      ],
      "metadata": {
        "colab": {
          "base_uri": "https://localhost:8080/"
        },
        "id": "JG_wmjhbdON1",
        "outputId": "20a5214d-ad78-4b11-f16a-23ac70c25927"
      },
      "execution_count": 86,
      "outputs": [
        {
          "output_type": "stream",
          "name": "stdout",
          "text": [
            "{'Maths': 85, 'Statistics': 89, 'Python': 95, 'Machine Learning': 89}\n"
          ]
        }
      ]
    },
    {
      "cell_type": "markdown",
      "source": [
        "* **items()** - returns a key-value pairs of the dictionary, as tuples in a list."
      ],
      "metadata": {
        "id": "FrwfjiWJePtc"
      }
    },
    {
      "cell_type": "code",
      "source": [
        "d.items()"
      ],
      "metadata": {
        "colab": {
          "base_uri": "https://localhost:8080/"
        },
        "id": "AfJL0CEtdsOf",
        "outputId": "b6ae9fab-f5eb-4874-cb73-9f8c1c069127"
      },
      "execution_count": 87,
      "outputs": [
        {
          "output_type": "execute_result",
          "data": {
            "text/plain": [
              "dict_items([('Maths', 85), ('Statistics', 89), ('Python', 95), ('Machine Learning', 89)])"
            ]
          },
          "metadata": {},
          "execution_count": 87
        }
      ]
    },
    {
      "cell_type": "markdown",
      "source": [
        "* **get()** - returns the value of the item with the specified key."
      ],
      "metadata": {
        "id": "cYUAUavPfLM6"
      }
    },
    {
      "cell_type": "code",
      "source": [
        "d.get('Python', 'Statistics')"
      ],
      "metadata": {
        "colab": {
          "base_uri": "https://localhost:8080/"
        },
        "id": "6eUG_naeekoJ",
        "outputId": "f0370fda-1553-49a6-a3fb-9b86762c1334"
      },
      "execution_count": 88,
      "outputs": [
        {
          "output_type": "execute_result",
          "data": {
            "text/plain": [
              "95"
            ]
          },
          "metadata": {},
          "execution_count": 88
        }
      ]
    },
    {
      "cell_type": "code",
      "source": [
        "d.get('Java',67) # returns the value of an item that do not exist"
      ],
      "metadata": {
        "colab": {
          "base_uri": "https://localhost:8080/"
        },
        "id": "hZzj9lFpfvWt",
        "outputId": "d5441983-477b-4d83-fb4b-320dbb08eae7"
      },
      "execution_count": 89,
      "outputs": [
        {
          "output_type": "execute_result",
          "data": {
            "text/plain": [
              "67"
            ]
          },
          "metadata": {},
          "execution_count": 89
        }
      ]
    },
    {
      "cell_type": "markdown",
      "source": [
        "* **fromkeys()** - returns a dictionary with the specified keys and the specified value."
      ],
      "metadata": {
        "id": "QqLy-ZapgIV8"
      }
    },
    {
      "cell_type": "code",
      "source": [
        "d1 = ('Cricket','Hockey','Badminton')\n",
        "d2 = ({'rating':5})\n",
        "\n",
        "pairs = dict.fromkeys(d1,d2)\n",
        "print(pairs)"
      ],
      "metadata": {
        "colab": {
          "base_uri": "https://localhost:8080/"
        },
        "id": "TQn3WL5zf45x",
        "outputId": "59a26b08-fd66-4629-fce8-d03b2f7bc0b8"
      },
      "execution_count": 90,
      "outputs": [
        {
          "output_type": "stream",
          "name": "stdout",
          "text": [
            "{'Cricket': {'rating': 5}, 'Hockey': {'rating': 5}, 'Badminton': {'rating': 5}}\n"
          ]
        }
      ]
    }
  ]
}