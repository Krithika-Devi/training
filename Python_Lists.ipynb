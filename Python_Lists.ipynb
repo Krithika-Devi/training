{
  "nbformat": 4,
  "nbformat_minor": 0,
  "metadata": {
    "colab": {
      "name": "Python_Lists.ipynb",
      "provenance": [],
      "authorship_tag": "ABX9TyMJHBEvidYJIrwNEYpqWwWY",
      "include_colab_link": true
    },
    "kernelspec": {
      "name": "python3",
      "display_name": "Python 3"
    },
    "language_info": {
      "name": "python"
    }
  },
  "cells": [
    {
      "cell_type": "markdown",
      "metadata": {
        "id": "view-in-github",
        "colab_type": "text"
      },
      "source": [
        "<a href=\"https://colab.research.google.com/github/Krithika-Devi/training/blob/main/Python_Lists.ipynb\" target=\"_parent\"><img src=\"https://colab.research.google.com/assets/colab-badge.svg\" alt=\"Open In Colab\"/></a>"
      ]
    },
    {
      "cell_type": "markdown",
      "source": [
        "## **LISTS**\n",
        "\n",
        "\n",
        "1.   List is a collection which is Ordered and Changeable.\n",
        "2.   List Allows Duplicate numbers.\n",
        "\n"
      ],
      "metadata": {
        "id": "B5yvtWepoDqT"
      }
    },
    {
      "cell_type": "code",
      "source": [
        "dir(list)"
      ],
      "metadata": {
        "colab": {
          "base_uri": "https://localhost:8080/"
        },
        "id": "HlT8lFOFUOgO",
        "outputId": "d0ae3457-b515-404f-c210-fc09f0922ca4"
      },
      "execution_count": null,
      "outputs": [
        {
          "output_type": "execute_result",
          "data": {
            "text/plain": [
              "['__add__',\n",
              " '__class__',\n",
              " '__contains__',\n",
              " '__delattr__',\n",
              " '__delitem__',\n",
              " '__dir__',\n",
              " '__doc__',\n",
              " '__eq__',\n",
              " '__format__',\n",
              " '__ge__',\n",
              " '__getattribute__',\n",
              " '__getitem__',\n",
              " '__gt__',\n",
              " '__hash__',\n",
              " '__iadd__',\n",
              " '__imul__',\n",
              " '__init__',\n",
              " '__init_subclass__',\n",
              " '__iter__',\n",
              " '__le__',\n",
              " '__len__',\n",
              " '__lt__',\n",
              " '__mul__',\n",
              " '__ne__',\n",
              " '__new__',\n",
              " '__reduce__',\n",
              " '__reduce_ex__',\n",
              " '__repr__',\n",
              " '__reversed__',\n",
              " '__rmul__',\n",
              " '__setattr__',\n",
              " '__setitem__',\n",
              " '__sizeof__',\n",
              " '__str__',\n",
              " '__subclasshook__',\n",
              " 'append',\n",
              " 'clear',\n",
              " 'copy',\n",
              " 'count',\n",
              " 'extend',\n",
              " 'index',\n",
              " 'insert',\n",
              " 'pop',\n",
              " 'remove',\n",
              " 'reverse',\n",
              " 'sort']"
            ]
          },
          "metadata": {},
          "execution_count": 1
        }
      ]
    },
    {
      "cell_type": "code",
      "source": [
        "mylist = ['C','C++','Python','Java','Machine Learning','Computer Vision']\n",
        "mylist"
      ],
      "metadata": {
        "colab": {
          "base_uri": "https://localhost:8080/"
        },
        "id": "dqEHJLUbnmk7",
        "outputId": "194afca4-ad27-4b20-81f7-bdf5cadec323"
      },
      "execution_count": null,
      "outputs": [
        {
          "output_type": "execute_result",
          "data": {
            "text/plain": [
              "['C', 'C++', 'Python', 'Java', 'Machine Learning', 'Computer Vision']"
            ]
          },
          "metadata": {},
          "execution_count": 2
        }
      ]
    },
    {
      "cell_type": "markdown",
      "source": [
        "* The following list indexes first and last element in a list."
      ],
      "metadata": {
        "id": "FoTy3xMApcAw"
      }
    },
    {
      "cell_type": "code",
      "source": [
        "mylist[0],mylist[-1]"
      ],
      "metadata": {
        "colab": {
          "base_uri": "https://localhost:8080/"
        },
        "id": "pj2Fs42wpBVv",
        "outputId": "cecff777-9160-4356-c1b0-86344505f25c"
      },
      "execution_count": null,
      "outputs": [
        {
          "output_type": "execute_result",
          "data": {
            "text/plain": [
              "('C', 'Computer Vision')"
            ]
          },
          "metadata": {},
          "execution_count": 3
        }
      ]
    },
    {
      "cell_type": "markdown",
      "source": [
        "* The following list indexes first 3 elements in 'mylist' by ignoring last three elements."
      ],
      "metadata": {
        "id": "Bj29FOJopROS"
      }
    },
    {
      "cell_type": "code",
      "source": [
        "mylist[:-3] "
      ],
      "metadata": {
        "colab": {
          "base_uri": "https://localhost:8080/"
        },
        "id": "4KkVv_j8pD6U",
        "outputId": "cd34ce38-2e51-4607-9083-4cb166a214c5"
      },
      "execution_count": null,
      "outputs": [
        {
          "output_type": "execute_result",
          "data": {
            "text/plain": [
              "['C', 'C++', 'Python']"
            ]
          },
          "metadata": {},
          "execution_count": 4
        }
      ]
    },
    {
      "cell_type": "markdown",
      "source": [
        "* The following list indexes element 1 and 2 in 'mylist'. The last element 3 in a range is not considered."
      ],
      "metadata": {
        "id": "VF-5oCDDpwBP"
      }
    },
    {
      "cell_type": "code",
      "source": [
        "mylist[1:3]"
      ],
      "metadata": {
        "colab": {
          "base_uri": "https://localhost:8080/"
        },
        "id": "7d8yeAttpFKz",
        "outputId": "abf26f1e-5f63-4938-8ffe-3a94192fd097"
      },
      "execution_count": null,
      "outputs": [
        {
          "output_type": "execute_result",
          "data": {
            "text/plain": [
              "['C++', 'Python']"
            ]
          },
          "metadata": {},
          "execution_count": 5
        }
      ]
    },
    {
      "cell_type": "markdown",
      "source": [
        "\n",
        "> * Indexing multiple lists\n",
        "\n"
      ],
      "metadata": {
        "id": "pq9lsbC69Qtv"
      }
    },
    {
      "cell_type": "code",
      "source": [
        "x = [10,20,[20,30,[20,10,60],[80,90]],[90,10]]"
      ],
      "metadata": {
        "id": "XWuADaqKpuGC"
      },
      "execution_count": null,
      "outputs": []
    },
    {
      "cell_type": "code",
      "source": [
        "x[2][2][2] #getting element 60 from third element in list 'x'"
      ],
      "metadata": {
        "colab": {
          "base_uri": "https://localhost:8080/"
        },
        "id": "OJGhFSW_85e9",
        "outputId": "e40f3ae9-1856-474f-e257-573b51b37cc1"
      },
      "execution_count": null,
      "outputs": [
        {
          "output_type": "execute_result",
          "data": {
            "text/plain": [
              "60"
            ]
          },
          "metadata": {},
          "execution_count": 7
        }
      ]
    },
    {
      "cell_type": "code",
      "source": [
        "print(type(x)) #getting type of 'x' variable"
      ],
      "metadata": {
        "colab": {
          "base_uri": "https://localhost:8080/"
        },
        "id": "e6iVT6wi9orh",
        "outputId": "8bea2114-95b4-4a13-ee18-f2f2779f6fdc"
      },
      "execution_count": null,
      "outputs": [
        {
          "output_type": "stream",
          "name": "stdout",
          "text": [
            "<class 'list'>\n"
          ]
        }
      ]
    },
    {
      "cell_type": "markdown",
      "source": [
        "* **index()** - Indexing the element "
      ],
      "metadata": {
        "id": "_XldeQUEwlfy"
      }
    },
    {
      "cell_type": "markdown",
      "source": [
        "\n",
        "> The following 'ind' assignment variable finds the index number of the value '50'.\n",
        "\n"
      ],
      "metadata": {
        "id": "TwBDUhV0qaTQ"
      }
    },
    {
      "cell_type": "code",
      "source": [
        "lst = [10,20,30,40,50,40,60,70,80,90,40]\n",
        "ind = lst.index(50)\n",
        "ind"
      ],
      "metadata": {
        "colab": {
          "base_uri": "https://localhost:8080/"
        },
        "id": "a31nRJclqTnI",
        "outputId": "a31da5bc-33bf-43e7-b073-9071ed37183a"
      },
      "execution_count": null,
      "outputs": [
        {
          "output_type": "execute_result",
          "data": {
            "text/plain": [
              "4"
            ]
          },
          "metadata": {},
          "execution_count": 9
        }
      ]
    },
    {
      "cell_type": "markdown",
      "source": [
        "\n",
        "> Now, changing the element of this 'index 4' as '200'.\n",
        "\n"
      ],
      "metadata": {
        "id": "QbqEhGcmq6Y7"
      }
    },
    {
      "cell_type": "code",
      "source": [
        "lst[ind]=200\n",
        "print(lst)"
      ],
      "metadata": {
        "colab": {
          "base_uri": "https://localhost:8080/"
        },
        "id": "Yk1PGwEpqY_Y",
        "outputId": "d231d1a6-8f1e-4bb5-a235-8b3ee73ff641"
      },
      "execution_count": null,
      "outputs": [
        {
          "output_type": "stream",
          "name": "stdout",
          "text": [
            "[10, 20, 30, 40, 200, 40, 60, 70, 80, 90, 40]\n"
          ]
        }
      ]
    },
    {
      "cell_type": "markdown",
      "source": [
        "* **sort()** - Sorting the list."
      ],
      "metadata": {
        "id": "pcnuSl-NrKYa"
      }
    },
    {
      "cell_type": "code",
      "source": [
        "lst1 = [34,65,76,23,12,87,97,23,22,76,88,11,10,9,4,102]\n",
        "sortedlist = sorted(lst1)\n",
        "sortedlist"
      ],
      "metadata": {
        "colab": {
          "base_uri": "https://localhost:8080/"
        },
        "id": "ugDrgthzqzV0",
        "outputId": "06732617-b671-4ca3-9638-ec9e955daa62"
      },
      "execution_count": null,
      "outputs": [
        {
          "output_type": "execute_result",
          "data": {
            "text/plain": [
              "[4, 9, 10, 11, 12, 22, 23, 23, 34, 65, 76, 76, 87, 88, 97, 102]"
            ]
          },
          "metadata": {},
          "execution_count": 11
        }
      ]
    },
    {
      "cell_type": "code",
      "source": [
        "# Aliter:\n",
        "lst1.sort()\n",
        "lst1"
      ],
      "metadata": {
        "colab": {
          "base_uri": "https://localhost:8080/"
        },
        "id": "4_8G5-hxrkHK",
        "outputId": "96647c94-57dd-4afc-ac5d-116eb26eb0c1"
      },
      "execution_count": null,
      "outputs": [
        {
          "output_type": "execute_result",
          "data": {
            "text/plain": [
              "[4, 9, 10, 11, 12, 22, 23, 23, 34, 65, 76, 76, 87, 88, 97, 102]"
            ]
          },
          "metadata": {},
          "execution_count": 12
        }
      ]
    },
    {
      "cell_type": "markdown",
      "source": [
        "* append() - Appending in the list -- 'mylist'"
      ],
      "metadata": {
        "id": "El1G4gE3r9pi"
      }
    },
    {
      "cell_type": "code",
      "source": [
        "mylist"
      ],
      "metadata": {
        "colab": {
          "base_uri": "https://localhost:8080/"
        },
        "id": "gE-_QjODr00h",
        "outputId": "bbdaa741-b5a8-4503-ef82-b52d4395ef2f"
      },
      "execution_count": null,
      "outputs": [
        {
          "output_type": "execute_result",
          "data": {
            "text/plain": [
              "['C', 'C++', 'Python', 'Java', 'Machine Learning', 'Computer Vision']"
            ]
          },
          "metadata": {},
          "execution_count": 13
        }
      ]
    },
    {
      "cell_type": "code",
      "source": [
        "mylist.append('Deep Learning')\n",
        "mylist"
      ],
      "metadata": {
        "colab": {
          "base_uri": "https://localhost:8080/"
        },
        "id": "V0gmRmvisMqk",
        "outputId": "97d229d7-c269-4058-b043-7fbf56761751"
      },
      "execution_count": null,
      "outputs": [
        {
          "output_type": "execute_result",
          "data": {
            "text/plain": [
              "['C',\n",
              " 'C++',\n",
              " 'Python',\n",
              " 'Java',\n",
              " 'Machine Learning',\n",
              " 'Computer Vision',\n",
              " 'Deep Learning']"
            ]
          },
          "metadata": {},
          "execution_count": 14
        }
      ]
    },
    {
      "cell_type": "markdown",
      "source": [
        "* **insert()** - Inserting in the list "
      ],
      "metadata": {
        "id": "wjnxOOGisdQQ"
      }
    },
    {
      "cell_type": "code",
      "source": [
        "mylist.insert(3,'MS Azure')\n",
        "mylist"
      ],
      "metadata": {
        "colab": {
          "base_uri": "https://localhost:8080/"
        },
        "id": "QUYWi7UisR5r",
        "outputId": "b3a6e6dd-0bdc-4f4b-c398-e8d695f0a3e7"
      },
      "execution_count": null,
      "outputs": [
        {
          "output_type": "execute_result",
          "data": {
            "text/plain": [
              "['C',\n",
              " 'C++',\n",
              " 'Python',\n",
              " 'MS Azure',\n",
              " 'Java',\n",
              " 'Machine Learning',\n",
              " 'Computer Vision',\n",
              " 'Deep Learning']"
            ]
          },
          "metadata": {},
          "execution_count": 15
        }
      ]
    },
    {
      "cell_type": "markdown",
      "source": [
        "* remove() - Removing particular element in the list.\n"
      ],
      "metadata": {
        "id": "mgg6sar_s2i2"
      }
    },
    {
      "cell_type": "code",
      "source": [
        "mylist.remove(\"Java\")\n",
        "mylist"
      ],
      "metadata": {
        "colab": {
          "base_uri": "https://localhost:8080/"
        },
        "id": "6udpJC2ysrN_",
        "outputId": "33b58f02-1e31-4831-e7a3-8ee6e7c003e8"
      },
      "execution_count": null,
      "outputs": [
        {
          "output_type": "execute_result",
          "data": {
            "text/plain": [
              "['C',\n",
              " 'C++',\n",
              " 'Python',\n",
              " 'MS Azure',\n",
              " 'Machine Learning',\n",
              " 'Computer Vision',\n",
              " 'Deep Learning']"
            ]
          },
          "metadata": {},
          "execution_count": 16
        }
      ]
    },
    {
      "cell_type": "markdown",
      "source": [
        "* **clear()** - Clearing the list\n",
        "\n",
        "\n",
        "\n",
        "> Using function clear() to remove all the elements in the list.\n"
      ],
      "metadata": {
        "id": "EAebPIg2tOor"
      }
    },
    {
      "cell_type": "code",
      "source": [
        "mylist.clear()\n",
        "mylist"
      ],
      "metadata": {
        "colab": {
          "base_uri": "https://localhost:8080/"
        },
        "id": "sPuABrAqs_MH",
        "outputId": "03fd7033-d406-46ad-ab75-b6557c281002"
      },
      "execution_count": null,
      "outputs": [
        {
          "output_type": "execute_result",
          "data": {
            "text/plain": [
              "[]"
            ]
          },
          "metadata": {},
          "execution_count": 17
        }
      ]
    },
    {
      "cell_type": "markdown",
      "source": [
        " * **copy()** - Copying the list"
      ],
      "metadata": {
        "id": "TkvpiTavtwTN"
      }
    },
    {
      "cell_type": "code",
      "source": [
        "lst"
      ],
      "metadata": {
        "colab": {
          "base_uri": "https://localhost:8080/"
        },
        "id": "bMUvccqntan4",
        "outputId": "f1d2f87b-2ab8-49e2-fef8-892c1dba92fc"
      },
      "execution_count": null,
      "outputs": [
        {
          "output_type": "execute_result",
          "data": {
            "text/plain": [
              "[10, 20, 30, 40, 200, 40, 60, 70, 80, 90, 40]"
            ]
          },
          "metadata": {},
          "execution_count": 18
        }
      ]
    },
    {
      "cell_type": "code",
      "source": [
        "mylist = lst.copy()\n",
        "mylist"
      ],
      "metadata": {
        "colab": {
          "base_uri": "https://localhost:8080/"
        },
        "id": "EsiEI-W2t088",
        "outputId": "d75f04de-5519-481f-c304-7d4ae8827ee1"
      },
      "execution_count": null,
      "outputs": [
        {
          "output_type": "execute_result",
          "data": {
            "text/plain": [
              "[10, 20, 30, 40, 200, 40, 60, 70, 80, 90, 40]"
            ]
          },
          "metadata": {},
          "execution_count": 19
        }
      ]
    },
    {
      "cell_type": "markdown",
      "source": [
        "* **count()** - Counting the elements in the list."
      ],
      "metadata": {
        "id": "q7k4nhPwuCHJ"
      }
    },
    {
      "cell_type": "markdown",
      "source": [
        "\n",
        "> count() returns the number of times the specified value occurs.\n",
        "\n"
      ],
      "metadata": {
        "id": "xZwTS11-23Cf"
      }
    },
    {
      "cell_type": "code",
      "source": [
        "l = mylist.count(40)\n",
        "l"
      ],
      "metadata": {
        "colab": {
          "base_uri": "https://localhost:8080/"
        },
        "id": "ZHOrU8jct5oK",
        "outputId": "62ca70e1-67d5-4aec-cdd5-cba4f072b52b"
      },
      "execution_count": null,
      "outputs": [
        {
          "output_type": "execute_result",
          "data": {
            "text/plain": [
              "3"
            ]
          },
          "metadata": {},
          "execution_count": 20
        }
      ]
    },
    {
      "cell_type": "markdown",
      "source": [
        "\n",
        "\n",
        "> * Appending multiple values including string to a list and counting that element in 'mylist'\n"
      ],
      "metadata": {
        "id": "51FxsvHsuXb7"
      }
    },
    {
      "cell_type": "code",
      "source": [
        "mylist.extend(['Mexico', 22,'UK',78,'London',102])"
      ],
      "metadata": {
        "id": "GrYVCGkxuURd"
      },
      "execution_count": null,
      "outputs": []
    },
    {
      "cell_type": "code",
      "source": [
        "print(mylist)"
      ],
      "metadata": {
        "colab": {
          "base_uri": "https://localhost:8080/"
        },
        "id": "FMrjJUcBu13d",
        "outputId": "3214fad7-6080-480e-9450-332f4c6c6b5d"
      },
      "execution_count": null,
      "outputs": [
        {
          "output_type": "stream",
          "name": "stdout",
          "text": [
            "[10, 20, 30, 40, 200, 40, 60, 70, 80, 90, 40, 'Mexico', 22, 'UK', 78, 'London', 102]\n"
          ]
        }
      ]
    },
    {
      "cell_type": "code",
      "source": [
        "c = mylist.count('Mexico')\n",
        "c"
      ],
      "metadata": {
        "colab": {
          "base_uri": "https://localhost:8080/"
        },
        "id": "0u38p55mvx7q",
        "outputId": "ddc7cfde-4083-45a3-ded6-099379a78f09"
      },
      "execution_count": null,
      "outputs": [
        {
          "output_type": "execute_result",
          "data": {
            "text/plain": [
              "1"
            ]
          },
          "metadata": {},
          "execution_count": 23
        }
      ]
    },
    {
      "cell_type": "markdown",
      "source": [
        "* pop() - Removes the element "
      ],
      "metadata": {
        "id": "oWI9uRQ-w1gW"
      }
    },
    {
      "cell_type": "markdown",
      "source": [
        "\n",
        "\n",
        "> Removing the 4th index value from the list. That is, removing 5th value '200'\n"
      ],
      "metadata": {
        "id": "N7gciLCQyDR7"
      }
    },
    {
      "cell_type": "code",
      "source": [
        "mylist.pop(4)"
      ],
      "metadata": {
        "colab": {
          "base_uri": "https://localhost:8080/"
        },
        "id": "G1uK4DYbwDF_",
        "outputId": "9cea35f4-7605-43ad-c3a3-9b0c03f89092"
      },
      "execution_count": null,
      "outputs": [
        {
          "output_type": "execute_result",
          "data": {
            "text/plain": [
              "200"
            ]
          },
          "metadata": {},
          "execution_count": 24
        }
      ]
    },
    {
      "cell_type": "markdown",
      "source": [
        "\n",
        "\n",
        "> Without mentioning index value under pop() function, removes the last element from a list. That is, at index '-1'Indented block\n",
        "\n"
      ],
      "metadata": {
        "id": "KVizClzWyT_K"
      }
    },
    {
      "cell_type": "code",
      "source": [
        "mylist.pop()"
      ],
      "metadata": {
        "colab": {
          "base_uri": "https://localhost:8080/"
        },
        "id": "32mIQHSmxDk3",
        "outputId": "bc541a0a-b527-4bda-b708-a2f72df39a98"
      },
      "execution_count": null,
      "outputs": [
        {
          "output_type": "execute_result",
          "data": {
            "text/plain": [
              "102"
            ]
          },
          "metadata": {},
          "execution_count": 25
        }
      ]
    },
    {
      "cell_type": "code",
      "source": [
        "print(mylist)"
      ],
      "metadata": {
        "colab": {
          "base_uri": "https://localhost:8080/"
        },
        "id": "AtSRM_EzxrP8",
        "outputId": "759d12e4-b348-4743-905f-60938162f56c"
      },
      "execution_count": null,
      "outputs": [
        {
          "output_type": "stream",
          "name": "stdout",
          "text": [
            "[10, 20, 30, 40, 40, 60, 70, 80, 90, 40, 'Mexico', 22, 'UK', 78, 'London']\n"
          ]
        }
      ]
    },
    {
      "cell_type": "markdown",
      "source": [
        "\n",
        "***Appending and removing the element at the same time using loop condition***"
      ],
      "metadata": {
        "id": "7I1gFPgjyzQC"
      }
    },
    {
      "cell_type": "code",
      "source": [
        "lst_ = []\n",
        "for i in range(0,10): #The range 0 to 10 specifies that list contains 10 elements\n",
        "  a = int(input(\"Enter element of list \"))\n",
        "  lst_.append(a)"
      ],
      "metadata": {
        "colab": {
          "base_uri": "https://localhost:8080/"
        },
        "id": "INEu6QcaynzE",
        "outputId": "b28307da-3af8-4deb-ff3a-8d5fa5e0ce85"
      },
      "execution_count": null,
      "outputs": [
        {
          "name": "stdout",
          "output_type": "stream",
          "text": [
            "Enter element of list 4\n",
            "Enter element of list 9\n",
            "Enter element of list 8\n",
            "Enter element of list 10\n",
            "Enter element of list 5\n",
            "Enter element of list 3\n",
            "Enter element of list 2\n",
            "Enter element of list 7\n",
            "Enter element of list 11\n",
            "Enter element of list 15\n"
          ]
        }
      ]
    },
    {
      "cell_type": "code",
      "source": [
        "print(lst_)"
      ],
      "metadata": {
        "colab": {
          "base_uri": "https://localhost:8080/"
        },
        "id": "imIrLG_Lz3EC",
        "outputId": "a5e966f5-f298-430b-cc2f-a11728328681"
      },
      "execution_count": null,
      "outputs": [
        {
          "output_type": "stream",
          "name": "stdout",
          "text": [
            "[4, 9, 8, 10, 5, 3, 2, 7, 11, 15]\n"
          ]
        }
      ]
    },
    {
      "cell_type": "markdown",
      "source": [
        "Getting only even numbers from a list by removing odd numbers."
      ],
      "metadata": {
        "id": "DNWU6iZG0owf"
      }
    },
    {
      "cell_type": "code",
      "source": [
        "lst_ = [num for num in lst_ if num%2==0] #List comprehension of even numbers.\n",
        "\n",
        "print(lst_)\n"
      ],
      "metadata": {
        "colab": {
          "base_uri": "https://localhost:8080/"
        },
        "id": "mtEAZrCf0DA2",
        "outputId": "221a7788-485b-40a1-e5c8-9630b1279a17"
      },
      "execution_count": null,
      "outputs": [
        {
          "output_type": "stream",
          "name": "stdout",
          "text": [
            "[4, 8, 10, 2]\n"
          ]
        }
      ]
    },
    {
      "cell_type": "markdown",
      "source": [
        "* **reverse()** - Reverses the list ('lst_')"
      ],
      "metadata": {
        "id": "eCh0CLF408Cs"
      }
    },
    {
      "cell_type": "code",
      "source": [
        "lst_.reverse()\n",
        "print(lst_)"
      ],
      "metadata": {
        "colab": {
          "base_uri": "https://localhost:8080/"
        },
        "id": "v1Y8ByNY0gf9",
        "outputId": "1ebbc6ed-6b2a-4eeb-e11d-369f5057b739"
      },
      "execution_count": null,
      "outputs": [
        {
          "output_type": "stream",
          "name": "stdout",
          "text": [
            "[2, 10, 8, 4]\n"
          ]
        }
      ]
    },
    {
      "cell_type": "code",
      "source": [
        "len(lst_) #getting a length of list"
      ],
      "metadata": {
        "colab": {
          "base_uri": "https://localhost:8080/"
        },
        "id": "d2-jqSY02Hsw",
        "outputId": "fde36e2e-c713-44c6-d7ef-24194fe09ab4"
      },
      "execution_count": null,
      "outputs": [
        {
          "output_type": "execute_result",
          "data": {
            "text/plain": [
              "4"
            ]
          },
          "metadata": {},
          "execution_count": 31
        }
      ]
    }
  ]
}