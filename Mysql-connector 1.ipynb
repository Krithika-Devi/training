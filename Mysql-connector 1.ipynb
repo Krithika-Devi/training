{
 "cells": [
  {
   "cell_type": "code",
   "execution_count": 5,
   "id": "b4225f5f",
   "metadata": {},
   "outputs": [
    {
     "name": "stdout",
     "output_type": "stream",
     "text": [
      "Requirement already satisfied: mysql-connector-python in c:\\users\\2211570\\anaconda3\\lib\\site-packages (8.0.30)\n",
      "Requirement already satisfied: protobuf<=3.20.1,>=3.11.0 in c:\\users\\2211570\\anaconda3\\lib\\site-packages (from mysql-connector-python) (3.19.1)\n",
      "Requirement already satisfied: mysql-connector-python in c:\\users\\2211570\\anaconda3\\lib\\site-packages (8.0.30)\n",
      "Requirement already satisfied: protobuf<=3.20.1,>=3.11.0 in c:\\users\\2211570\\anaconda3\\lib\\site-packages (from mysql-connector-python) (3.19.1)\n",
      "Note: you may need to restart the kernel to use updated packages.\n"
     ]
    }
   ],
   "source": [
    "pip install mysql-connector-python"
   ]
  },
  {
   "cell_type": "code",
   "execution_count": 7,
   "id": "162121fc",
   "metadata": {},
   "outputs": [],
   "source": [
    "import mysql.connector as sql"
   ]
  },
  {
   "cell_type": "code",
   "execution_count": 9,
   "id": "356a2829",
   "metadata": {},
   "outputs": [
    {
     "name": "stdout",
     "output_type": "stream",
     "text": [
      "<mysql.connector.connection_cext.CMySQLConnection object at 0x000001FC2AB74AF0>\n"
     ]
    }
   ],
   "source": [
    "connection = sql.connect(host = \"localhost\",\n",
    "                        user = \"root\",\n",
    "                        password = \"password-1\")\n",
    "                        \n",
    "print(connection)"
   ]
  },
  {
   "cell_type": "markdown",
   "id": "2aefdd53",
   "metadata": {},
   "source": [
    "### Creating Database"
   ]
  },
  {
   "cell_type": "code",
   "execution_count": 10,
   "id": "671a99f9",
   "metadata": {},
   "outputs": [],
   "source": [
    "mycursor = connection.cursor()\n",
    "mycursor.execute(\"CREATE DATABASE student\")"
   ]
  },
  {
   "cell_type": "code",
   "execution_count": 11,
   "id": "bb433d68",
   "metadata": {},
   "outputs": [],
   "source": [
    "mycursor = connection.cursor()\n",
    "mycursor.execute(\"SHOW DATABASES\")"
   ]
  },
  {
   "cell_type": "code",
   "execution_count": 12,
   "id": "aee49d54",
   "metadata": {},
   "outputs": [
    {
     "name": "stdout",
     "output_type": "stream",
     "text": [
      "('assessment',)\n",
      "('entrylevel_employee',)\n",
      "('information_schema',)\n",
      "('mysql',)\n",
      "('performance_schema',)\n",
      "('sakila',)\n",
      "('student',)\n",
      "('sys',)\n",
      "('world',)\n"
     ]
    }
   ],
   "source": [
    "for x in mycursor:\n",
    "    print(x)"
   ]
  },
  {
   "cell_type": "code",
   "execution_count": 15,
   "id": "b90e4136",
   "metadata": {},
   "outputs": [],
   "source": [
    "mycursor = connection.cursor()\n",
    "mycursor.execute(\"USE entrylevel_employee\")"
   ]
  },
  {
   "cell_type": "code",
   "execution_count": 17,
   "id": "702e3c52",
   "metadata": {},
   "outputs": [],
   "source": [
    "mycursor = connection.cursor()\n",
    "mycursor.execute(\"SHOW TABLES\")"
   ]
  },
  {
   "cell_type": "code",
   "execution_count": 18,
   "id": "21c7669b",
   "metadata": {},
   "outputs": [
    {
     "name": "stdout",
     "output_type": "stream",
     "text": [
      "('associate_feedback',)\n",
      "('associate_info',)\n",
      "('associate_status',)\n",
      "('batch_info',)\n",
      "('course',)\n",
      "('course_fees',)\n",
      "('course_fees_history',)\n",
      "('course_info',)\n",
      "('course_struc',)\n",
      "('login_details',)\n",
      "('module_info',)\n",
      "('newcol',)\n",
      "('products',)\n",
      "('questions',)\n",
      "('student_info',)\n",
      "('suppliers',)\n",
      "('trainer_feedback',)\n",
      "('trainer_info',)\n"
     ]
    }
   ],
   "source": [
    "for y in mycursor:\n",
    "    print(y)"
   ]
  },
  {
   "cell_type": "code",
   "execution_count": 23,
   "id": "36590edf",
   "metadata": {},
   "outputs": [],
   "source": [
    "mycursor = connection.cursor()\n",
    "mycursor.execute(\"DROP TABLE newcol\")"
   ]
  },
  {
   "cell_type": "code",
   "execution_count": 48,
   "id": "9ce3e42b",
   "metadata": {},
   "outputs": [],
   "source": [
    "mycursor = connection.cursor()\n",
    "mycursor.execute(\"DROP TABLE genc_info\")"
   ]
  },
  {
   "cell_type": "code",
   "execution_count": 30,
   "id": "5449db7d",
   "metadata": {},
   "outputs": [],
   "source": [
    "mycursor = connection.cursor()\n",
    "mycursor.execute(\"SHOW TABLES\")"
   ]
  },
  {
   "cell_type": "code",
   "execution_count": 31,
   "id": "2522f07e",
   "metadata": {},
   "outputs": [
    {
     "name": "stdout",
     "output_type": "stream",
     "text": [
      "('associate_feedback',)\n",
      "('associate_info',)\n",
      "('associate_status',)\n",
      "('batch_info',)\n",
      "('course',)\n",
      "('course_fees',)\n",
      "('course_fees_history',)\n",
      "('course_info',)\n",
      "('course_struc',)\n",
      "('login_details',)\n",
      "('module_info',)\n",
      "('products',)\n",
      "('questions',)\n",
      "('student_info',)\n",
      "('suppliers',)\n",
      "('trainer_feedback',)\n",
      "('trainer_info',)\n"
     ]
    }
   ],
   "source": [
    "for y in mycursor:\n",
    "    print(y)"
   ]
  },
  {
   "cell_type": "code",
   "execution_count": 49,
   "id": "1101af7f",
   "metadata": {},
   "outputs": [],
   "source": [
    "mycursor = connection.cursor()\n",
    "mycursor.execute(\"CREATE TABLE genc_info (genc_id int primary key auto_increment, genc_name varchar(80), cohort varchar(80))\")"
   ]
  },
  {
   "cell_type": "code",
   "execution_count": 54,
   "id": "0cfcc437",
   "metadata": {},
   "outputs": [],
   "source": [
    "query = \"INSERT INTO genc_info (genc_name, cohort) VALUES (%s, %s)\"\n",
    "values = [(\"Krithika\",\"AI&ML\"), \n",
    "          (\"Gayathri\",\"Technical\"), \n",
    "          (\"Buvana\",\"DS\")]\n",
    "connection.commit()"
   ]
  },
  {
   "cell_type": "code",
   "execution_count": 55,
   "id": "4713c65c",
   "metadata": {},
   "outputs": [],
   "source": [
    "mycursor.executemany(query,values)"
   ]
  },
  {
   "cell_type": "code",
   "execution_count": 56,
   "id": "23cccd61",
   "metadata": {},
   "outputs": [
    {
     "data": {
      "text/plain": [
       "[(1, 'Krithika', 'AI&ML'), (2, 'Gayathri', 'Technical'), (3, 'Buvana', 'DS')]"
      ]
     },
     "execution_count": 56,
     "metadata": {},
     "output_type": "execute_result"
    }
   ],
   "source": [
    "mycursor = connection.cursor()\n",
    "mycursor.execute(\"SELECT * FROM genc_info\")\n",
    "mycursor.fetchall()"
   ]
  },
  {
   "cell_type": "code",
   "execution_count": 59,
   "id": "f9f73276",
   "metadata": {},
   "outputs": [
    {
     "data": {
      "text/plain": [
       "[(1, 'Krithika', 'AI&ML')]"
      ]
     },
     "execution_count": 59,
     "metadata": {},
     "output_type": "execute_result"
    }
   ],
   "source": [
    "mycursor = connection.cursor()\n",
    "mycursor.execute(\"SELECT * FROM genc_info WHERE genc_name = 'Krithika'\")\n",
    "mycursor.fetchall()"
   ]
  },
  {
   "cell_type": "code",
   "execution_count": 60,
   "id": "8e84fd41",
   "metadata": {},
   "outputs": [
    {
     "data": {
      "text/plain": [
       "[('AI&ML',), ('Technical',), ('DS',)]"
      ]
     },
     "execution_count": 60,
     "metadata": {},
     "output_type": "execute_result"
    }
   ],
   "source": [
    "mycursor = connection.cursor()\n",
    "mycursor.execute(\"SELECT cohort FROM genc_info\")\n",
    "mycursor.fetchall()"
   ]
  }
 ],
 "metadata": {
  "kernelspec": {
   "display_name": "Python 3 (ipykernel)",
   "language": "python",
   "name": "python3"
  },
  "language_info": {
   "codemirror_mode": {
    "name": "ipython",
    "version": 3
   },
   "file_extension": ".py",
   "mimetype": "text/x-python",
   "name": "python",
   "nbconvert_exporter": "python",
   "pygments_lexer": "ipython3",
   "version": "3.9.12"
  }
 },
 "nbformat": 4,
 "nbformat_minor": 5
}
