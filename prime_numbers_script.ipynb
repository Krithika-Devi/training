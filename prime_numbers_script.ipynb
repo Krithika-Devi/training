{
  "nbformat": 4,
  "nbformat_minor": 0,
  "metadata": {
    "colab": {
      "name": "prime numbers script.ipynb",
      "provenance": [],
      "authorship_tag": "ABX9TyNRW/wNRdSL6Fgx1Ajiel12",
      "include_colab_link": true
    },
    "kernelspec": {
      "name": "python3",
      "display_name": "Python 3"
    },
    "language_info": {
      "name": "python"
    }
  },
  "cells": [
    {
      "cell_type": "markdown",
      "metadata": {
        "id": "view-in-github",
        "colab_type": "text"
      },
      "source": [
        "<a href=\"https://colab.research.google.com/github/Krithika-Devi/training/blob/main/prime_numbers_script.ipynb\" target=\"_parent\"><img src=\"https://colab.research.google.com/assets/colab-badge.svg\" alt=\"Open In Colab\"/></a>"
      ]
    },
    {
      "cell_type": "markdown",
      "source": [
        "[11:06] Pandey, Shantanu (Cognizant)\n",
        "Today's problem statement:\n",
        "\n",
        "Write a python notebook to generate a 2 scripts.\n",
        "\n",
        "Script 1: enter a number and print all prime numbers till that number\n",
        "\n",
        "Script 2: enter 2 numbers and print all prime numbers between them.\n",
        "\n",
        "Example:\n",
        "\n",
        "Input - 10\n",
        "\n",
        "Output- 2 3 5 7\n",
        "\n"
      ],
      "metadata": {
        "id": "YE__pSxXDnXg"
      }
    },
    {
      "cell_type": "code",
      "source": [
        "%%writefile Script1.py\n",
        "def prime():\n",
        "  num = int(input(\"Enter a number: \"))\n",
        "  print(\"Prime numbers between\", 1, \"and\", num,\": \")\n",
        "  for num in range(1,num+1):\n",
        "    if num > 1:\n",
        "      for i in range(2, num):\n",
        "        if (num%i == 0):\n",
        "          break\n",
        "      else:\n",
        "        print(num)"
      ],
      "metadata": {
        "id": "sSJozdQDDocj"
      },
      "execution_count": 46,
      "outputs": []
    },
    {
      "cell_type": "code",
      "source": [
        "%%writefile -a Script1.py\n",
        "prime()"
      ],
      "metadata": {
        "colab": {
          "base_uri": "https://localhost:8080/"
        },
        "id": "6Ioa3GogKhDI",
        "outputId": "34c70bb4-b597-4d18-f50e-a8fa9accca27"
      },
      "execution_count": 52,
      "outputs": [
        {
          "output_type": "stream",
          "name": "stdout",
          "text": [
            "Writing Script1.py\n"
          ]
        }
      ]
    },
    {
      "cell_type": "code",
      "source": [
        "%%writefile Script2.py\n",
        "def prime_range():\n",
        "  Lrange = int(input(\"Enter lowest range: \"))\n",
        "  Urange = int(input(\"Enter highest range: \"))\n",
        "  print (\"Prime Numbers between\", Lrange, \"and\", Urange, \"are: \")  \n",
        "  for num in range(Lrange,Urange+1):  \n",
        "    if num > 1:  \n",
        "      for i in range (2, num):  \n",
        "        if (num % i) == 0:  \n",
        "          break  \n",
        "        else:\n",
        "          print(num)  "
      ],
      "metadata": {
        "id": "xkByZhVdMPJA"
      },
      "execution_count": 49,
      "outputs": []
    },
    {
      "cell_type": "code",
      "source": [
        "%%writefile -a Script2.py\n",
        "prime_range()"
      ],
      "metadata": {
        "colab": {
          "base_uri": "https://localhost:8080/"
        },
        "id": "nWitb5T-Nmxu",
        "outputId": "8b6890e6-3a1e-4fd1-b81b-ded0552dfa3e"
      },
      "execution_count": 53,
      "outputs": [
        {
          "output_type": "stream",
          "name": "stdout",
          "text": [
            "Writing Script2.py\n"
          ]
        }
      ]
    }
  ]
}